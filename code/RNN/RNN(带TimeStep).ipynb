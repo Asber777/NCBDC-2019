{
 "cells": [
  {
   "cell_type": "code",
   "execution_count": 104,
   "metadata": {
    "collapsed": true
   },
   "outputs": [],
   "source": [
    "import numpy as np # linear algebra\n",
    "import pandas as pd # data processing, CSV file I/O (e.g. pd.read_csv)\n",
    "import os\n",
    "import time\n",
    "import matplotlib.pyplot as plt"
   ]
  },
  {
   "cell_type": "code",
   "execution_count": 106,
   "metadata": {},
   "outputs": [],
   "source": [
    "# get train data (use for train & test )\n",
    "path = lambda number:r\"C:\\Users\\14020\\Desktop\\NCBDC 2019\\Data\\NormaliezdData\\NormlizedTrainData\"+'\\\\'+str(number)+\".csv\"\n",
    "traindflist=[]\n",
    "DFSIZE=158\n",
    "for i in range(DFSIZE):\n",
    "    df=pd.read_csv( path(i) ).iloc[:,1:]\n",
    "    traindflist.append(df)"
   ]
  },
  {
   "cell_type": "code",
   "execution_count": 107,
   "metadata": {
    "collapsed": true
   },
   "outputs": [],
   "source": [
    "# get test data\n",
    "path = lambda number:r\"C:\\Users\\14020\\Desktop\\NCBDC 2019\\Data\\NormaliezdData\\NormilizedTestData\"+'\\\\'+str(number)+\".csv\"\n",
    "testdflist=[]\n",
    "DFSIZE=52\n",
    "for i in range(DFSIZE):\n",
    "    df=pd.read_csv( path(i) ).iloc[:,1:]\n",
    "    testdflist.append(df)"
   ]
  },
  {
   "cell_type": "markdown",
   "metadata": {},
   "source": [
    "# get data prepared"
   ]
  },
  {
   "cell_type": "code",
   "execution_count": 109,
   "metadata": {
    "collapsed": true
   },
   "outputs": [],
   "source": [
    "inputfeature=['total_voltage', 'total_current', 'soc', 'temp_max', 'temp_min',\n",
    "       'motor_voltage', 'motor_current', 'total_P', 'motor_P',\n",
    "       'tempMAXMINdiff', 'SOCgap']\n",
    "outputfeature=['milediff']\n",
    "TimeStep=24"
   ]
  },
  {
   "cell_type": "markdown",
   "metadata": {},
   "source": [
    "# 带TimeStep的LSTM"
   ]
  },
  {
   "cell_type": "code",
   "execution_count": 110,
   "metadata": {},
   "outputs": [
    {
     "data": {
      "text/plain": [
       "((240319, 24, 11), (240319,))"
      ]
     },
     "execution_count": 110,
     "metadata": {},
     "output_type": "execute_result"
    }
   ],
   "source": [
    "RNNX=[]\n",
    "RNNY=[]\n",
    "for df in traindflist:\n",
    "    X=df.loc[:,inputfeature].to_numpy()\n",
    "    y=df.loc[:,outputfeature].to_numpy()\n",
    "    lens=len(df)\n",
    "    for index in range(TimeStep,lens):\n",
    "        RNNX.append(X[index-TimeStep:index])\n",
    "        RNNY.append(y[index-TimeStep:index].sum())\n",
    "RNNX=np.array(RNNX)\n",
    "RNNY=np.array(RNNY)\n",
    "RNNX.shape,RNNY.shape"
   ]
  },
  {
   "cell_type": "markdown",
   "metadata": {},
   "source": [
    "## 数据分为测试集和训练集（可没有此步 ，因为我们有选择测试数据集）"
   ]
  },
  {
   "cell_type": "code",
   "execution_count": 111,
   "metadata": {
    "collapsed": true
   },
   "outputs": [],
   "source": [
    "from sklearn.model_selection import train_test_split #这里是引用了交叉验证\n",
    "X_train,X_test, y_train, y_test = train_test_split(RNNX,RNNY,test_size = 0.1,random_state=100)"
   ]
  },
  {
   "cell_type": "code",
   "execution_count": 112,
   "metadata": {
    "scrolled": false
   },
   "outputs": [
    {
     "name": "stdout",
     "output_type": "stream",
     "text": [
      "(216287, 24, 11) (216287,) (24032, 24, 11) (24032,)\n"
     ]
    }
   ],
   "source": [
    "print(X_train.shape , y_train.shape , X_test.shape , y_test.shape)"
   ]
  },
  {
   "cell_type": "code",
   "execution_count": 113,
   "metadata": {
    "collapsed": true
   },
   "outputs": [],
   "source": [
    "X_train=RNNX\n",
    "y_train=RNNY"
   ]
  },
  {
   "cell_type": "markdown",
   "metadata": {},
   "source": [
    "## RNN"
   ]
  },
  {
   "cell_type": "code",
   "execution_count": 114,
   "metadata": {
    "collapsed": true
   },
   "outputs": [],
   "source": [
    "from keras.models import Sequential\n",
    "from keras.layers import Dense , BatchNormalization , Dropout , Activation\n",
    "from keras.layers import LSTM , GRU\n",
    "from sklearn.preprocessing import MinMaxScaler\n",
    "from sklearn.metrics import mean_squared_error\n",
    "from keras.optimizers import Adam , SGD , RMSprop\n",
    "import matplotlib.pyplot as plt\n",
    "import math\n",
    "import tensorflow as tf"
   ]
  },
  {
   "cell_type": "markdown",
   "metadata": {},
   "source": [
    "### lr_reduce 设置损失不减则降低学习率\n",
    "### checkPoint设置保存模型"
   ]
  },
  {
   "cell_type": "code",
   "execution_count": 116,
   "metadata": {
    "scrolled": true
   },
   "outputs": [
    {
     "name": "stderr",
     "output_type": "stream",
     "text": [
      "D:\\ANACONDA\\envs\\tensorflow\\lib\\site-packages\\keras\\callbacks\\callbacks.py:998: UserWarning: `epsilon` argument is deprecated and will be removed, use `min_delta` instead.\n",
      "  warnings.warn('`epsilon` argument is deprecated and '\n"
     ]
    }
   ],
   "source": [
    "PathName=r\"C:\\Users\\14020\\Desktop\\NCBDC 2019\\model\\RNN\"\n",
    "filepath=PathName+\"\\\\3rd_weights.hdf5\"\n",
    "from keras.callbacks import ReduceLROnPlateau , ModelCheckpoint\n",
    "lr_reduce = ReduceLROnPlateau(monitor='val_loss', factor=0.1, epsilon=0.0001, patience=1, verbose=1)\n",
    "checkpoint = ModelCheckpoint(filepath, monitor='val_loss', verbose=1, save_best_only=True, mode='max')"
   ]
  },
  {
   "cell_type": "markdown",
   "metadata": {},
   "source": [
    "### 设置模型输入"
   ]
  },
  {
   "cell_type": "code",
   "execution_count": 117,
   "metadata": {
    "collapsed": true
   },
   "outputs": [],
   "source": [
    "BUFFER_SIZE=100\n",
    "BATCH_SIZE=25\n",
    "train_data_single = tf.data.Dataset.from_tensor_slices((X_train, y_train))\n",
    "train_data_single = train_data_single.cache().shuffle(BUFFER_SIZE).batch(BATCH_SIZE).repeat()\n",
    "\n",
    "val_data_single = tf.data.Dataset.from_tensor_slices((X_test, y_test))\n",
    "val_data_single = val_data_single.batch(BATCH_SIZE).repeat()"
   ]
  },
  {
   "cell_type": "markdown",
   "metadata": {},
   "source": [
    "##  设置模型结构"
   ]
  },
  {
   "cell_type": "code",
   "execution_count": 118,
   "metadata": {
    "collapsed": true
   },
   "outputs": [],
   "source": [
    "input_shape=X_train.shape[-2:]\n",
    "\n",
    "single_step_model = tf.keras.models.Sequential()\n",
    "\n",
    "single_step_model.add(tf.keras.layers.LSTM(32,\n",
    "                                           input_shape=input_shape))\n",
    "single_step_model.add(tf.keras.layers.Dense(1))\n",
    "\n",
    "single_step_model.compile(optimizer=tf.keras.optimizers.RMSprop(), loss='mae')\n",
    "#single_step_model.compile(loss='mean_squared_error', optimizer=Adam(lr = 0.009) , metrics = ['mean_squared_error'])"
   ]
  },
  {
   "cell_type": "code",
   "execution_count": 119,
   "metadata": {},
   "outputs": [
    {
     "name": "stdout",
     "output_type": "stream",
     "text": [
      "Train for 500 steps, validate for 50 steps\n",
      "Epoch 1/30\n",
      "493/500 [============================>.] - ETA: 0s - loss: 0.2516\n",
      "Epoch 00001: val_loss improved from -inf to 0.77696, saving model to C:\\Users\\14020\\Desktop\\NCBDC 2019\\model\\RNN\\3rd_weights.hdf5\n",
      "500/500 [==============================] - 47s 94ms/step - loss: 0.2512 - val_loss: 0.7770\n",
      "Epoch 2/30\n",
      "493/500 [============================>.] - ETA: 0s - loss: 0.1971\n",
      "Epoch 00002: val_loss did not improve from 0.77696\n",
      "500/500 [==============================] - 4s 9ms/step - loss: 0.1959 - val_loss: 0.4087\n",
      "Epoch 3/30\n",
      "499/500 [============================>.] - ETA: 0s - loss: 0.1743\n",
      "Epoch 00003: val_loss did not improve from 0.77696\n",
      "500/500 [==============================] - 4s 9ms/step - loss: 0.1743 - val_loss: 0.3353\n",
      "Epoch 4/30\n",
      "496/500 [============================>.] - ETA: 0s - loss: 0.1551\n",
      "Epoch 00004: val_loss did not improve from 0.77696\n",
      "500/500 [==============================] - 4s 9ms/step - loss: 0.1547 - val_loss: 0.3087\n",
      "Epoch 5/30\n",
      "498/500 [============================>.] - ETA: 0s - loss: 0.1327\n",
      "Epoch 00005: val_loss did not improve from 0.77696\n",
      "500/500 [==============================] - 4s 9ms/step - loss: 0.1325 - val_loss: 0.2927\n",
      "Epoch 6/30\n",
      "496/500 [============================>.] - ETA: 0s - loss: 0.1230\n",
      "Epoch 00006: val_loss did not improve from 0.77696\n",
      "\n",
      "Epoch 00006: ReduceLROnPlateau reducing learning rate to 0.00010000000474974513.\n",
      "500/500 [==============================] - 5s 9ms/step - loss: 0.1227 - val_loss: 0.3077\n",
      "Epoch 7/30\n",
      "495/500 [============================>.] - ETA: 0s - loss: 0.1467\n",
      "Epoch 00007: val_loss did not improve from 0.77696\n",
      "500/500 [==============================] - 5s 9ms/step - loss: 0.1462 - val_loss: 0.2771\n",
      "Epoch 8/30\n",
      "499/500 [============================>.] - ETA: 0s - loss: 0.2497\n",
      "Epoch 00008: val_loss did not improve from 0.77696\n",
      "500/500 [==============================] - 5s 10ms/step - loss: 0.2498 - val_loss: 0.2727\n",
      "Epoch 9/30\n",
      "494/500 [============================>.] - ETA: 0s - loss: 0.3100\n",
      "Epoch 00009: val_loss did not improve from 0.77696\n",
      "500/500 [==============================] - 5s 10ms/step - loss: 0.3113 - val_loss: 0.2437\n",
      "Epoch 10/30\n",
      "496/500 [============================>.] - ETA: 0s - loss: 0.2811\n",
      "Epoch 00010: val_loss did not improve from 0.77696\n",
      "500/500 [==============================] - 5s 10ms/step - loss: 0.2814 - val_loss: 0.2182\n",
      "Epoch 11/30\n",
      "497/500 [============================>.] - ETA: 0s - loss: 0.2615\n",
      "Epoch 00011: val_loss did not improve from 0.77696\n",
      "\n",
      "Epoch 00011: ReduceLROnPlateau reducing learning rate to 1.0000000474974514e-05.\n",
      "500/500 [==============================] - 6s 12ms/step - loss: 0.2620 - val_loss: 0.2285\n",
      "Epoch 12/30\n",
      "495/500 [============================>.] - ETA: 0s - loss: 0.2448\n",
      "Epoch 00012: val_loss did not improve from 0.77696\n",
      "\n",
      "Epoch 00012: ReduceLROnPlateau reducing learning rate to 1.0000000656873453e-06.\n",
      "500/500 [==============================] - 6s 12ms/step - loss: 0.2443 - val_loss: 0.2247\n",
      "Epoch 13/30\n",
      "497/500 [============================>.] - ETA: 0s - loss: 0.2849\n",
      "Epoch 00013: val_loss did not improve from 0.77696\n",
      "\n",
      "Epoch 00013: ReduceLROnPlateau reducing learning rate to 1.0000001111620805e-07.\n",
      "500/500 [==============================] - 6s 12ms/step - loss: 0.2853 - val_loss: 0.2255\n",
      "Epoch 14/30\n",
      "498/500 [============================>.] - ETA: 0s - loss: 0.3126\n",
      "Epoch 00014: val_loss did not improve from 0.77696\n",
      "\n",
      "Epoch 00014: ReduceLROnPlateau reducing learning rate to 1.000000082740371e-08.\n",
      "500/500 [==============================] - 6s 13ms/step - loss: 0.3128 - val_loss: 0.2255\n",
      "Epoch 15/30\n",
      "498/500 [============================>.] - ETA: 0s - loss: 0.2401\n",
      "Epoch 00015: val_loss did not improve from 0.77696\n",
      "\n",
      "Epoch 00015: ReduceLROnPlateau reducing learning rate to 1.000000082740371e-09.\n",
      "500/500 [==============================] - 6s 12ms/step - loss: 0.2404 - val_loss: 0.2255\n",
      "Epoch 16/30\n",
      "494/500 [============================>.] - ETA: 0s - loss: 0.2519\n",
      "Epoch 00016: val_loss did not improve from 0.77696\n",
      "\n",
      "Epoch 00016: ReduceLROnPlateau reducing learning rate to 1.000000082740371e-10.\n",
      "500/500 [==============================] - 6s 12ms/step - loss: 0.2510 - val_loss: 0.2255\n",
      "Epoch 17/30\n",
      "494/500 [============================>.] - ETA: 0s - loss: 0.2299\n",
      "Epoch 00017: val_loss did not improve from 0.77696\n",
      "\n",
      "Epoch 00017: ReduceLROnPlateau reducing learning rate to 1.000000082740371e-11.\n",
      "500/500 [==============================] - 6s 12ms/step - loss: 0.2292 - val_loss: 0.2255\n",
      "Epoch 18/30\n",
      "496/500 [============================>.] - ETA: 0s - loss: 0.2478\n",
      "Epoch 00018: val_loss did not improve from 0.77696\n",
      "\n",
      "Epoch 00018: ReduceLROnPlateau reducing learning rate to 1.000000082740371e-12.\n",
      "500/500 [==============================] - 6s 12ms/step - loss: 0.2476 - val_loss: 0.2255\n",
      "Epoch 19/30\n",
      "499/500 [============================>.] - ETA: 0s - loss: 0.2408\n",
      "Epoch 00019: val_loss did not improve from 0.77696\n",
      "\n",
      "Epoch 00019: ReduceLROnPlateau reducing learning rate to 1.0000001044244145e-13.\n",
      "500/500 [==============================] - 6s 11ms/step - loss: 0.2410 - val_loss: 0.2255\n",
      "Epoch 20/30\n",
      "498/500 [============================>.] - ETA: 0s - loss: 0.2119\n",
      "Epoch 00020: val_loss did not improve from 0.77696\n",
      "\n",
      "Epoch 00020: ReduceLROnPlateau reducing learning rate to 1.0000001179769417e-14.\n",
      "500/500 [==============================] - 5s 11ms/step - loss: 0.2120 - val_loss: 0.2255\n",
      "Epoch 21/30\n",
      "494/500 [============================>.] - ETA: 0s - loss: 0.2097\n",
      "Epoch 00021: val_loss did not improve from 0.77696\n",
      "\n",
      "Epoch 00021: ReduceLROnPlateau reducing learning rate to 1.0000001518582595e-15.\n",
      "500/500 [==============================] - 5s 10ms/step - loss: 0.2106 - val_loss: 0.2255\n",
      "Epoch 22/30\n",
      "496/500 [============================>.] - ETA: 0s - loss: 0.2292\n",
      "Epoch 00022: val_loss did not improve from 0.77696\n",
      "\n",
      "Epoch 00022: ReduceLROnPlateau reducing learning rate to 1.0000001095066122e-16.\n",
      "500/500 [==============================] - 5s 11ms/step - loss: 0.2282 - val_loss: 0.2255\n",
      "Epoch 23/30\n",
      "493/500 [============================>.] - ETA: 0s - loss: 0.1966\n",
      "Epoch 00023: val_loss did not improve from 0.77696\n",
      "\n",
      "Epoch 00023: ReduceLROnPlateau reducing learning rate to 1.0000000830368326e-17.\n",
      "500/500 [==============================] - 5s 10ms/step - loss: 0.1953 - val_loss: 0.2255\n",
      "Epoch 24/30\n",
      "499/500 [============================>.] - ETA: 0s - loss: 0.1628\n",
      "Epoch 00024: val_loss did not improve from 0.77696\n",
      "\n",
      "Epoch 00024: ReduceLROnPlateau reducing learning rate to 1.0000000664932204e-18.\n",
      "500/500 [==============================] - 5s 10ms/step - loss: 0.1630 - val_loss: 0.2255\n",
      "Epoch 25/30\n",
      "498/500 [============================>.] - ETA: 0s - loss: 0.1620\n",
      "Epoch 00025: val_loss did not improve from 0.77696\n",
      "\n",
      "Epoch 00025: ReduceLROnPlateau reducing learning rate to 1.000000045813705e-19.\n",
      "500/500 [==============================] - 5s 11ms/step - loss: 0.1620 - val_loss: 0.2255\n",
      "Epoch 26/30\n",
      "494/500 [============================>.] - ETA: 0s - loss: 0.2427\n",
      "Epoch 00026: val_loss did not improve from 0.77696\n",
      "\n",
      "Epoch 00026: ReduceLROnPlateau reducing learning rate to 1.000000032889008e-20.\n",
      "500/500 [==============================] - 5s 10ms/step - loss: 0.2423 - val_loss: 0.2255\n",
      "Epoch 27/30\n",
      "499/500 [============================>.] - ETA: 0s - loss: 0.2374\n",
      "Epoch 00027: val_loss did not improve from 0.77696\n",
      "\n",
      "Epoch 00027: ReduceLROnPlateau reducing learning rate to 1.0000000490448793e-21.\n",
      "500/500 [==============================] - 5s 10ms/step - loss: 0.2382 - val_loss: 0.2255\n",
      "Epoch 28/30\n",
      "494/500 [============================>.] - ETA: 0s - loss: 0.3286\n",
      "Epoch 00028: val_loss did not improve from 0.77696\n",
      "\n",
      "Epoch 00028: ReduceLROnPlateau reducing learning rate to 1.0000000692397185e-22.\n",
      "500/500 [==============================] - 5s 10ms/step - loss: 0.3280 - val_loss: 0.2255\n",
      "Epoch 29/30\n",
      "497/500 [============================>.] - ETA: 0s - loss: 0.2643\n",
      "Epoch 00029: val_loss did not improve from 0.77696\n",
      "\n",
      "Epoch 00029: ReduceLROnPlateau reducing learning rate to 1.0000000944832675e-23.\n",
      "500/500 [==============================] - 5s 10ms/step - loss: 0.2639 - val_loss: 0.2255\n",
      "Epoch 30/30\n",
      "499/500 [============================>.] - ETA: 0s - loss: 0.2631\n",
      "Epoch 00030: val_loss did not improve from 0.77696\n",
      "\n",
      "Epoch 00030: ReduceLROnPlateau reducing learning rate to 1.0000000787060494e-24.\n",
      "500/500 [==============================] - 5s 10ms/step - loss: 0.2632 - val_loss: 0.2255\n"
     ]
    }
   ],
   "source": [
    "EPOCHS=30\n",
    "EVALUATION_INTERVAL=500\n",
    "time_start=time.time()\n",
    "single_step_history = single_step_model.fit(train_data_single, epochs=EPOCHS,\n",
    "                                            steps_per_epoch=EVALUATION_INTERVAL,\n",
    "                                            validation_data=val_data_single,\n",
    "                                            validation_steps=50,callbacks = [checkpoint , lr_reduce])\n",
    "time_end=time.time()"
   ]
  },
  {
   "cell_type": "code",
   "execution_count": 120,
   "metadata": {},
   "outputs": [
    {
     "name": "stdout",
     "output_type": "stream",
     "text": [
      "totally cost 198.3333990573883\n"
     ]
    }
   ],
   "source": [
    "print('totally cost',time_end-time_start)"
   ]
  },
  {
   "cell_type": "markdown",
   "metadata": {},
   "source": [
    "## 画出模型loss曲线 查看收敛效果"
   ]
  },
  {
   "cell_type": "code",
   "execution_count": 121,
   "metadata": {
    "scrolled": false
   },
   "outputs": [
    {
     "data": {
      "image/png": "[encoded data removed]",
      "text/plain": [
       "<matplotlib.figure.Figure at 0x16703f7f320>"
      ]
     },
     "metadata": {},
     "output_type": "display_data"
    }
   ],
   "source": [
    "import matplotlib.pyplot as plt\n",
    "plt.plot(single_step_history.history['loss'])\n",
    "plt.title('model loss')\n",
    "plt.ylabel('loss')\n",
    "plt.xlabel('epoch')\n",
    "plt.legend(['train', 'test'], loc='upper left')\n",
    "plt.show()"
   ]
  },
  {
   "cell_type": "markdown",
   "metadata": {},
   "source": [
    "## (如果有)对上面分出来的测试数据测试（非我们小组定义的测试数据集）"
   ]
  },
  {
   "cell_type": "code",
   "execution_count": 122,
   "metadata": {},
   "outputs": [
    {
     "data": {
      "text/plain": [
       "(array([[ 2.1844077 ],\n",
       "        [-0.06517723],\n",
       "        [ 2.0161567 ],\n",
       "        ...,\n",
       "        [ 1.611495  ],\n",
       "        [ 0.01135138],\n",
       "        [ 2.6155288 ]], dtype=float32), (24032, 1), (24032, 24, 11))"
      ]
     },
     "execution_count": 122,
     "metadata": {},
     "output_type": "execute_result"
    }
   ],
   "source": [
    "pred = single_step_model.predict(X_test)\n",
    "pred,pred.shape,X_test.shape"
   ]
  },
  {
   "cell_type": "markdown",
   "metadata": {},
   "source": [
    "## 对指定测试集的数据查看"
   ]
  },
  {
   "cell_type": "code",
   "execution_count": 123,
   "metadata": {},
   "outputs": [
    {
     "name": "stdout",
     "output_type": "stream",
     "text": [
      "测试集 0 的预测结果是： 125.17151 真实结果是 123.90000000000146\n",
      "相差： 1.2715087890610448\n"
     ]
    }
   ],
   "source": [
    "number=0\n",
    "df=testdflist[number]\n",
    "TestX=[]\n",
    "TestY=[]\n",
    "X=df.loc[:,inputfeature].to_numpy()\n",
    "y=df.loc[:,outputfeature].to_numpy()\n",
    "lens=len(df)\n",
    "for index in range(TimeStep,lens):\n",
    "    if(int(index % TimeStep)==0):\n",
    "        TestX.append(X[index-TimeStep:index])\n",
    "        TestY.append(y[index-TimeStep:index].sum())\n",
    "TestX=np.array(TestX)\n",
    "TestY=np.array(TestY)\n",
    "pred = single_step_model.predict(TestX)\n",
    "pred = pred.cumsum()\n",
    "print(\"测试集\",number,\"的预测结果是：\",pred[-1],\"真实结果是\",df.iloc[-1].milegap)\n",
    "diff=pred[-1]-df.iloc[-1].milegap\n",
    "print(\"相差：\",diff)"
   ]
  },
  {
   "cell_type": "code",
   "execution_count": 126,
   "metadata": {
    "scrolled": true
   },
   "outputs": [
    {
     "name": "stdout",
     "output_type": "stream",
     "text": [
      "测试集 0 的预测结果是： 125.17151 真实结果是 123.90000000000146\n",
      "测试集 1 的预测结果是： 100.945015 真实结果是 106.79999999999563\n",
      "测试集 2 的预测结果是： 109.910965 真实结果是 106.90000000000146\n",
      "测试集 3 的预测结果是： 62.08498 真实结果是 54.59999999999855\n",
      "测试集 4 的预测结果是： 113.07635 真实结果是 102.20000000000437\n",
      "测试集 5 的预测结果是： 114.48634 真实结果是 116.5\n",
      "测试集 6 的预测结果是： 102.565605 真实结果是 105.39999999999418\n",
      "测试集 7 的预测结果是： 117.44604 真实结果是 115.69999999999708\n",
      "测试集 8 的预测结果是： 16.85339 真实结果是 18.599999999998552\n",
      "测试集 9 的预测结果是： 98.89158 真实结果是 101.19999999999708\n",
      "测试集 10 的预测结果是： 106.97667 真实结果是 98.0\n",
      "测试集 11 的预测结果是： 125.932816 真实结果是 122.09999999999854\n",
      "测试集 12 的预测结果是： 117.63388 真实结果是 116.29999999999563\n",
      "测试集 13 的预测结果是： 125.422485 真实结果是 115.89999999999418\n",
      "测试集 14 的预测结果是： 139.0267 真实结果是 122.79999999999563\n",
      "测试集 15 的预测结果是： 128.274 真实结果是 114.29999999999563\n",
      "测试集 16 的预测结果是： 150.98763 真实结果是 121.0\n",
      "测试集 17 的预测结果是： 99.82696 真实结果是 126.89999999999418\n",
      "测试集 18 的预测结果是： 116.09512 真实结果是 112.40000000000146\n",
      "测试集 19 的预测结果是： 109.9476 真实结果是 112.60000000000582\n",
      "测试集 20 的预测结果是： 78.42944 真实结果是 77.69999999999709\n",
      "测试集 21 的预测结果是： 115.50091 真实结果是 119.0\n",
      "测试集 22 的预测结果是： 107.69917 真实结果是 117.09999999999854\n",
      "测试集 23 的预测结果是： 8.837518 真实结果是 9.69999999999709\n",
      "测试集 24 的预测结果是： 18.733881 真实结果是 20.29999999999564\n",
      "测试集 25 的预测结果是： 86.62296 真实结果是 98.5\n",
      "测试集 26 的预测结果是： 67.668686 真实结果是 77.29999999999562\n",
      "测试集 27 的预测结果是： 121.77445 真实结果是 120.40000000000146\n",
      "测试集 28 的预测结果是： 96.532906 真实结果是 105.40000000000146\n",
      "测试集 29 的预测结果是： 75.82419 真实结果是 74.59999999999854\n",
      "测试集 30 的预测结果是： 86.206375 真实结果是 83.69999999999709\n",
      "测试集 31 的预测结果是： 108.84173 真实结果是 112.5\n",
      "测试集 32 的预测结果是： 100.80126 真实结果是 113.5\n",
      "测试集 33 的预测结果是： 1.3982588 真实结果是 0.9000000000014552\n",
      "测试集 34 的预测结果是： 93.29136 真实结果是 98.69999999999708\n",
      "测试集 35 的预测结果是： 96.31931 真实结果是 103.39999999999418\n",
      "测试集 36 的预测结果是： 134.59021 真实结果是 129.90000000000146\n",
      "测试集 37 的预测结果是： 100.54451 真实结果是 107.69999999999708\n",
      "测试集 38 的预测结果是： 123.07102 真实结果是 129.89999999999418\n",
      "测试集 39 的预测结果是： 92.857994 真实结果是 99.5\n",
      "测试集 40 的预测结果是： 9.846795 真实结果是 4.0\n",
      "测试集 41 的预测结果是： 13.9473095 真实结果是 16.400000000001455\n",
      "测试集 42 的预测结果是： 51.328995 真实结果是 55.200000000004366\n",
      "测试集 43 的预测结果是： 92.169586 真实结果是 99.0\n",
      "测试集 44 的预测结果是： 47.191006 真实结果是 57.09999999999855\n",
      "测试集 45 的预测结果是： 121.695724 真实结果是 113.69999999999708\n",
      "测试集 46 的预测结果是： 62.889225 真实结果是 68.90000000000146\n",
      "测试集 47 的预测结果是： 121.58223 真实结果是 120.30000000000292\n",
      "测试集 48 的预测结果是： 59.78765 真实结果是 62.80000000000291\n",
      "测试集 49 的预测结果是： 100.46303 真实结果是 96.39999999999418\n",
      "测试集 50 的预测结果是： 109.345146 真实结果是 108.5\n",
      "测试集 51 的预测结果是： 122.59495 真实结果是 117.80000000000292\n"
     ]
    }
   ],
   "source": [
    "difflist=[]\n",
    "for number,df in enumerate(testdflist):\n",
    "    TestX=[]\n",
    "    TestY=[]\n",
    "    X=df.loc[:,inputfeature].to_numpy()\n",
    "    y=df.loc[:,outputfeature].to_numpy()\n",
    "    lens=len(df)\n",
    "    for index in range(TimeStep,lens):\n",
    "        if(int(index % TimeStep)==0):\n",
    "            TestX.append(X[index-TimeStep:index])\n",
    "            TestY.append(y[index-TimeStep:index])\n",
    "    TestX=np.array(TestX)\n",
    "    TestY=np.array(TestY)\n",
    "    pred = single_step_model.predict(TestX)\n",
    "    pred = pred.cumsum()\n",
    "    print(\"测试集\",number,\"的预测结果是：\",pred[-1],\"真实结果是\",df.iloc[-1].milegap)\n",
    "    diff=pred[-1]-df.iloc[-1].milegap\n",
    "    difflist.append(diff/df.iloc[-1].milegap)"
   ]
  },
  {
   "cell_type": "code",
   "execution_count": 125,
   "metadata": {
    "collapsed": true
   },
   "outputs": [],
   "source": [
    "PathName=r\"C:\\Users\\14020\\Desktop\\NCBDC 2019\\model\\RNN\""
   ]
  },
  {
   "cell_type": "code",
   "execution_count": 127,
   "metadata": {
    "scrolled": true
   },
   "outputs": [
    {
     "name": "stdout",
     "output_type": "stream",
     "text": [
      "MSE: 0.23285140473790308\n"
     ]
    }
   ],
   "source": [
    "MSE=(sum(np.array(difflist)**2)/52)**(1/2)\n",
    "print(\"MSE:\",MSE)"
   ]
  },
  {
   "cell_type": "code",
   "execution_count": 128,
   "metadata": {
    "collapsed": true
   },
   "outputs": [],
   "source": [
    "def save(filename, inputfeature,outputfeature,TimeStep,MSE,model):\n",
    "    fh = open(filename, 'w', encoding='utf-8')\n",
    "    fh.write(\"inputfeature:\")\n",
    "    for string in inputfeature:\n",
    "        fh.write(string)\n",
    "    fh.write('\\r')\n",
    "    fh.write(\"outputfeature:\")\n",
    "    for string in outputfeature:\n",
    "        fh.write(string)\n",
    "    fh.write('\\r')\n",
    "    fh.write(\"TimeStep:\")\n",
    "    fh.write(str(TimeStep))\n",
    "    fh.write('\\r')\n",
    "    fh.write(\"MSE:\")\n",
    "    fh.write(str(MSE))\n",
    "    fh.write('\\r')\n",
    "    fh.write(\"model:\")\n",
    "    fh.write(model)\n",
    "    fh.write('\\r')\n",
    "    fh.close()\n",
    "save(PathName+\"\\\\3rdDemo.txt\",inputfeature,outputfeature,TimeStep,MSE,\"LSTM(32),Dense(1),optimizer=tf.keras.optimizers.RMSprop(), loss='mae'\")\n",
    "#single_step_model.compile(loss='mean_squared_error', optimizer=Adam(lr = 0.001) , metrics = ['mean_squared_error'])\")"
   ]
  },
  {
   "cell_type": "markdown",
   "metadata": {
    "collapsed": true
   },
   "source": [
    "Useless code"
   ]
  },
  {
   "cell_type": "raw",
   "metadata": {},
   "source": [
    "#对一个数据集df的数据进行RNN输入化处理\n",
    "X=df.loc[:,inputfeature].to_numpy()\n",
    "y=df.loc[:,outputfeature].to_numpy()\n",
    "newX=X.reshape(X.shape[0],1,X.shape[1])\n",
    "lens=len(newX)\n",
    "RNNX=[]\n",
    "for index,x in enumerate(newX):\n",
    "    if(index<lens-TimeStep):\n",
    "        RNNX.append(X[index:index+TimeStep])\n",
    "    else:\n",
    "        break\n",
    "RNNX=np.array(RNNX)\n",
    "RNNY=[]\n",
    "for index,i in enumerate(y):\n",
    "    if(index<lens-TimeStep):\n",
    "        RNNY.append(y[index:index+TimeStep].sum()*100)\n",
    "    else:\n",
    "        break\n",
    "RNNY=np.array(RNNY)"
   ]
  }
 ],
 "metadata": {
  "kernelspec": {
   "display_name": "Python [conda env:tensorflow]",
   "language": "python",
   "name": "conda-env-tensorflow-py"
  },
  "language_info": {
   "codemirror_mode": {
    "name": "ipython",
    "version": 3
   },
   "file_extension": ".py",
   "mimetype": "text/x-python",
   "name": "python",
   "nbconvert_exporter": "python",
   "pygments_lexer": "ipython3",
   "version": "3.5.2"
  }
 },
 "nbformat": 4,
 "nbformat_minor": 2
}
