{
 "cells": [
  {
   "cell_type": "code",
   "execution_count": 1,
   "metadata": {
    "collapsed": true
   },
   "outputs": [],
   "source": [
    "import numpy as np # linear algebra\n",
    "import pandas as pd # data processing, CSV file I/O (e.g. pd.read_csv)\n",
    "import os\n",
    "import time\n",
    "import matplotlib.pyplot as plt"
   ]
  },
  {
   "cell_type": "code",
   "execution_count": 2,
   "metadata": {
    "collapsed": true
   },
   "outputs": [],
   "source": [
    "# get train data (use for train & test )\n",
    "path = lambda number:r\"C:\\Users\\14020\\Desktop\\NCBDC 2019\\Data\\NormaliezdData\\NormlizedTrainData\"+'\\\\'+str(number)+\".csv\"\n",
    "traindflist=[]\n",
    "DFSIZE=158\n",
    "for i in range(DFSIZE):\n",
    "    df=pd.read_csv( path(i) ).iloc[:,1:]\n",
    "    traindflist.append(df)"
   ]
  },
  {
   "cell_type": "code",
   "execution_count": 3,
   "metadata": {
    "collapsed": true
   },
   "outputs": [],
   "source": [
    "# get test data\n",
    "path = lambda number:r\"C:\\Users\\14020\\Desktop\\NCBDC 2019\\Data\\NormaliezdData\\NormilizedTestData\"+'\\\\'+str(number)+\".csv\"\n",
    "testdflist=[]\n",
    "DFSIZE=52\n",
    "for i in range(DFSIZE):\n",
    "    df=pd.read_csv( path(i) ).iloc[:,1:]\n",
    "    testdflist.append(df)"
   ]
  },
  {
   "cell_type": "markdown",
   "metadata": {},
   "source": [
    "# get data prepared"
   ]
  },
  {
   "cell_type": "code",
   "execution_count": 4,
   "metadata": {
    "collapsed": true
   },
   "outputs": [],
   "source": [
    "inputfeature=['total_voltage', 'total_current', 'soc', 'temp_max', 'temp_min',\n",
    "       'motor_voltage', 'motor_current', 'total_P', 'motor_P',\n",
    "       'tempMAXMINdiff', 'SOCgap']\n",
    "outputfeature=['milediff']\n",
    "TimeStep=24"
   ]
  },
  {
   "cell_type": "markdown",
   "metadata": {},
   "source": [
    "# 带TimeStep的LSTM"
   ]
  },
  {
   "cell_type": "code",
   "execution_count": 5,
   "metadata": {},
   "outputs": [
    {
     "data": {
      "text/plain": [
       "((240319, 24, 11), (240319,))"
      ]
     },
     "execution_count": 5,
     "metadata": {},
     "output_type": "execute_result"
    }
   ],
   "source": [
    "RNNX=[]\n",
    "RNNY=[]\n",
    "for df in traindflist:\n",
    "    X=df.loc[:,inputfeature].to_numpy()\n",
    "    y=df.loc[:,outputfeature].to_numpy()\n",
    "    lens=len(df)\n",
    "    for index in range(TimeStep,lens):\n",
    "        RNNX.append(X[index-TimeStep:index])\n",
    "        RNNY.append(y[index-TimeStep:index].sum())\n",
    "RNNX=np.array(RNNX)\n",
    "RNNY=np.array(RNNY)\n",
    "RNNX.shape,RNNY.shape"
   ]
  },
  {
   "cell_type": "markdown",
   "metadata": {},
   "source": [
    "## 数据分为测试集和训练集（可没有此步 ，因为我们有选择测试数据集）"
   ]
  },
  {
   "cell_type": "code",
   "execution_count": 6,
   "metadata": {
    "collapsed": true
   },
   "outputs": [],
   "source": [
    "from sklearn.model_selection import train_test_split #这里是引用了交叉验证\n",
    "X_train,X_test, y_train, y_test = train_test_split(RNNX,RNNY,test_size = 0.1,random_state=100)"
   ]
  },
  {
   "cell_type": "code",
   "execution_count": 7,
   "metadata": {
    "scrolled": false
   },
   "outputs": [
    {
     "name": "stdout",
     "output_type": "stream",
     "text": [
      "(216287, 24, 11) (216287,) (24032, 24, 11) (24032,)\n"
     ]
    }
   ],
   "source": [
    "print(X_train.shape , y_train.shape , X_test.shape , y_test.shape)"
   ]
  },
  {
   "cell_type": "code",
   "execution_count": 8,
   "metadata": {
    "collapsed": true
   },
   "outputs": [],
   "source": [
    "X_train=RNNX\n",
    "y_train=RNNY"
   ]
  },
  {
   "cell_type": "markdown",
   "metadata": {},
   "source": [
    "## RNN"
   ]
  },
  {
   "cell_type": "code",
   "execution_count": 9,
   "metadata": {},
   "outputs": [
    {
     "name": "stderr",
     "output_type": "stream",
     "text": [
      "Using TensorFlow backend.\n"
     ]
    }
   ],
   "source": [
    "from keras.models import Sequential\n",
    "from keras.layers import Dense , BatchNormalization , Dropout , Activation\n",
    "from keras.layers import LSTM , GRU\n",
    "from sklearn.preprocessing import MinMaxScaler\n",
    "from sklearn.metrics import mean_squared_error\n",
    "from keras.optimizers import Adam , SGD , RMSprop\n",
    "import matplotlib.pyplot as plt\n",
    "import math\n",
    "import tensorflow as tf"
   ]
  },
  {
   "cell_type": "markdown",
   "metadata": {},
   "source": [
    "### lr_reduce 设置损失不减则降低学习率\n",
    "### checkPoint设置保存模型"
   ]
  },
  {
   "cell_type": "code",
   "execution_count": 10,
   "metadata": {
    "scrolled": true
   },
   "outputs": [
    {
     "name": "stderr",
     "output_type": "stream",
     "text": [
      "D:\\ANACONDA\\envs\\tensorflow\\lib\\site-packages\\keras\\callbacks\\callbacks.py:998: UserWarning: `epsilon` argument is deprecated and will be removed, use `min_delta` instead.\n",
      "  warnings.warn('`epsilon` argument is deprecated and '\n"
     ]
    }
   ],
   "source": [
    "PathName=r\"C:\\Users\\14020\\Desktop\\NCBDC 2019\\model\\RNN\"\n",
    "filepath=PathName+\"\\\\3rd_weights.hdf5\"\n",
    "from keras.callbacks import ReduceLROnPlateau , ModelCheckpoint\n",
    "lr_reduce = ReduceLROnPlateau(monitor='val_loss', factor=0.1, epsilon=0.0001, patience=1, verbose=1)\n",
    "checkpoint = ModelCheckpoint(filepath, monitor='val_loss', verbose=1, save_best_only=True, mode='max')"
   ]
  },
  {
   "cell_type": "markdown",
   "metadata": {},
   "source": [
    "### 设置模型输入"
   ]
  },
  {
   "cell_type": "code",
   "execution_count": 11,
   "metadata": {
    "collapsed": true
   },
   "outputs": [],
   "source": [
    "BUFFER_SIZE=100\n",
    "BATCH_SIZE=25\n",
    "train_data_single = tf.data.Dataset.from_tensor_slices((X_train, y_train))\n",
    "train_data_single = train_data_single.cache().shuffle(BUFFER_SIZE).batch(BATCH_SIZE).repeat()\n",
    "\n",
    "val_data_single = tf.data.Dataset.from_tensor_slices((X_test, y_test))\n",
    "val_data_single = val_data_single.batch(BATCH_SIZE).repeat()"
   ]
  },
  {
   "cell_type": "markdown",
   "metadata": {},
   "source": [
    "##  设置模型结构"
   ]
  },
  {
   "cell_type": "code",
   "execution_count": 12,
   "metadata": {
    "collapsed": true
   },
   "outputs": [],
   "source": [
    "input_shape=X_train.shape[-2:]\n",
    "\n",
    "single_step_model = tf.keras.models.Sequential()\n",
    "\n",
    "single_step_model.add(tf.keras.layers.LSTM(32,\n",
    "                                           input_shape=input_shape))\n",
    "single_step_model.add(tf.keras.layers.Dense(1))\n",
    "\n",
    "single_step_model.compile(optimizer=tf.keras.optimizers.RMSprop(), loss='mae')\n",
    "#single_step_model.compile(loss='mean_squared_error', optimizer=Adam(lr = 0.009) , metrics = ['mean_squared_error'])"
   ]
  },
  {
   "cell_type": "code",
   "execution_count": 13,
   "metadata": {},
   "outputs": [
    {
     "name": "stdout",
     "output_type": "stream",
     "text": [
      "Train for 500 steps, validate for 50 steps\n",
      "Epoch 1/30\n",
      "493/500 [============================>.] - ETA: 0s - loss: 0.2351\n",
      "Epoch 00001: val_loss improved from -inf to 0.86092, saving model to C:\\Users\\14020\\Desktop\\NCBDC 2019\\model\\RNN\\3rd_weights.hdf5\n",
      "500/500 [==============================] - 11s 22ms/step - loss: 0.2347 - val_loss: 0.8609\n",
      "Epoch 2/30\n",
      "494/500 [============================>.] - ETA: 0s - loss: 0.1947\n",
      "Epoch 00002: val_loss did not improve from 0.86092\n",
      "500/500 [==============================] - 4s 8ms/step - loss: 0.1939 - val_loss: 0.4334\n",
      "Epoch 3/30\n",
      "495/500 [============================>.] - ETA: 0s - loss: 0.1797\n",
      "Epoch 00003: val_loss did not improve from 0.86092\n",
      "500/500 [==============================] - 4s 8ms/step - loss: 0.1794 - val_loss: 0.3846\n",
      "Epoch 4/30\n",
      "492/500 [============================>.] - ETA: 0s - loss: 0.1617\n",
      "Epoch 00004: val_loss did not improve from 0.86092\n",
      "\n",
      "Epoch 00004: ReduceLROnPlateau reducing learning rate to 0.00010000000474974513.\n",
      "500/500 [==============================] - 4s 8ms/step - loss: 0.1614 - val_loss: 0.3853\n",
      "Epoch 5/30\n",
      "499/500 [============================>.] - ETA: 0s - loss: 0.1830\n",
      "Epoch 00005: val_loss did not improve from 0.86092\n",
      "500/500 [==============================] - 4s 8ms/step - loss: 0.1827 - val_loss: 0.3028\n",
      "Epoch 6/30\n",
      "499/500 [============================>.] - ETA: 0s - loss: 0.1490\n",
      "Epoch 00006: val_loss did not improve from 0.86092\n",
      "500/500 [==============================] - 4s 8ms/step - loss: 0.1493 - val_loss: 0.2875\n",
      "Epoch 7/30\n",
      "496/500 [============================>.] - ETA: 0s - loss: 0.1808\n",
      "Epoch 00007: val_loss did not improve from 0.86092\n",
      "500/500 [==============================] - 4s 8ms/step - loss: 0.1802 - val_loss: 0.2660\n",
      "Epoch 8/30\n",
      "493/500 [============================>.] - ETA: 0s - loss: 0.2824\n",
      "Epoch 00008: val_loss did not improve from 0.86092\n",
      "\n",
      "Epoch 00008: ReduceLROnPlateau reducing learning rate to 1.0000000474974514e-05.\n",
      "500/500 [==============================] - 4s 9ms/step - loss: 0.2824 - val_loss: 0.2939\n",
      "Epoch 9/30\n",
      "497/500 [============================>.] - ETA: 0s - loss: 0.3517\n",
      "Epoch 00009: val_loss did not improve from 0.86092\n",
      "\n",
      "Epoch 00009: ReduceLROnPlateau reducing learning rate to 1.0000000656873453e-06.\n",
      "500/500 [==============================] - 4s 8ms/step - loss: 0.3533 - val_loss: 0.2757\n",
      "Epoch 10/30\n",
      "492/500 [============================>.] - ETA: 0s - loss: 0.3582\n",
      "Epoch 00010: val_loss did not improve from 0.86092\n",
      "\n",
      "Epoch 00010: ReduceLROnPlateau reducing learning rate to 1.0000001111620805e-07.\n",
      "500/500 [==============================] - 4s 8ms/step - loss: 0.3588 - val_loss: 0.2746\n",
      "Epoch 11/30\n",
      "499/500 [============================>.] - ETA: 0s - loss: 0.3680\n",
      "Epoch 00011: val_loss did not improve from 0.86092\n",
      "\n",
      "Epoch 00011: ReduceLROnPlateau reducing learning rate to 1.000000082740371e-08.\n",
      "500/500 [==============================] - 4s 8ms/step - loss: 0.3680 - val_loss: 0.2744\n",
      "Epoch 12/30\n",
      "495/500 [============================>.] - ETA: 0s - loss: 0.3330\n",
      "Epoch 00012: val_loss did not improve from 0.86092\n",
      "\n",
      "Epoch 00012: ReduceLROnPlateau reducing learning rate to 1.000000082740371e-09.\n",
      "500/500 [==============================] - 4s 8ms/step - loss: 0.3313 - val_loss: 0.2744\n",
      "Epoch 13/30\n",
      "494/500 [============================>.] - ETA: 0s - loss: 0.3535\n",
      "Epoch 00013: val_loss did not improve from 0.86092\n",
      "\n",
      "Epoch 00013: ReduceLROnPlateau reducing learning rate to 1.000000082740371e-10.\n",
      "500/500 [==============================] - 4s 9ms/step - loss: 0.3577 - val_loss: 0.2744\n",
      "Epoch 14/30\n",
      "495/500 [============================>.] - ETA: 0s - loss: 0.3999\n",
      "Epoch 00014: val_loss did not improve from 0.86092\n",
      "\n",
      "Epoch 00014: ReduceLROnPlateau reducing learning rate to 1.000000082740371e-11.\n",
      "500/500 [==============================] - 4s 8ms/step - loss: 0.4012 - val_loss: 0.2744\n",
      "Epoch 15/30\n",
      "495/500 [============================>.] - ETA: 0s - loss: 0.2617\n",
      "Epoch 00015: val_loss did not improve from 0.86092\n",
      "\n",
      "Epoch 00015: ReduceLROnPlateau reducing learning rate to 1.000000082740371e-12.\n",
      "500/500 [==============================] - 4s 8ms/step - loss: 0.2612 - val_loss: 0.2744\n",
      "Epoch 16/30\n",
      "493/500 [============================>.] - ETA: 0s - loss: 0.2159\n",
      "Epoch 00016: val_loss did not improve from 0.86092\n",
      "\n",
      "Epoch 00016: ReduceLROnPlateau reducing learning rate to 1.0000001044244145e-13.\n",
      "500/500 [==============================] - 4s 8ms/step - loss: 0.2145 - val_loss: 0.2744\n",
      "Epoch 17/30\n",
      "499/500 [============================>.] - ETA: 0s - loss: 0.2343\n",
      "Epoch 00017: val_loss did not improve from 0.86092\n",
      "\n",
      "Epoch 00017: ReduceLROnPlateau reducing learning rate to 1.0000001179769417e-14.\n",
      "500/500 [==============================] - 4s 8ms/step - loss: 0.2345 - val_loss: 0.2744\n",
      "Epoch 18/30\n",
      "499/500 [============================>.] - ETA: 0s - loss: 0.2934\n",
      "Epoch 00018: val_loss did not improve from 0.86092\n",
      "\n",
      "Epoch 00018: ReduceLROnPlateau reducing learning rate to 1.0000001518582595e-15.\n",
      "500/500 [==============================] - 4s 8ms/step - loss: 0.2935 - val_loss: 0.2744\n",
      "Epoch 19/30\n",
      "498/500 [============================>.] - ETA: 0s - loss: 0.2614\n",
      "Epoch 00019: val_loss did not improve from 0.86092\n",
      "\n",
      "Epoch 00019: ReduceLROnPlateau reducing learning rate to 1.0000001095066122e-16.\n",
      "500/500 [==============================] - 4s 8ms/step - loss: 0.2609 - val_loss: 0.2744\n",
      "Epoch 20/30\n",
      "497/500 [============================>.] - ETA: 0s - loss: 0.2283\n",
      "Epoch 00020: val_loss did not improve from 0.86092\n",
      "\n",
      "Epoch 00020: ReduceLROnPlateau reducing learning rate to 1.0000000830368326e-17.\n",
      "500/500 [==============================] - 4s 9ms/step - loss: 0.2288 - val_loss: 0.2744\n",
      "Epoch 21/30\n",
      "495/500 [============================>.] - ETA: 0s - loss: 0.2387\n",
      "Epoch 00021: val_loss did not improve from 0.86092\n",
      "\n",
      "Epoch 00021: ReduceLROnPlateau reducing learning rate to 1.0000000664932204e-18.\n",
      "500/500 [==============================] - 4s 8ms/step - loss: 0.2387 - val_loss: 0.2744\n",
      "Epoch 22/30\n",
      "496/500 [============================>.] - ETA: 0s - loss: 0.2495\n",
      "Epoch 00022: val_loss did not improve from 0.86092\n",
      "\n",
      "Epoch 00022: ReduceLROnPlateau reducing learning rate to 1.000000045813705e-19.\n",
      "500/500 [==============================] - 4s 8ms/step - loss: 0.2487 - val_loss: 0.2744\n",
      "Epoch 23/30\n",
      "498/500 [============================>.] - ETA: 0s - loss: 0.1993\n",
      "Epoch 00023: val_loss did not improve from 0.86092\n",
      "\n",
      "Epoch 00023: ReduceLROnPlateau reducing learning rate to 1.000000032889008e-20.\n",
      "500/500 [==============================] - 4s 9ms/step - loss: 0.1991 - val_loss: 0.2744\n",
      "Epoch 24/30\n",
      "496/500 [============================>.] - ETA: 0s - loss: 0.2375\n",
      "Epoch 00024: val_loss did not improve from 0.86092\n",
      "\n",
      "Epoch 00024: ReduceLROnPlateau reducing learning rate to 1.0000000490448793e-21.\n",
      "500/500 [==============================] - 4s 8ms/step - loss: 0.2391 - val_loss: 0.2744\n",
      "Epoch 25/30\n",
      "499/500 [============================>.] - ETA: 0s - loss: 0.2358\n",
      "Epoch 00025: val_loss did not improve from 0.86092\n",
      "\n",
      "Epoch 00025: ReduceLROnPlateau reducing learning rate to 1.0000000692397185e-22.\n",
      "500/500 [==============================] - 4s 8ms/step - loss: 0.2356 - val_loss: 0.2744\n",
      "Epoch 26/30\n",
      "498/500 [============================>.] - ETA: 0s - loss: 0.2752\n",
      "Epoch 00026: val_loss did not improve from 0.86092\n",
      "\n",
      "Epoch 00026: ReduceLROnPlateau reducing learning rate to 1.0000000944832675e-23.\n",
      "500/500 [==============================] - 4s 8ms/step - loss: 0.2747 - val_loss: 0.2744\n",
      "Epoch 27/30\n",
      "494/500 [============================>.] - ETA: 0s - loss: 0.2558\n",
      "Epoch 00027: val_loss did not improve from 0.86092\n",
      "\n",
      "Epoch 00027: ReduceLROnPlateau reducing learning rate to 1.0000000787060494e-24.\n",
      "500/500 [==============================] - 4s 8ms/step - loss: 0.2595 - val_loss: 0.2744\n",
      "Epoch 28/30\n",
      "492/500 [============================>.] - ETA: 0s - loss: 0.3755\n",
      "Epoch 00028: val_loss did not improve from 0.86092\n",
      "\n",
      "Epoch 00028: ReduceLROnPlateau reducing learning rate to 1.0000001181490946e-25.\n",
      "500/500 [==============================] - 4s 8ms/step - loss: 0.3751 - val_loss: 0.2744\n",
      "Epoch 29/30\n",
      "497/500 [============================>.] - ETA: 0s - loss: 0.3516\n",
      "Epoch 00029: val_loss did not improve from 0.86092\n",
      "\n",
      "Epoch 00029: ReduceLROnPlateau reducing learning rate to 1.0000001428009978e-26.\n",
      "500/500 [==============================] - 4s 8ms/step - loss: 0.3511 - val_loss: 0.2744\n"
     ]
    },
    {
     "name": "stdout",
     "output_type": "stream",
     "text": [
      "Epoch 30/30\n",
      "499/500 [============================>.] - ETA: 0s - loss: 0.3690\n",
      "Epoch 00030: val_loss did not improve from 0.86092\n",
      "\n",
      "Epoch 00030: ReduceLROnPlateau reducing learning rate to 1.000000142800998e-27.\n",
      "500/500 [==============================] - 4s 8ms/step - loss: 0.3691 - val_loss: 0.2744\n"
     ]
    }
   ],
   "source": [
    "EPOCHS=30\n",
    "EVALUATION_INTERVAL=500\n",
    "time_start=time.time()\n",
    "single_step_history = single_step_model.fit(train_data_single, epochs=EPOCHS,\n",
    "                                            steps_per_epoch=EVALUATION_INTERVAL,\n",
    "                                            validation_data=val_data_single,\n",
    "                                            validation_steps=50,callbacks = [checkpoint , lr_reduce])\n",
    "time_end=time.time()"
   ]
  },
  {
   "cell_type": "code",
   "execution_count": 14,
   "metadata": {},
   "outputs": [
    {
     "name": "stdout",
     "output_type": "stream",
     "text": [
      "totally cost 131.5915162563324\n"
     ]
    }
   ],
   "source": [
    "print('totally cost',time_end-time_start)"
   ]
  },
  {
   "cell_type": "markdown",
   "metadata": {},
   "source": [
    "## 画出模型loss曲线 查看收敛效果"
   ]
  },
  {
   "cell_type": "code",
   "execution_count": 15,
   "metadata": {
    "scrolled": false
   },
   "outputs": [
    {
     "data": {
      "image/png": "[encoded data removed]",
      "text/plain": [
       "<matplotlib.figure.Figure at 0x20c6b2045f8>"
      ]
     },
     "metadata": {},
     "output_type": "display_data"
    }
   ],
   "source": [
    "import matplotlib.pyplot as plt\n",
    "plt.plot(single_step_history.history['loss'])\n",
    "plt.title('model loss')\n",
    "plt.ylabel('loss')\n",
    "plt.xlabel('epoch')\n",
    "plt.legend(['train', 'test'], loc='upper left')\n",
    "plt.show()"
   ]
  },
  {
   "cell_type": "markdown",
   "metadata": {},
   "source": [
    "## (如果有)对上面分出来的测试数据测试（非我们小组定义的测试数据集）"
   ]
  },
  {
   "cell_type": "code",
   "execution_count": 16,
   "metadata": {},
   "outputs": [
    {
     "data": {
      "text/plain": [
       "(array([[ 1.6662506 ],\n",
       "        [-0.09523639],\n",
       "        [ 2.3163042 ],\n",
       "        ...,\n",
       "        [ 1.6203413 ],\n",
       "        [ 0.00898113],\n",
       "        [ 2.597105  ]], dtype=float32), (24032, 1), (24032, 24, 11))"
      ]
     },
     "execution_count": 16,
     "metadata": {},
     "output_type": "execute_result"
    }
   ],
   "source": [
    "pred = single_step_model.predict(X_test)\n",
    "pred,pred.shape,X_test.shape"
   ]
  },
  {
   "cell_type": "markdown",
   "metadata": {},
   "source": [
    "## 对指定测试集的数据查看"
   ]
  },
  {
   "cell_type": "code",
   "execution_count": 17,
   "metadata": {},
   "outputs": [
    {
     "name": "stdout",
     "output_type": "stream",
     "text": [
      "测试集 0 的预测结果是： 143.78136 真实结果是 123.90000000000146\n",
      "相差： 19.881356811521982\n"
     ]
    }
   ],
   "source": [
    "number=0\n",
    "df=testdflist[number]\n",
    "TestX=[]\n",
    "TestY=[]\n",
    "X=df.loc[:,inputfeature].to_numpy()\n",
    "y=df.loc[:,outputfeature].to_numpy()\n",
    "lens=len(df)\n",
    "for index in range(TimeStep,lens):\n",
    "    if(int(index % TimeStep)==0):\n",
    "        TestX.append(X[index-TimeStep:index])\n",
    "        TestY.append(y[index-TimeStep:index].sum())\n",
    "TestX=np.array(TestX)\n",
    "TestY=np.array(TestY)\n",
    "pred = single_step_model.predict(TestX)\n",
    "pred = pred.cumsum()\n",
    "print(\"测试集\",number,\"的预测结果是：\",pred[-1],\"真实结果是\",df.iloc[-1].milegap)\n",
    "diff=pred[-1]-df.iloc[-1].milegap\n",
    "print(\"相差：\",diff)"
   ]
  },
  {
   "cell_type": "code",
   "execution_count": 18,
   "metadata": {
    "scrolled": true
   },
   "outputs": [
    {
     "name": "stdout",
     "output_type": "stream",
     "text": [
      "测试集 0 的预测结果是： 143.78136 真实结果是 123.90000000000146\n",
      "测试集 1 的预测结果是： 115.157555 真实结果是 106.79999999999563\n",
      "测试集 2 的预测结果是： 124.001465 真实结果是 106.90000000000146\n",
      "测试集 3 的预测结果是： 67.86873 真实结果是 54.59999999999855\n",
      "测试集 4 的预测结果是： 117.615074 真实结果是 102.20000000000437\n",
      "测试集 5 的预测结果是： 114.45572 真实结果是 116.5\n",
      "测试集 6 的预测结果是： 104.63107 真实结果是 105.39999999999418\n",
      "测试集 7 的预测结果是： 118.05609 真实结果是 115.69999999999708\n",
      "测试集 8 的预测结果是： 20.232481 真实结果是 18.599999999998552\n",
      "测试集 9 的预测结果是： 96.02374 真实结果是 101.19999999999708\n",
      "测试集 10 的预测结果是： 114.26906 真实结果是 98.0\n",
      "测试集 11 的预测结果是： 129.7114 真实结果是 122.09999999999854\n",
      "测试集 12 的预测结果是： 124.837166 真实结果是 116.29999999999563\n",
      "测试集 13 的预测结果是： 131.64833 真实结果是 115.89999999999418\n",
      "测试集 14 的预测结果是： 130.87833 真实结果是 122.79999999999563\n",
      "测试集 15 的预测结果是： 129.34517 真实结果是 114.29999999999563\n",
      "测试集 16 的预测结果是： 141.97038 真实结果是 121.0\n",
      "测试集 17 的预测结果是： 103.69202 真实结果是 126.89999999999418\n",
      "测试集 18 的预测结果是： 119.39316 真实结果是 112.40000000000146\n",
      "测试集 19 的预测结果是： 110.2518 真实结果是 112.60000000000582\n",
      "测试集 20 的预测结果是： 79.127785 真实结果是 77.69999999999709\n",
      "测试集 21 的预测结果是： 119.398155 真实结果是 119.0\n",
      "测试集 22 的预测结果是： 111.1869 真实结果是 117.09999999999854\n",
      "测试集 23 的预测结果是： 8.775828 真实结果是 9.69999999999709\n",
      "测试集 24 的预测结果是： 18.082588 真实结果是 20.29999999999564\n",
      "测试集 25 的预测结果是： 90.31045 真实结果是 98.5\n",
      "测试集 26 的预测结果是： 70.97703 真实结果是 77.29999999999562\n",
      "测试集 27 的预测结果是： 115.23232 真实结果是 120.40000000000146\n",
      "测试集 28 的预测结果是： 88.93467 真实结果是 105.40000000000146\n",
      "测试集 29 的预测结果是： 73.26639 真实结果是 74.59999999999854\n",
      "测试集 30 的预测结果是： 82.48233 真实结果是 83.69999999999709\n",
      "测试集 31 的预测结果是： 106.86199 真实结果是 112.5\n",
      "测试集 32 的预测结果是： 100.948425 真实结果是 113.5\n",
      "测试集 33 的预测结果是： 1.7995732 真实结果是 0.9000000000014552\n",
      "测试集 34 的预测结果是： 93.519394 真实结果是 98.69999999999708\n",
      "测试集 35 的预测结果是： 95.026726 真实结果是 103.39999999999418\n",
      "测试集 36 的预测结果是： 123.879974 真实结果是 129.90000000000146\n",
      "测试集 37 的预测结果是： 94.68227 真实结果是 107.69999999999708\n",
      "测试集 38 的预测结果是： 118.63142 真实结果是 129.89999999999418\n",
      "测试集 39 的预测结果是： 88.238976 真实结果是 99.5\n",
      "测试集 40 的预测结果是： 6.611262 真实结果是 4.0\n",
      "测试集 41 的预测结果是： 16.671251 真实结果是 16.400000000001455\n",
      "测试集 42 的预测结果是： 61.643078 真实结果是 55.200000000004366\n",
      "测试集 43 的预测结果是： 105.887924 真实结果是 99.0\n",
      "测试集 44 的预测结果是： 55.63504 真实结果是 57.09999999999855\n",
      "测试集 45 的预测结果是： 133.60033 真实结果是 113.69999999999708\n",
      "测试集 46 的预测结果是： 75.64253 真实结果是 68.90000000000146\n",
      "测试集 47 的预测结果是： 140.33064 真实结果是 120.30000000000292\n",
      "测试集 48 的预测结果是： 64.341484 真实结果是 62.80000000000291\n",
      "测试集 49 的预测结果是： 110.93832 真实结果是 96.39999999999418\n",
      "测试集 50 的预测结果是： 120.259285 真实结果是 108.5\n",
      "测试集 51 的预测结果是： 131.29765 真实结果是 117.80000000000292\n"
     ]
    }
   ],
   "source": [
    "difflist=[]\n",
    "for number,df in enumerate(testdflist):\n",
    "    TestX=[]\n",
    "    TestY=[]\n",
    "    X=df.loc[:,inputfeature].to_numpy()\n",
    "    y=df.loc[:,outputfeature].to_numpy()\n",
    "    lens=len(df)\n",
    "    for index in range(TimeStep,lens):\n",
    "        if(int(index % TimeStep)==0):\n",
    "            TestX.append(X[index-TimeStep:index])\n",
    "            TestY.append(y[index-TimeStep:index])\n",
    "    TestX=np.array(TestX)\n",
    "    TestY=np.array(TestY)\n",
    "    pred = single_step_model.predict(TestX)\n",
    "    pred = pred.cumsum()\n",
    "    print(\"测试集\",number,\"的预测结果是：\",pred[-1],\"真实结果是\",df.iloc[-1].milegap)\n",
    "    diff=pred[-1]-df.iloc[-1].milegap\n",
    "    difflist.append(diff/df.iloc[-1].milegap)"
   ]
  },
  {
   "cell_type": "code",
   "execution_count": 19,
   "metadata": {
    "collapsed": true
   },
   "outputs": [],
   "source": [
    "PathName=r\"C:\\Users\\14020\\Desktop\\NCBDC 2019\\model\\RNN\""
   ]
  },
  {
   "cell_type": "code",
   "execution_count": 20,
   "metadata": {
    "scrolled": true
   },
   "outputs": [
    {
     "name": "stdout",
     "output_type": "stream",
     "text": [
      "MSE: 0.19519778682338101\n"
     ]
    }
   ],
   "source": [
    "MSE=(sum(np.array(difflist)**2)/52)**(1/2)\n",
    "print(\"MSE:\",MSE)"
   ]
  },
  {
   "cell_type": "code",
   "execution_count": 21,
   "metadata": {
    "collapsed": true
   },
   "outputs": [],
   "source": [
    "def save(filename, inputfeature,outputfeature,TimeStep,MSE,model):\n",
    "    fh = open(filename, 'w', encoding='utf-8')\n",
    "    fh.write(\"inputfeature:\")\n",
    "    for string in inputfeature:\n",
    "        fh.write(string)\n",
    "    fh.write('\\r')\n",
    "    fh.write(\"outputfeature:\")\n",
    "    for string in outputfeature:\n",
    "        fh.write(string)\n",
    "    fh.write('\\r')\n",
    "    fh.write(\"TimeStep:\")\n",
    "    fh.write(str(TimeStep))\n",
    "    fh.write('\\r')\n",
    "    fh.write(\"MSE:\")\n",
    "    fh.write(str(MSE))\n",
    "    fh.write('\\r')\n",
    "    fh.write(\"model:\")\n",
    "    fh.write(model)\n",
    "    fh.write('\\r')\n",
    "    fh.close()\n",
    "save(PathName+\"\\\\3rdDemo.txt\",inputfeature,outputfeature,TimeStep,MSE,\"LSTM(32),Dense(1),optimizer=tf.keras.optimizers.RMSprop(), loss='mae'\")\n",
    "#single_step_model.compile(loss='mean_squared_error', optimizer=Adam(lr = 0.001) , metrics = ['mean_squared_error'])\")"
   ]
  },
  {
   "cell_type": "markdown",
   "metadata": {
    "collapsed": true
   },
   "source": [
    "Useless code"
   ]
  },
  {
   "cell_type": "raw",
   "metadata": {},
   "source": [
    "#对一个数据集df的数据进行RNN输入化处理\n",
    "X=df.loc[:,inputfeature].to_numpy()\n",
    "y=df.loc[:,outputfeature].to_numpy()\n",
    "newX=X.reshape(X.shape[0],1,X.shape[1])\n",
    "lens=len(newX)\n",
    "RNNX=[]\n",
    "for index,x in enumerate(newX):\n",
    "    if(index<lens-TimeStep):\n",
    "        RNNX.append(X[index:index+TimeStep])\n",
    "    else:\n",
    "        break\n",
    "RNNX=np.array(RNNX)\n",
    "RNNY=[]\n",
    "for index,i in enumerate(y):\n",
    "    if(index<lens-TimeStep):\n",
    "        RNNY.append(y[index:index+TimeStep].sum()*100)\n",
    "    else:\n",
    "        break\n",
    "RNNY=np.array(RNNY)"
   ]
  }
 ],
 "metadata": {
  "kernelspec": {
   "display_name": "Python [conda env:tensorflow]",
   "language": "python",
   "name": "conda-env-tensorflow-py"
  },
  "language_info": {
   "codemirror_mode": {
    "name": "ipython",
    "version": 3
   },
   "file_extension": ".py",
   "mimetype": "text/x-python",
   "name": "python",
   "nbconvert_exporter": "python",
   "pygments_lexer": "ipython3",
   "version": "3.5.2"
  }
 },
 "nbformat": 4,
 "nbformat_minor": 2
}
