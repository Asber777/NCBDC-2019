{
 "cells": [
  {
   "cell_type": "code",
   "execution_count": 4,
   "metadata": {
    "collapsed": true
   },
   "outputs": [],
   "source": [
    "import numpy as np # linear algebra\n",
    "import pandas as pd # data processing, CSV file I/O (e.g. pd.read_csv)\n",
    "import os\n",
    "import matplotlib.pyplot as plt"
   ]
  },
  {
   "cell_type": "code",
   "execution_count": 5,
   "metadata": {
    "collapsed": true
   },
   "outputs": [],
   "source": [
    "# get train data (use for train & test )\n",
    "path = lambda number:r\"C:\\Users\\14020\\Desktop\\NCBDC 2019\\Data\\NormaliezdData\\SmallSizeData\\SmallSizeTrainData\"+'\\\\'+str(number)+\".csv\"\n",
    "traindflist=[]\n",
    "DFSIZE=24\n",
    "for i in range(DFSIZE):\n",
    "    df=pd.read_csv( path(i) ).iloc[:,1:]\n",
    "    traindflist.append(df)"
   ]
  },
  {
   "cell_type": "code",
   "execution_count": 6,
   "metadata": {
    "collapsed": true
   },
   "outputs": [],
   "source": [
    "# get test data\n",
    "path = lambda number:r\"C:\\Users\\14020\\Desktop\\NCBDC 2019\\Data\\NormaliezdData\\SmallSizeData\\SmallSizeTestData\"+'\\\\'+str(number)+\".csv\"\n",
    "testdflist=[]\n",
    "DFSIZE=7\n",
    "for i in range(DFSIZE):\n",
    "    df=pd.read_csv( path(i) ).iloc[:,1:]\n",
    "    testdflist.append(df)"
   ]
  },
  {
   "cell_type": "markdown",
   "metadata": {},
   "source": [
    "# get data prepared"
   ]
  },
  {
   "cell_type": "code",
   "execution_count": 9,
   "metadata": {
    "collapsed": true
   },
   "outputs": [],
   "source": [
    "inputfeature=['total_voltage', 'total_current', 'soc', 'temp_max', 'temp_min',\n",
    "       'motor_voltage', 'motor_current', 'total_P', 'motor_P',\n",
    "       'tempMAXMINdiff', 'SOCgap']\n",
    "outputfeature=['milegap']\n",
    "TimeStep=30"
   ]
  },
  {
   "cell_type": "markdown",
   "metadata": {},
   "source": [
    "# 带TimeStep的LSTM"
   ]
  },
  {
   "cell_type": "code",
   "execution_count": 10,
   "metadata": {
    "collapsed": true
   },
   "outputs": [],
   "source": [
    "RNNX=[]\n",
    "RNNY=[]\n",
    "for df in traindflist:\n",
    "    X=df.loc[:,inputfeature].to_numpy()\n",
    "    y=df.loc[:,outputfeature].to_numpy()\n",
    "    lens=len(df)\n",
    "    for index in range(lens):\n",
    "        if(index<=lens-TimeStep):\n",
    "            RNNX.append(X[index:index+TimeStep])\n",
    "            RNNY.append(y[index:index+TimeStep])\n",
    "            #RNNY.append(y[index:index+TimeStep])\n",
    "        else:\n",
    "            break\n",
    "RNNX=np.array(RNNX)\n",
    "RNNY=np.array(RNNY)"
   ]
  },
  {
   "cell_type": "code",
   "execution_count": 12,
   "metadata": {},
   "outputs": [
    {
     "data": {
      "text/plain": [
       "array([[0.1],\n",
       "       [0.2],\n",
       "       [0.2],\n",
       "       [0.2],\n",
       "       [0.3],\n",
       "       [0.4],\n",
       "       [0.5],\n",
       "       [0.6],\n",
       "       [0.7],\n",
       "       [0.7],\n",
       "       [0.7],\n",
       "       [0.8],\n",
       "       [1. ],\n",
       "       [1.1],\n",
       "       [1.2],\n",
       "       [1.3],\n",
       "       [1.4],\n",
       "       [1.6],\n",
       "       [1.7],\n",
       "       [1.8],\n",
       "       [1.9],\n",
       "       [2.1],\n",
       "       [2.2],\n",
       "       [2.3],\n",
       "       [2.4],\n",
       "       [2.4],\n",
       "       [2.4],\n",
       "       [2.5],\n",
       "       [2.6],\n",
       "       [2.7]])"
      ]
     },
     "execution_count": 12,
     "metadata": {},
     "output_type": "execute_result"
    }
   ],
   "source": [
    "RNNY[2]"
   ]
  },
  {
   "cell_type": "markdown",
   "metadata": {},
   "source": [
    "## 数据分为测试集和训练集（可没有此步 ，因为我们有选择测试数据集）"
   ]
  },
  {
   "cell_type": "code",
   "execution_count": 22,
   "metadata": {
    "collapsed": true
   },
   "outputs": [],
   "source": [
    "from sklearn.model_selection import train_test_split #这里是引用了交叉验证\n",
    "X_train,X_test, y_train, y_test = train_test_split(RNNX,RNNY,test_size = 0.2,random_state=100)"
   ]
  },
  {
   "cell_type": "code",
   "execution_count": 23,
   "metadata": {
    "scrolled": false
   },
   "outputs": [
    {
     "name": "stdout",
     "output_type": "stream",
     "text": [
      "(37280, 30, 11) (37280, 30, 1) (9321, 30, 11) (9321, 30, 1)\n"
     ]
    }
   ],
   "source": [
    "print(X_train.shape , y_train.shape , X_test.shape , y_test.shape)"
   ]
  },
  {
   "cell_type": "raw",
   "metadata": {
    "collapsed": true
   },
   "source": [
    "X_train=RNNX\n",
    "y_train=RNNY"
   ]
  },
  {
   "cell_type": "markdown",
   "metadata": {},
   "source": [
    "## RNN"
   ]
  },
  {
   "cell_type": "code",
   "execution_count": 24,
   "metadata": {
    "collapsed": true
   },
   "outputs": [],
   "source": [
    "from keras.models import Sequential\n",
    "from keras.layers import Dense , BatchNormalization , Dropout , Activation\n",
    "from keras.layers import LSTM , GRU\n",
    "from sklearn.preprocessing import MinMaxScaler\n",
    "from sklearn.metrics import mean_squared_error\n",
    "from keras.optimizers import Adam , SGD , RMSprop\n",
    "import matplotlib.pyplot as plt\n",
    "import math\n",
    "import tensorflow as tf"
   ]
  },
  {
   "cell_type": "markdown",
   "metadata": {},
   "source": [
    "### lr_reduce 设置损失不减则降低学习率\n",
    "### checkPoint设置保存模型"
   ]
  },
  {
   "cell_type": "code",
   "execution_count": 25,
   "metadata": {
    "scrolled": true
   },
   "outputs": [
    {
     "name": "stderr",
     "output_type": "stream",
     "text": [
      "D:\\ANACONDA\\envs\\tensorflow\\lib\\site-packages\\keras\\callbacks\\callbacks.py:998: UserWarning: `epsilon` argument is deprecated and will be removed, use `min_delta` instead.\n",
      "  warnings.warn('`epsilon` argument is deprecated and '\n"
     ]
    }
   ],
   "source": [
    "PathName=r\"C:\\Users\\14020\\Desktop\\NCBDC 2019\\model\\RNN\"\n",
    "filepath=PathName+\"\\\\2ndl_weights.hdf5\"\n",
    "from keras.callbacks import ReduceLROnPlateau , ModelCheckpoint\n",
    "lr_reduce = ReduceLROnPlateau(monitor='val_loss', factor=0.1, epsilon=0.0001, patience=1, verbose=1)\n",
    "checkpoint = ModelCheckpoint(filepath, monitor='val_loss', verbose=1, save_best_only=True, mode='max')"
   ]
  },
  {
   "cell_type": "markdown",
   "metadata": {},
   "source": [
    "### 设置模型输入"
   ]
  },
  {
   "cell_type": "code",
   "execution_count": 26,
   "metadata": {
    "collapsed": true
   },
   "outputs": [],
   "source": [
    "BUFFER_SIZE=100\n",
    "BATCH_SIZE=25\n",
    "train_data_single = tf.data.Dataset.from_tensor_slices((X_train, y_train))\n",
    "train_data_single = train_data_single.cache().shuffle(BUFFER_SIZE).batch(BATCH_SIZE).repeat()\n",
    "\n",
    "val_data_single = tf.data.Dataset.from_tensor_slices((X_test, y_test))\n",
    "val_data_single = val_data_single.batch(BATCH_SIZE).repeat()"
   ]
  },
  {
   "cell_type": "markdown",
   "metadata": {},
   "source": [
    "##  设置模型结构"
   ]
  },
  {
   "cell_type": "code",
   "execution_count": 27,
   "metadata": {
    "collapsed": true
   },
   "outputs": [],
   "source": [
    "input_shape=X_train.shape[-2:]\n",
    "input_shape=[None,len(inputfeature)]\n",
    "\n",
    "single_step_model = tf.keras.models.Sequential()\n",
    "\n",
    "single_step_model.add(tf.keras.layers.LSTM(32,\n",
    "                                           input_shape=input_shape))\n",
    "single_step_model.add(tf.keras.layers.Dense(1))\n",
    "\n",
    "single_step_model.compile(optimizer=tf.keras.optimizers.RMSprop(), loss='mae')\n",
    "#single_step_model.compile(loss='mean_squared_error', optimizer=Adam(lr = 0.001) , metrics = ['mean_squared_error'])"
   ]
  },
  {
   "cell_type": "code",
   "execution_count": 28,
   "metadata": {},
   "outputs": [
    {
     "name": "stdout",
     "output_type": "stream",
     "text": [
      "Train for 200 steps, validate for 50 steps\n",
      "Epoch 1/10\n",
      "195/200 [============================>.] - ETA: 0s - loss: 0.0506\n",
      "Epoch 00001: val_loss improved from -inf to 0.04394, saving model to C:\\Users\\14020\\Desktop\\NCBDC 2019\\model\\RNN\\2ndl_weights.hdf5\n",
      "200/200 [==============================] - 5s 26ms/step - loss: 0.0506 - val_loss: 0.0439\n",
      "Epoch 2/10\n",
      "196/200 [============================>.] - ETA: 0s - loss: 0.0441\n",
      "Epoch 00002: val_loss did not improve from 0.04394\n",
      "200/200 [==============================] - 2s 12ms/step - loss: 0.0440 - val_loss: 0.0387\n",
      "Epoch 3/10\n",
      "197/200 [============================>.] - ETA: 0s - loss: 0.0413\n",
      "Epoch 00003: val_loss did not improve from 0.04394\n",
      "\n",
      "Epoch 00003: ReduceLROnPlateau reducing learning rate to 0.00010000000474974513.\n",
      "200/200 [==============================] - 2s 12ms/step - loss: 0.0413 - val_loss: 0.0404\n",
      "Epoch 4/10\n",
      "199/200 [============================>.] - ETA: 0s - loss: 0.0364\n",
      "Epoch 00004: val_loss did not improve from 0.04394\n",
      "200/200 [==============================] - 2s 12ms/step - loss: 0.0364 - val_loss: 0.0357\n",
      "Epoch 5/10\n",
      "197/200 [============================>.] - ETA: 0s - loss: 0.0359\n",
      "Epoch 00005: val_loss did not improve from 0.04394\n",
      "200/200 [==============================] - 3s 13ms/step - loss: 0.0359 - val_loss: 0.0355\n",
      "Epoch 6/10\n",
      "199/200 [============================>.] - ETA: 0s - loss: 0.0355\n",
      "Epoch 00006: val_loss did not improve from 0.04394\n",
      "\n",
      "Epoch 00006: ReduceLROnPlateau reducing learning rate to 1.0000000474974514e-05.\n",
      "200/200 [==============================] - 2s 12ms/step - loss: 0.0355 - val_loss: 0.0354\n",
      "Epoch 7/10\n",
      "198/200 [============================>.] - ETA: 0s - loss: 0.0353\n",
      "Epoch 00007: val_loss did not improve from 0.04394\n",
      "200/200 [==============================] - 3s 13ms/step - loss: 0.0353 - val_loss: 0.0351\n",
      "Epoch 8/10\n",
      "197/200 [============================>.] - ETA: 0s - loss: 0.0349\n",
      "Epoch 00008: val_loss did not improve from 0.04394\n",
      "\n",
      "Epoch 00008: ReduceLROnPlateau reducing learning rate to 1.0000000656873453e-06.\n",
      "200/200 [==============================] - 3s 13ms/step - loss: 0.0350 - val_loss: 0.0351\n",
      "Epoch 9/10\n",
      "198/200 [============================>.] - ETA: 0s - loss: 0.0355\n",
      "Epoch 00009: val_loss did not improve from 0.04394\n",
      "\n",
      "Epoch 00009: ReduceLROnPlateau reducing learning rate to 1.0000001111620805e-07.\n",
      "200/200 [==============================] - 2s 12ms/step - loss: 0.0354 - val_loss: 0.0351\n",
      "Epoch 10/10\n",
      "196/200 [============================>.] - ETA: 0s - loss: 0.0348\n",
      "Epoch 00010: val_loss did not improve from 0.04394\n",
      "\n",
      "Epoch 00010: ReduceLROnPlateau reducing learning rate to 1.000000082740371e-08.\n",
      "200/200 [==============================] - 2s 12ms/step - loss: 0.0348 - val_loss: 0.0351\n"
     ]
    }
   ],
   "source": [
    "EPOCHS=10\n",
    "EVALUATION_INTERVAL=200\n",
    "single_step_history = single_step_model.fit(train_data_single, epochs=EPOCHS,\n",
    "                                            steps_per_epoch=EVALUATION_INTERVAL,\n",
    "                                            validation_data=val_data_single,\n",
    "                                            validation_steps=50,callbacks = [checkpoint , lr_reduce])"
   ]
  },
  {
   "cell_type": "markdown",
   "metadata": {},
   "source": [
    "## 画出模型loss曲线 查看收敛效果"
   ]
  },
  {
   "cell_type": "code",
   "execution_count": 31,
   "metadata": {
    "scrolled": false
   },
   "outputs": [
    {
     "data": {
      "image/png": "[encoded data removed]",
      "text/plain": [
       "<matplotlib.figure.Figure at 0x16701624d30>"
      ]
     },
     "metadata": {},
     "output_type": "display_data"
    }
   ],
   "source": [
    "import matplotlib.pyplot as plt\n",
    "plt.plot(single_step_history.history['loss'])\n",
    "plt.title('model loss')\n",
    "plt.ylabel('loss')\n",
    "plt.xlabel('epoch')\n",
    "plt.legend(['train', 'test'], loc='upper left')\n",
    "plt.show()"
   ]
  },
  {
   "cell_type": "markdown",
   "metadata": {},
   "source": [
    "## (如果有)对上面分出来的测试数据测试（非我们小组定义的测试数据集）"
   ]
  },
  {
   "cell_type": "code",
   "execution_count": 35,
   "metadata": {},
   "outputs": [
    {
     "data": {
      "text/plain": [
       "array([[ 1.89303726e-01,  1.78124093e+00,  6.06457857e-01,\n",
       "         2.22495484e+00,  1.93767454e+00, -2.10345689e-03,\n",
       "         2.31087233e+00,  1.80788374e+00,  2.33848802e+00,\n",
       "         9.62209699e-02, -5.21232429e-01],\n",
       "       [ 2.76927069e-01,  3.43991897e-01,  6.06457857e-01,\n",
       "         2.22495484e+00,  1.93767454e+00,  1.58816577e-01,\n",
       "        -4.23685146e-01,  3.55720847e-01, -4.21657050e-01,\n",
       "         9.62209699e-02, -5.21232429e-01],\n",
       "       [ 5.39797097e-01,  3.43991897e-01,  6.06457857e-01,\n",
       "         2.22495484e+00,  1.93767454e+00,  2.39276595e-01,\n",
       "         3.28945353e-01,  3.57823625e-01,  3.41996544e-01,\n",
       "         9.62209699e-02, -5.21232429e-01],\n",
       "       [ 8.37716462e-01, -6.82614558e-01,  6.06457857e-01,\n",
       "         2.22495484e+00,  1.93767454e+00,  4.00196629e-01,\n",
       "        -7.24737346e-01, -6.84757057e-01, -7.28904590e-01,\n",
       "         9.62209699e-02, -5.21232429e-01],\n",
       "       [-3.36436330e-01,  3.07476507e+00,  6.06457857e-01,\n",
       "         2.22495484e+00,  1.93767454e+00, -2.43483508e-01,\n",
       "         4.79471453e-01,  3.09571842e+00,  4.85644745e-01,\n",
       "         9.62209699e-02, -5.21232429e-01],\n",
       "       [ 2.76927069e-01,  5.08248930e-01,  6.06457857e-01,\n",
       "         2.22495484e+00,  1.93767454e+00,  7.83565603e-02,\n",
       "         5.04559136e-01,  5.21918187e-01,  5.17091540e-01,\n",
       "         9.62209699e-02, -5.21232429e-01],\n",
       "       [ 1.36729720e-01,  1.16527706e+00,  6.06457857e-01,\n",
       "         2.22495484e+00,  1.93767454e+00, -2.10345689e-03,\n",
       "         1.25718964e+00,  1.18433998e+00,  1.27509231e+00,\n",
       "         9.62209699e-02, -5.21232429e-01],\n",
       "       [ 2.76927069e-01,  5.28781059e-01,  6.06457857e-01,\n",
       "         2.22495484e+00,  1.93767454e+00,  7.83565603e-02,\n",
       "         5.04559136e-01,  5.42692855e-01,  5.17091540e-01,\n",
       "         9.62209699e-02, -5.21232429e-01],\n",
       "       [ 1.41603052e+00, -2.22252424e+00,  5.54803464e-01,\n",
       "         2.22495484e+00,  1.93767454e+00,  7.22036697e-01,\n",
       "        -2.70666433e+00, -2.26363958e+00, -2.76591588e+00,\n",
       "         9.62209699e-02, -4.69063228e-01],\n",
       "       [ 2.06828395e-01,  6.93038092e-01,  5.54803464e-01,\n",
       "         2.22495484e+00,  1.93767454e+00,  7.83565603e-02,\n",
       "         7.55435969e-01,  7.08064660e-01,  7.70756021e-01,\n",
       "         9.62209699e-02, -4.69063228e-01],\n",
       "       [ 4.17124417e-01, -8.71828139e-02,  5.54803464e-01,\n",
       "         2.22495484e+00,  1.93767454e+00,  1.58816577e-01,\n",
       "         2.78931534e-02, -8.00798874e-02,  3.57940640e-02,\n",
       "         9.62209699e-02, -4.69063228e-01],\n",
       "       [ 3.99599748e-01,  1.26793771e+00,  5.54803464e-01,\n",
       "         2.22495484e+00,  1.93767454e+00,  7.83565603e-02,\n",
       "         1.40771574e+00,  1.29278880e+00,  1.43028367e+00,\n",
       "         9.62209699e-02, -4.69063228e-01],\n",
       "       [ 3.15817093e-02,  1.37059835e+00,  5.54803464e-01,\n",
       "         2.22495484e+00,  1.93767454e+00, -8.25634740e-02,\n",
       "         1.55824184e+00,  1.38976581e+00,  1.57535695e+00,\n",
       "         9.62209699e-02, -4.69063228e-01],\n",
       "       [ 1.15316049e+00, -2.03773508e+00,  5.54803464e-01,\n",
       "         2.22495484e+00,  1.93767454e+00,  5.61116663e-01,\n",
       "        -2.55613823e+00, -2.06971672e+00, -2.60298158e+00,\n",
       "         9.62209699e-02, -4.69063228e-01],\n",
       "       [ 8.55241130e-01, -3.54100492e-01,  5.54803464e-01,\n",
       "         2.22495484e+00,  1.93767454e+00,  4.00196629e-01,\n",
       "        -3.23334413e-01, -3.50360843e-01, -3.20001247e-01,\n",
       "         9.62209699e-02, -4.69063228e-01],\n",
       "       [ 8.55241130e-01, -2.10375589e-01,  5.54803464e-01,\n",
       "         2.22495484e+00,  1.93767454e+00,  4.00196629e-01,\n",
       "        -3.23334413e-01, -2.04038649e-01, -3.20001247e-01,\n",
       "         9.62209699e-02, -4.69063228e-01],\n",
       "       [ 9.07815136e-01, -3.74632621e-01,  5.54803464e-01,\n",
       "         2.22495484e+00,  1.93767454e+00,  4.00196629e-01,\n",
       "        -3.23334413e-01, -3.71252332e-01, -3.20001247e-01,\n",
       "         9.62209699e-02, -4.69063228e-01],\n",
       "       [ 9.25339804e-01, -3.74632621e-01,  5.54803464e-01,\n",
       "         2.22495484e+00,  1.93767454e+00,  4.80656646e-01,\n",
       "        -3.23334413e-01, -3.71248438e-01, -3.20001247e-01,\n",
       "         9.62209699e-02, -4.69063228e-01],\n",
       "       [ 9.42864473e-01, -3.74632621e-01,  5.54803464e-01,\n",
       "         2.22495484e+00,  1.93767454e+00,  4.80656646e-01,\n",
       "        -3.23334413e-01, -3.71244544e-01, -3.20001247e-01,\n",
       "         9.62209699e-02, -4.69063228e-01],\n",
       "       [ 9.60389141e-01, -3.74632621e-01,  5.54803464e-01,\n",
       "         2.22495484e+00,  1.93767454e+00,  4.80656646e-01,\n",
       "        -3.23334413e-01, -3.71240650e-01, -3.20001247e-01,\n",
       "         9.62209699e-02, -4.69063228e-01],\n",
       "       [ 9.77913810e-01, -3.74632621e-01,  5.54803464e-01,\n",
       "         2.22495484e+00,  1.93767454e+00,  4.80656646e-01,\n",
       "        -3.23334413e-01, -3.71236756e-01, -3.20001247e-01,\n",
       "         9.62209699e-02, -4.69063228e-01],\n",
       "       [ 9.95438478e-01, -3.74632621e-01,  5.54803464e-01,\n",
       "         2.22495484e+00,  1.93767454e+00,  4.80656646e-01,\n",
       "        -3.23334413e-01, -3.71232862e-01, -3.20001247e-01,\n",
       "         9.62209699e-02, -4.69063228e-01],\n",
       "       [ 9.95438478e-01, -3.74632621e-01,  5.54803464e-01,\n",
       "         2.22495484e+00,  1.93767454e+00,  4.80656646e-01,\n",
       "        -3.23334413e-01, -3.71232862e-01, -3.20001247e-01,\n",
       "         9.62209699e-02, -4.69063228e-01],\n",
       "       [ 1.01296315e+00, -3.74632621e-01,  5.54803464e-01,\n",
       "         2.22495484e+00,  1.93767454e+00,  4.80656646e-01,\n",
       "        -3.23334413e-01, -3.71228968e-01, -3.20001247e-01,\n",
       "         9.62209699e-02, -4.69063228e-01],\n",
       "       [ 1.01296315e+00, -3.74632621e-01,  5.54803464e-01,\n",
       "         2.22495484e+00,  1.93767454e+00,  4.80656646e-01,\n",
       "        -3.23334413e-01, -3.71228968e-01, -3.20001247e-01,\n",
       "         9.62209699e-02, -4.69063228e-01],\n",
       "       [ 1.03048782e+00, -3.74632621e-01,  5.54803464e-01,\n",
       "         2.22495484e+00,  1.93767454e+00,  4.80656646e-01,\n",
       "        -3.23334413e-01, -3.71225074e-01, -3.20001247e-01,\n",
       "         9.62209699e-02, -4.69063228e-01],\n",
       "       [ 1.03048782e+00, -3.74632621e-01,  5.54803464e-01,\n",
       "         2.22495484e+00,  1.93767454e+00,  4.80656646e-01,\n",
       "        -3.23334413e-01, -3.71225074e-01, -3.20001247e-01,\n",
       "         9.62209699e-02, -4.69063228e-01],\n",
       "       [ 1.04801248e+00, -3.74632621e-01,  5.54803464e-01,\n",
       "         2.22495484e+00,  1.93767454e+00,  4.80656646e-01,\n",
       "        -3.23334413e-01, -3.71221180e-01, -3.20001247e-01,\n",
       "         9.62209699e-02, -4.69063228e-01],\n",
       "       [ 1.04801248e+00, -3.74632621e-01,  5.54803464e-01,\n",
       "         2.22495484e+00,  1.93767454e+00,  4.80656646e-01,\n",
       "        -3.23334413e-01, -3.71221180e-01, -3.20001247e-01,\n",
       "         9.62209699e-02, -4.69063228e-01],\n",
       "       [ 1.04801248e+00, -3.74632621e-01,  5.54803464e-01,\n",
       "         2.22495484e+00,  1.93767454e+00,  4.80656646e-01,\n",
       "        -3.23334413e-01, -3.71221180e-01, -3.20001247e-01,\n",
       "         9.62209699e-02, -4.69063228e-01]])"
      ]
     },
     "execution_count": 35,
     "metadata": {},
     "output_type": "execute_result"
    }
   ],
   "source": [
    "X_test[0]"
   ]
  },
  {
   "cell_type": "code",
   "execution_count": 42,
   "metadata": {},
   "outputs": [
    {
     "data": {
      "text/plain": [
       "(array([[0.04185315],\n",
       "        [0.09369189],\n",
       "        [0.12179582],\n",
       "        ...,\n",
       "        [0.0883505 ],\n",
       "        [0.06885304],\n",
       "        [0.07852691]], dtype=float32), (9321, 1), (9321, 30, 11))"
      ]
     },
     "execution_count": 42,
     "metadata": {},
     "output_type": "execute_result"
    }
   ],
   "source": [
    "pred = single_step_model.predict(X_test)\n",
    "pred,pred.shape,X_test.shape"
   ]
  },
  {
   "cell_type": "markdown",
   "metadata": {},
   "source": [
    "## 对指定测试集的数据查看"
   ]
  },
  {
   "cell_type": "code",
   "execution_count": 16,
   "metadata": {},
   "outputs": [
    {
     "name": "stdout",
     "output_type": "stream",
     "text": [
      "测试集 0 的预测结果是： 77.99046 真实结果是 83.79999999999562\n",
      "相差： -5.809536743159683\n"
     ]
    }
   ],
   "source": [
    "number=0\n",
    "df=testdflist[number]\n",
    "TestX=[]\n",
    "TestY=[]\n",
    "X=df.loc[:,inputfeature].to_numpy()\n",
    "y=df.loc[:,outputfeature].to_numpy()\n",
    "lens=len(df)\n",
    "for index in range(TimeStep,lens):\n",
    "    if(int(index % TimeStep)==0):\n",
    "        TestX.append(X[index-TimeStep:index])\n",
    "        TestY.append(y[index-TimeStep:index])\n",
    "TestX=np.array(TestX)\n",
    "TestY=np.array(TestY)\n",
    "pred = single_step_model.predict(TestX)\n",
    "pred = pred.cumsum()\n",
    "print(\"测试集\",number,\"的预测结果是：\",pred[-1],\"真实结果是\",df.iloc[-1].milegap)\n",
    "diff=pred[-1]-df.iloc[-1].milegap\n",
    "print(\"相差：\",diff)"
   ]
  },
  {
   "cell_type": "code",
   "execution_count": 17,
   "metadata": {
    "scrolled": true
   },
   "outputs": [
    {
     "name": "stdout",
     "output_type": "stream",
     "text": [
      "测试集 0 的预测结果是： 77.99046 真实结果是 83.79999999999562\n",
      "测试集 1 的预测结果是： 111.402596 真实结果是 114.39999999999418\n",
      "测试集 2 的预测结果是： 136.91974 真实结果是 121.0\n",
      "测试集 3 的预测结果是： 89.098885 真实结果是 96.59999999999854\n",
      "测试集 4 的预测结果是： 120.759254 真实结果是 117.80000000000292\n",
      "测试集 5 的预测结果是： 115.27554 真实结果是 121.30000000000292\n",
      "测试集 6 的预测结果是： 107.13007 真实结果是 115.5\n"
     ]
    }
   ],
   "source": [
    "difflist=[]\n",
    "for number,df in enumerate(testdflist):\n",
    "    TestX=[]\n",
    "    TestY=[]\n",
    "    X=df.loc[:,inputfeature].to_numpy()\n",
    "    y=df.loc[:,outputfeature].to_numpy()\n",
    "    lens=len(df)\n",
    "    for index in range(TimeStep,lens):\n",
    "        if(int(index % TimeStep)==0):\n",
    "            TestX.append(X[index-TimeStep:index])\n",
    "            TestY.append(y[index-TimeStep:index])\n",
    "    TestX=np.array(TestX)\n",
    "    TestY=np.array(TestY)\n",
    "    pred = single_step_model.predict(TestX)\n",
    "    pred = pred.cumsum()\n",
    "    print(\"测试集\",number,\"的预测结果是：\",pred[-1],\"真实结果是\",df.iloc[-1].milegap)\n",
    "    diff=pred[-1]-df.iloc[-1].milegap\n",
    "    difflist.append(diff)"
   ]
  },
  {
   "cell_type": "code",
   "execution_count": 18,
   "metadata": {
    "collapsed": true
   },
   "outputs": [],
   "source": [
    "PathName=r\"C:\\Users\\14020\\Desktop\\NCBDC 2019\\model\\RNN\""
   ]
  },
  {
   "cell_type": "code",
   "execution_count": 19,
   "metadata": {
    "scrolled": true
   },
   "outputs": [
    {
     "name": "stdout",
     "output_type": "stream",
     "text": [
      "MSE: 21.62283286524353\n"
     ]
    }
   ],
   "source": [
    "MSE=sum(np.array(difflist)**2)**(1/2)\n",
    "print(\"MSE:\",MSE)"
   ]
  },
  {
   "cell_type": "code",
   "execution_count": 20,
   "metadata": {
    "collapsed": true
   },
   "outputs": [],
   "source": [
    "def save(filename, inputfeature,outputfeature,TimeStep,MSE,model):\n",
    "    fh = open(filename, 'w', encoding='utf-8')\n",
    "    fh.write(\"inputfeature:\")\n",
    "    for string in inputfeature:\n",
    "        fh.write(string)\n",
    "    fh.write('\\r')\n",
    "    fh.write(\"outputfeature:\")\n",
    "    for string in outputfeature:\n",
    "        fh.write(string)\n",
    "    fh.write('\\r')\n",
    "    fh.write(\"TimeStep:\")\n",
    "    fh.write(str(TimeStep))\n",
    "    fh.write('\\r')\n",
    "    fh.write(\"MSE:\")\n",
    "    fh.write(str(MSE))\n",
    "    fh.write('\\r')\n",
    "    fh.write(\"model:\")\n",
    "    fh.write(model)\n",
    "    fh.write('\\r')\n",
    "    fh.close()\n",
    "save(PathName+\"\\\\1stDemo.txt\",inputfeature,outputfeature,TimeStep,MSE,\"LSTM(32),Dense(1),optimizer=tf.keras.optimizers.RMSprop(), loss='mae'\")\n",
    "#single_step_model.compile(loss='mean_squared_error', optimizer=Adam(lr = 0.001) , metrics = ['mean_squared_error'])\")"
   ]
  },
  {
   "cell_type": "markdown",
   "metadata": {},
   "source": [
    "## 不用TimeStep的RNN（最后输出）"
   ]
  },
  {
   "cell_type": "code",
   "execution_count": 21,
   "metadata": {
    "collapsed": true
   },
   "outputs": [],
   "source": [
    "RNNX=[]\n",
    "RNNY=[]\n",
    "for df in traindflist:\n",
    "    X=df.loc[:,inputfeature].to_numpy()\n",
    "    y=df.loc[:,outputfeature].to_numpy().sum()\n",
    "    RNNX.append(X)\n",
    "    RNNY.append(y)\n",
    "RNNX=np.array(RNNX)\n",
    "RNNY=np.array(RNNY)"
   ]
  },
  {
   "cell_type": "code",
   "execution_count": null,
   "metadata": {
    "collapsed": true
   },
   "outputs": [],
   "source": []
  },
  {
   "cell_type": "markdown",
   "metadata": {
    "collapsed": true
   },
   "source": [
    "Useless code"
   ]
  },
  {
   "cell_type": "raw",
   "metadata": {},
   "source": [
    "#对一个数据集df的数据进行RNN输入化处理\n",
    "X=df.loc[:,inputfeature].to_numpy()\n",
    "y=df.loc[:,outputfeature].to_numpy()\n",
    "newX=X.reshape(X.shape[0],1,X.shape[1])\n",
    "lens=len(newX)\n",
    "RNNX=[]\n",
    "for index,x in enumerate(newX):\n",
    "    if(index<lens-TimeStep):\n",
    "        RNNX.append(X[index:index+TimeStep])\n",
    "    else:\n",
    "        break\n",
    "RNNX=np.array(RNNX)\n",
    "RNNY=[]\n",
    "for index,i in enumerate(y):\n",
    "    if(index<lens-TimeStep):\n",
    "        RNNY.append(y[index:index+TimeStep].sum()*100)\n",
    "    else:\n",
    "        break\n",
    "RNNY=np.array(RNNY)"
   ]
  }
 ],
 "metadata": {
  "kernelspec": {
   "display_name": "Python [conda env:tensorflow]",
   "language": "python",
   "name": "conda-env-tensorflow-py"
  },
  "language_info": {
   "codemirror_mode": {
    "name": "ipython",
    "version": 3
   },
   "file_extension": ".py",
   "mimetype": "text/x-python",
   "name": "python",
   "nbconvert_exporter": "python",
   "pygments_lexer": "ipython3",
   "version": "3.5.2"
  }
 },
 "nbformat": 4,
 "nbformat_minor": 2
}
