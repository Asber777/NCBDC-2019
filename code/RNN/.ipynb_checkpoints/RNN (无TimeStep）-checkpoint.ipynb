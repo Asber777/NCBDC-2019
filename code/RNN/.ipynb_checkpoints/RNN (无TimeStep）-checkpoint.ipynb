{
 "cells": [
  {
   "cell_type": "code",
   "execution_count": 23,
   "metadata": {},
   "outputs": [],
   "source": [
    "import numpy as np # linear algebra\n",
    "import pandas as pd # data processing, CSV file I/O (e.g. pd.read_csv)\n",
    "import os\n",
    "import matplotlib.pyplot as plt\n",
    "from keras.models import Sequential\n",
    "from keras.layers import Dense , BatchNormalization , Dropout , Activation\n",
    "from keras.layers import LSTM , GRU\n",
    "from sklearn.preprocessing import MinMaxScaler\n",
    "from sklearn.metrics import mean_squared_error\n",
    "from keras.optimizers import Adam , SGD , RMSprop\n",
    "import math\n",
    "import tensorflow as tf\n",
    "# get train data (use for train & test )\n",
    "path = lambda number:r\"C:\\Users\\14020\\Desktop\\NCBDC 2019\\Data\\NormaliezdData\\SmallSizeData\\SmallSizeTrainData\"+'\\\\'+str(number)+\".csv\"\n",
    "traindflist=[]\n",
    "DFSIZE=24\n",
    "for i in range(DFSIZE):\n",
    "    df=pd.read_csv( path(i) ).iloc[:,1:]\n",
    "    traindflist.append(df)\n",
    "# get test data\n",
    "path = lambda number:r\"C:\\Users\\14020\\Desktop\\NCBDC 2019\\Data\\NormaliezdData\\SmallSizeData\\SmallSizeTestData\"+'\\\\'+str(number)+\".csv\"\n",
    "testdflist=[]\n",
    "DFSIZE=7\n",
    "for i in range(DFSIZE):\n",
    "    df=pd.read_csv( path(i) ).iloc[:,1:]\n",
    "    testdflist.append(df)"
   ]
  },
  {
   "cell_type": "code",
   "execution_count": 29,
   "metadata": {
    "collapsed": true
   },
   "outputs": [],
   "source": [
    "inputfeature=['total_voltage', 'total_current', 'soc', 'temp_max', 'temp_min',\n",
    "       'motor_voltage', 'motor_current', 'total_P', 'motor_P',\n",
    "       'tempMAXMINdiff', 'SOCgap']\n",
    "outputfeature=['milediff']\n",
    "#============================================================================#\n",
    "def train_generator(traindflist):\n",
    "    while True:\n",
    "        for df in traindflist:\n",
    "            lens=len(df)\n",
    "            width=len(inputfeature)\n",
    "            XX,yy=[],[]\n",
    "            X=df.loc[:,inputfeature].to_numpy()\n",
    "            y=df.loc[:,outputfeature].to_numpy().sum()\n",
    "            XX.append(X)\n",
    "            yy.append(y)\n",
    "            X=np.array(XX)\n",
    "            y=np.array(yy)\n",
    "            yield X,y"
   ]
  },
  {
   "cell_type": "code",
   "execution_count": 25,
   "metadata": {},
   "outputs": [
    {
     "name": "stderr",
     "output_type": "stream",
     "text": [
      "D:\\ANACONDA\\envs\\tensorflow\\lib\\site-packages\\keras\\callbacks\\callbacks.py:998: UserWarning: `epsilon` argument is deprecated and will be removed, use `min_delta` instead.\n",
      "  warnings.warn('`epsilon` argument is deprecated and '\n"
     ]
    }
   ],
   "source": [
    "PathName=r\"C:\\Users\\14020\\Desktop\\NCBDC 2019\\model\\RNN\"\n",
    "filepath=PathName+\"\\\\2ndl_weights.hdf5\"\n",
    "from keras.callbacks import ReduceLROnPlateau , ModelCheckpoint\n",
    "lr_reduce = ReduceLROnPlateau(monitor='val_loss', factor=0.1, epsilon=0.0001, patience=1, verbose=1)\n",
    "checkpoint = ModelCheckpoint(filepath, monitor='val_loss', verbose=1, save_best_only=True, mode='max')"
   ]
  },
  {
   "cell_type": "code",
   "execution_count": 26,
   "metadata": {
    "collapsed": true
   },
   "outputs": [],
   "source": [
    "Input_shape=[None,len(inputfeature)]\n",
    "single_step_model = tf.keras.models.Sequential()\n",
    "single_step_model.add(tf.keras.layers.LSTM(32,input_shape=Input_shape))\n",
    "single_step_model.add(tf.keras.layers.Dense(1))\n",
    "single_step_model.compile(optimizer=tf.keras.optimizers.RMSprop(), loss='mae')\n",
    "#single_step_model.compile(loss='mean_squared_error', optimizer=Adam(lr = 0.001) , metrics = ['mean_squared_error'])"
   ]
  },
  {
   "cell_type": "code",
   "execution_count": 30,
   "metadata": {},
   "outputs": [
    {
     "name": "stdout",
     "output_type": "stream",
     "text": [
      "Train for 200 steps\n",
      "Epoch 1/10\n",
      "200/200 [==============================] - 140s 698ms/step - loss: 95.8272\n",
      "Epoch 2/10\n",
      "200/200 [==============================] - 139s 696ms/step - loss: 88.5366\n",
      "Epoch 3/10\n",
      "200/200 [==============================] - 139s 697ms/step - loss: 81.9248\n",
      "Epoch 4/10\n",
      "200/200 [==============================] - 140s 700ms/step - loss: 75.5968\n",
      "Epoch 5/10\n",
      "200/200 [==============================] - 139s 695ms/step - loss: 68.7337\n",
      "Epoch 6/10\n",
      "200/200 [==============================] - 140s 698ms/step - loss: 62.1244\n",
      "Epoch 7/10\n",
      "200/200 [==============================] - 140s 700ms/step - loss: 55.7961\n",
      "Epoch 8/10\n",
      "200/200 [==============================] - 139s 693ms/step - loss: 48.9328\n",
      "Epoch 9/10\n",
      "200/200 [==============================] - 143s 716ms/step - loss: 42.3236\n",
      "Epoch 10/10\n",
      "200/200 [==============================] - 144s 720ms/step - loss: 36.0010\n"
     ]
    }
   ],
   "source": [
    "EPOCHS=10\n",
    "EVALUATION_INTERVAL=200\n",
    "single_step_history = single_step_model.fit(train_generator(traindflist), epochs=EPOCHS,\n",
    "                                            steps_per_epoch=EVALUATION_INTERVAL)"
   ]
  },
  {
   "cell_type": "code",
   "execution_count": 31,
   "metadata": {},
   "outputs": [
    {
     "data": {
      "image/png": "[encoded data removed]",
      "text/plain": [
       "<matplotlib.figure.Figure at 0x1c8161e9e10>"
      ]
     },
     "metadata": {},
     "output_type": "display_data"
    }
   ],
   "source": [
    "import matplotlib.pyplot as plt\n",
    "plt.plot(single_step_history.history['loss'])\n",
    "plt.title('model loss')\n",
    "plt.ylabel('loss')\n",
    "plt.xlabel('epoch')\n",
    "plt.legend(['train', 'test'], loc='upper left')\n",
    "plt.show()"
   ]
  },
  {
   "cell_type": "code",
   "execution_count": 35,
   "metadata": {},
   "outputs": [
    {
     "data": {
      "text/plain": [
       "array([[74.08702]], dtype=float32)"
      ]
     },
     "execution_count": 35,
     "metadata": {},
     "output_type": "execute_result"
    }
   ],
   "source": [
    "number=1\n",
    "df=testdflist[number]\n",
    "lens=len(df)\n",
    "width=len(inputfeature)\n",
    "XX,yy=[],[]\n",
    "X=df.loc[:,inputfeature].to_numpy()\n",
    "y=df.loc[:,outputfeature].to_numpy().sum()\n",
    "XX.append(X)\n",
    "yy.append(y)\n",
    "X=np.array(XX)\n",
    "y=np.array(yy)\n",
    "pred = single_step_model.predict(X)\n",
    "pred"
   ]
  },
  {
   "cell_type": "code",
   "execution_count": 36,
   "metadata": {},
   "outputs": [
    {
     "name": "stdout",
     "output_type": "stream",
     "text": [
      "测试集 1 的预测结果是： [74.08702] 真实结果是 114.39999999999418\n",
      "相差： [-40.31298]\n"
     ]
    }
   ],
   "source": [
    "print(\"测试集\",number,\"的预测结果是：\",pred[0],\"真实结果是\",df.iloc[-1].milegap)\n",
    "diff=pred[0]-df.iloc[-1].milegap\n",
    "print(\"相差：\",diff)"
   ]
  },
  {
   "cell_type": "code",
   "execution_count": 34,
   "metadata": {},
   "outputs": [
    {
     "name": "stdout",
     "output_type": "stream",
     "text": [
      "测试集 0 的预测结果是： [74.08701] 真实结果是 83.79999999999562\n",
      "测试集 1 的预测结果是： [74.08702] 真实结果是 114.39999999999418\n",
      "测试集 2 的预测结果是： [74.08702] 真实结果是 121.0\n",
      "测试集 3 的预测结果是： [74.08702] 真实结果是 96.59999999999854\n",
      "WARNING:tensorflow:5 out of the last 6 calls to <function _make_execution_function.<locals>.distributed_function at 0x000001C81C4B4620> triggered tf.function retracing. Tracing is expensive and the excessive number of tracings is likely due to passing python objects instead of tensors. Also, tf.function has experimental_relax_shapes=True option that relaxes argument shapes that can avoid unnecessary retracing. Please refer to https://www.tensorflow.org/beta/tutorials/eager/tf_function#python_or_tensor_args and https://www.tensorflow.org/api_docs/python/tf/function for more details.\n",
      "测试集 4 的预测结果是： [74.08702] 真实结果是 117.80000000000292\n",
      "WARNING:tensorflow:6 out of the last 7 calls to <function _make_execution_function.<locals>.distributed_function at 0x000001C81C4B4620> triggered tf.function retracing. Tracing is expensive and the excessive number of tracings is likely due to passing python objects instead of tensors. Also, tf.function has experimental_relax_shapes=True option that relaxes argument shapes that can avoid unnecessary retracing. Please refer to https://www.tensorflow.org/beta/tutorials/eager/tf_function#python_or_tensor_args and https://www.tensorflow.org/api_docs/python/tf/function for more details.\n",
      "测试集 5 的预测结果是： [74.08702] 真实结果是 121.30000000000292\n",
      "WARNING:tensorflow:7 out of the last 8 calls to <function _make_execution_function.<locals>.distributed_function at 0x000001C81C4B4620> triggered tf.function retracing. Tracing is expensive and the excessive number of tracings is likely due to passing python objects instead of tensors. Also, tf.function has experimental_relax_shapes=True option that relaxes argument shapes that can avoid unnecessary retracing. Please refer to https://www.tensorflow.org/beta/tutorials/eager/tf_function#python_or_tensor_args and https://www.tensorflow.org/api_docs/python/tf/function for more details.\n",
      "测试集 6 的预测结果是： [74.08702] 真实结果是 115.5\n"
     ]
    }
   ],
   "source": [
    "difflist=[]\n",
    "for number,df in enumerate(testdflist):\n",
    "    df=testdflist[number]\n",
    "    lens=len(df)\n",
    "    width=len(inputfeature)\n",
    "    XX,yy=[],[]\n",
    "    X=df.loc[:,inputfeature].to_numpy()\n",
    "    y=df.loc[:,outputfeature].to_numpy().sum()\n",
    "    XX.append(X)\n",
    "    yy.append(y)\n",
    "    X=np.array(XX)\n",
    "    y=np.array(yy)\n",
    "    pred = single_step_model.predict(X)\n",
    "    print(\"测试集\",number,\"的预测结果是：\",pred[0],\"真实结果是\",df.iloc[-1].milegap)\n",
    "    diff=pred[0]-df.iloc[-1].milegap\n",
    "    difflist.append(diff)"
   ]
  },
  {
   "cell_type": "code",
   "execution_count": null,
   "metadata": {
    "collapsed": true
   },
   "outputs": [],
   "source": []
  }
 ],
 "metadata": {
  "kernelspec": {
   "display_name": "Python [conda env:tensorflow]",
   "language": "python",
   "name": "conda-env-tensorflow-py"
  },
  "language_info": {
   "codemirror_mode": {
    "name": "ipython",
    "version": 3
   },
   "file_extension": ".py",
   "mimetype": "text/x-python",
   "name": "python",
   "nbconvert_exporter": "python",
   "pygments_lexer": "ipython3",
   "version": "3.5.2"
  }
 },
 "nbformat": 4,
 "nbformat_minor": 2
}
