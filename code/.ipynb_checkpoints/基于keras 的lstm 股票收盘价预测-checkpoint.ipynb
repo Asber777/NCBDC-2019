{
 "cells": [
  {
   "cell_type": "markdown",
   "metadata": {},
   "source": [
    "https://blog.csdn.net/luoganttcc/article/details/79046870"
   ]
  },
  {
   "cell_type": "code",
   "execution_count": 1,
   "metadata": {},
   "outputs": [
    {
     "name": "stderr",
     "output_type": "stream",
     "text": [
      "D:\\ANACONDA\\envs\\tensorflow\\lib\\site-packages\\scipy\\__init__.py:115: UserWarning: Numpy 1.13.3 or above is required for this version of scipy (detected version 1.13.1)\n",
      "  UserWarning)\n",
      "Using TensorFlow backend.\n"
     ]
    }
   ],
   "source": [
    "import pandas as pd\n",
    "import numpy as np\n",
    "import matplotlib.pyplot as plt\n",
    "from sklearn.preprocessing import MinMaxScaler\n",
    "from keras.models import Sequential\n",
    "from keras.layers import LSTM, Dense, Activation"
   ]
  },
  {
   "cell_type": "code",
   "execution_count": 3,
   "metadata": {},
   "outputs": [
    {
     "ename": "AttributeError",
     "evalue": "module 'tushare' has no attribute 'stock'",
     "output_type": "error",
     "traceback": [
      "\u001b[1;31m---------------------------------------------------------------------------\u001b[0m",
      "\u001b[1;31mAttributeError\u001b[0m                            Traceback (most recent call last)",
      "\u001b[1;32m<ipython-input-3-f265c44b2208>\u001b[0m in \u001b[0;36m<module>\u001b[1;34m()\u001b[0m\n\u001b[0;32m      2\u001b[0m \u001b[1;32mfrom\u001b[0m \u001b[0mmatplotlib\u001b[0m\u001b[1;33m.\u001b[0m\u001b[0mfinance\u001b[0m \u001b[1;32mimport\u001b[0m \u001b[0mquotes_historical_yahoo_ohlc\u001b[0m\u001b[1;33m,\u001b[0m \u001b[0mcandlestick_ohlc\u001b[0m\u001b[1;33m\u001b[0m\u001b[0m\n\u001b[0;32m      3\u001b[0m \u001b[1;31m#import matplotlib\u001b[0m\u001b[1;33m\u001b[0m\u001b[1;33m\u001b[0m\u001b[0m\n\u001b[1;32m----> 4\u001b[1;33m \u001b[1;32mimport\u001b[0m \u001b[0mtushare\u001b[0m \u001b[1;32mas\u001b[0m \u001b[0mts\u001b[0m\u001b[1;33m\u001b[0m\u001b[0m\n\u001b[0m\u001b[0;32m      5\u001b[0m \u001b[1;32mimport\u001b[0m \u001b[0mpandas\u001b[0m \u001b[1;32mas\u001b[0m \u001b[0mpd\u001b[0m\u001b[1;33m\u001b[0m\u001b[0m\n\u001b[0;32m      6\u001b[0m \u001b[1;32mimport\u001b[0m \u001b[0mmatplotlib\u001b[0m\u001b[1;33m.\u001b[0m\u001b[0mpyplot\u001b[0m \u001b[1;32mas\u001b[0m \u001b[0mplt\u001b[0m\u001b[1;33m\u001b[0m\u001b[0m\n",
      "\u001b[1;32mD:\\ANACONDA\\envs\\tensorflow\\lib\\site-packages\\tushare\\__init__.py\u001b[0m in \u001b[0;36m<module>\u001b[1;34m()\u001b[0m\n\u001b[0;32m     41\u001b[0m \u001b[1;32mfor\u001b[0m \u001b[0mclassifying\u001b[0m \u001b[0mdata\u001b[0m\u001b[1;33m\u001b[0m\u001b[0m\n\u001b[0;32m     42\u001b[0m \"\"\"\n\u001b[1;32m---> 43\u001b[1;33m from tushare.stock.classifying import (get_industry_classified, get_concept_classified,\n\u001b[0m\u001b[0;32m     44\u001b[0m                                        \u001b[0mget_area_classified\u001b[0m\u001b[1;33m,\u001b[0m \u001b[0mget_gem_classified\u001b[0m\u001b[1;33m,\u001b[0m\u001b[1;33m\u001b[0m\u001b[0m\n\u001b[0;32m     45\u001b[0m                                        \u001b[0mget_sme_classified\u001b[0m\u001b[1;33m,\u001b[0m \u001b[0mget_st_classified\u001b[0m\u001b[1;33m,\u001b[0m\u001b[1;33m\u001b[0m\u001b[0m\n",
      "\u001b[1;32mD:\\ANACONDA\\envs\\tensorflow\\lib\\site-packages\\tushare\\stock\\classifying.py\u001b[0m in \u001b[0;36m<module>\u001b[1;34m()\u001b[0m\n\u001b[0;32m     16\u001b[0m \u001b[1;32mfrom\u001b[0m \u001b[0mpandas\u001b[0m\u001b[1;33m.\u001b[0m\u001b[0mutil\u001b[0m\u001b[1;33m.\u001b[0m\u001b[0mtesting\u001b[0m \u001b[1;32mimport\u001b[0m \u001b[0m_network_error_classes\u001b[0m\u001b[1;33m\u001b[0m\u001b[0m\n\u001b[0;32m     17\u001b[0m \u001b[1;32mimport\u001b[0m \u001b[0mtime\u001b[0m\u001b[1;33m\u001b[0m\u001b[0m\n\u001b[1;32m---> 18\u001b[1;33m \u001b[1;32mimport\u001b[0m \u001b[0mtushare\u001b[0m\u001b[1;33m.\u001b[0m\u001b[0mstock\u001b[0m\u001b[1;33m.\u001b[0m\u001b[0mfundamental\u001b[0m \u001b[1;32mas\u001b[0m \u001b[0mfd\u001b[0m\u001b[1;33m\u001b[0m\u001b[0m\n\u001b[0m\u001b[0;32m     19\u001b[0m \u001b[1;32mfrom\u001b[0m \u001b[0mtushare\u001b[0m\u001b[1;33m.\u001b[0m\u001b[0mutil\u001b[0m\u001b[1;33m.\u001b[0m\u001b[0mnetbase\u001b[0m \u001b[1;32mimport\u001b[0m \u001b[0mClient\u001b[0m\u001b[1;33m\u001b[0m\u001b[0m\n\u001b[0;32m     20\u001b[0m \u001b[1;33m\u001b[0m\u001b[0m\n",
      "\u001b[1;31mAttributeError\u001b[0m: module 'tushare' has no attribute 'stock'"
     ]
    }
   ],
   "source": [
    "from matplotlib.dates import DateFormatter, WeekdayLocator, DayLocator, MONDAY,YEARLY\n",
    "from matplotlib.finance import quotes_historical_yahoo_ohlc, candlestick_ohlc\n",
    "#import matplotlib\n",
    "import tushare as ts\n",
    "import pandas as pd\n",
    "import matplotlib.pyplot as plt\n",
    "from matplotlib.pylab import date2num\n",
    "import datetime\n",
    "import numpy as np\n",
    "from pandas import DataFrame\n",
    "from numpy import row_stack,column_stack\n",
    "import pandas\n"
   ]
  },
  {
   "cell_type": "code",
   "execution_count": null,
   "metadata": {
    "collapsed": true
   },
   "outputs": [],
   "source": [
    "\n",
    "df=ts.get_hist_data('601857',start='2016-06-15',end='2018-01-12')\n",
    "dd=df[['open','high','low','close']]\n",
    "\n",
    "#print(dd.values.shape[0])\n",
    "\n",
    "dd1=dd .sort_index()\n",
    "\n",
    "dd2=dd1.values.flatten()\n",
    "\n",
    "dd3=pandas.DataFrame(dd1['close'])\n",
    "\n"
   ]
  },
  {
   "cell_type": "code",
   "execution_count": null,
   "metadata": {
    "collapsed": true
   },
   "outputs": [],
   "source": [
    "def load_data(df, sequence_length=10, split=0.8):\n",
    "    \n",
    "    #df = pd.read_csv(file_name, sep=',', usecols=[1])\n",
    "    #data_all = np.array(df).astype(float)\n",
    "    \n",
    "    data_all = np.array(df).astype(float)\n",
    "    scaler = MinMaxScaler()\n",
    "    data_all = scaler.fit_transform(data_all)\n",
    "    data = []\n",
    "    for i in range(len(data_all) - sequence_length - 1):\n",
    "        data.append(data_all[i: i + sequence_length + 1])\n",
    "    reshaped_data = np.array(data).astype('float64')\n",
    "    #np.random.shuffle(reshaped_data)\n",
    "    # 对x进行统一归一化，而y则不归一化\n",
    "    x = reshaped_data[:, :-1]\n",
    "    y = reshaped_data[:, -1]\n",
    "    split_boundary = int(reshaped_data.shape[0] * split)\n",
    "    train_x = x[: split_boundary]\n",
    "    test_x = x[split_boundary:]\n",
    "\n",
    "    train_y = y[: split_boundary]\n",
    "    test_y = y[split_boundary:]\n",
    "\n",
    "    return train_x, train_y, test_x, test_y, scaler\n",
    "\n",
    "\n",
    "def build_model():\n",
    "    # input_dim是输入的train_x的最后一个维度，train_x的维度为(n_samples, time_steps, input_dim)\n",
    "    model = Sequential()\n",
    "    model.add(LSTM(input_dim=1, output_dim=6, return_sequences=True))\n",
    "    #model.add(LSTM(6, input_dim=1, return_sequences=True))\n",
    "    #model.add(LSTM(6, input_shape=(None, 1),return_sequences=True))\n",
    "    \n",
    "    \"\"\"\n",
    "    #model.add(LSTM(input_dim=1, output_dim=6,input_length=10, return_sequences=True))\n",
    "    #model.add(LSTM(6, input_dim=1, input_length=10, return_sequences=True))\n",
    "    model.add(LSTM(6, input_shape=(10, 1),return_sequences=True))\n",
    "    \"\"\"\n",
    "    print(model.layers)\n",
    "    #model.add(LSTM(100, return_sequences=True))\n",
    "    #model.add(LSTM(100, return_sequences=True))\n",
    "    model.add(LSTM(100, return_sequences=False))\n",
    "    model.add(Dense(output_dim=1))\n",
    "    model.add(Activation('linear'))\n",
    "\n",
    "    model.compile(loss='mse', optimizer='rmsprop')\n",
    "    return model\n",
    "\n",
    "\n",
    "def train_model(train_x, train_y, test_x, test_y):\n",
    "    model = build_model()\n",
    "\n",
    "    try:\n",
    "        model.fit(train_x, train_y, batch_size=512, nb_epoch=300, validation_split=0.1)\n",
    "        predict = model.predict(test_x)\n",
    "        predict = np.reshape(predict, (predict.size, ))\n",
    "    except KeyboardInterrupt:\n",
    "        print(predict)\n",
    "        print(test_y)\n",
    "    print(predict)\n",
    "    print(test_y)\n",
    "    try:\n",
    "        fig = plt.figure(1)\n",
    "        plt.plot(predict, 'r:')\n",
    "        plt.plot(test_y, 'g-')\n",
    "        plt.legend(['predict', 'true'])\n",
    "    except Exception as e:\n",
    "        print(e)\n",
    "    return predict, test_y\n",
    "\n"
   ]
  },
  {
   "cell_type": "code",
   "execution_count": null,
   "metadata": {
    "collapsed": true
   },
   "outputs": [],
   "source": [
    "\n",
    "if __name__ == '__main__':\n",
    "    #train_x, train_y, test_x, test_y, scaler = load_data('international-airline-passengers.csv')\n",
    "    train_x, train_y, test_x, test_y, scaler =load_data(dd3, sequence_length=10, split=0.8)\n",
    "    train_x = np.reshape(train_x, (train_x.shape[0], train_x.shape[1], 1))\n",
    "    test_x = np.reshape(test_x, (test_x.shape[0], test_x.shape[1], 1))\n",
    "    predict_y, test_y = train_model(train_x, train_y, test_x, test_y)\n",
    "    predict_y = scaler.inverse_transform([[i] for i in predict_y])\n",
    "    test_y = scaler.inverse_transform(test_y)\n",
    "    fig2 = plt.figure(2)\n",
    "    plt.plot(predict_y, 'g:')\n",
    "    plt.plot(test_y, 'r-')\n",
    "    plt.show()\n",
    "\n"
   ]
  }
 ],
 "metadata": {
  "kernelspec": {
   "display_name": "Python [conda env:tensorflow]",
   "language": "python",
   "name": "conda-env-tensorflow-py"
  },
  "language_info": {
   "codemirror_mode": {
    "name": "ipython",
    "version": 3
   },
   "file_extension": ".py",
   "mimetype": "text/x-python",
   "name": "python",
   "nbconvert_exporter": "python",
   "pygments_lexer": "ipython3",
   "version": "3.5.2"
  }
 },
 "nbformat": 4,
 "nbformat_minor": 2
}
