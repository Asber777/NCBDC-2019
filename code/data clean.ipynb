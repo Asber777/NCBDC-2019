{
 "cells": [
  {
   "cell_type": "code",
   "execution_count": 13,
   "metadata": {
    "collapsed": true
   },
   "outputs": [],
   "source": [
    "from math import floor\n",
    "mouthday={1:31,2:31,3:28,4:31,5:30,6:31,7:30,8:31,9:31,10:30,11:31,12:30}\n",
    "def solvetimediff(t2, t1):\n",
    "    t1sec = t1 % 100\n",
    "    t2sec = t2 % 100\n",
    "    t1 = floor(t1 / 100)\n",
    "    t2 = floor(t2 / 100)\n",
    "    t1min = t1 % 100\n",
    "    t2min = t2 % 100\n",
    "    t1 = floor(t1 / 100)\n",
    "    t2 = floor(t2 / 100)\n",
    "    t1hour = t1 % 100\n",
    "    t2hour = t2 % 100\n",
    "    t1 = floor(t1 / 100)\n",
    "    t2 = floor(t2 / 100)\n",
    "    t1day = t1 % 100\n",
    "    t2day = t2 % 100\n",
    "    t1 = floor(t1 / 100)\n",
    "    t2 = floor(t2 / 100)\n",
    "    t1mth = t1 % 100\n",
    "    t2mth = t2 % 100\n",
    "    if t2sec < t1sec:\n",
    "        t2min = t2min - 1\n",
    "        t3sec = t2sec + 60 - t1sec\n",
    "    else:\n",
    "        t3sec = t2sec - t1sec\n",
    "    if t2min < t1min:\n",
    "        t2hour = t2hour - 1\n",
    "        t3min = t2min + 60 - t1min\n",
    "    else:\n",
    "        t3min = t2min - t1min\n",
    "    if t2hour < t1hour:\n",
    "        t2day = t2day - 1\n",
    "        t3hour = t2hour + 24 - t1hour\n",
    "    else:\n",
    "        t3hour = t2hour - t1hour\n",
    "    if t2day < t1day:\n",
    "        t2mth = t2mth - 1\n",
    "        t3day = t2day + mouthday[t2mth] - t1day\n",
    "    else:\n",
    "        t3day = t2day - t1day\n",
    "    return t3sec+t3min*60+t3hour*3600+t3day*86400\n",
    "#############查看日期的范围-->都是18年的  1 4 7 11月  所以上面的函数够用了\n",
    "for i in range(5):\n",
    "    pass\n",
    "    #print(pd.read_csv(clear_train_data_withoutCharging_path+'\\\\'+clear_train_data_csvname[number]).time.describe())"
   ]
  },
  {
   "cell_type": "code",
   "execution_count": 14,
   "metadata": {
    "scrolled": false
   },
   "outputs": [],
   "source": [
    "import pandas as pd\n",
    "import numpy as np\n",
    "from sklearn import preprocessing\n",
    "import tensorflow as tf\n",
    "import matplotlib.pylab as plt\n",
    "%matplotlib inline\n",
    "#输出格式控制   显示数据时不要将某栏目的数据缩略， 有多少数据显示多少数据\n",
    "pd.set_option('display.max_colwidth', 100000)\n",
    "\n",
    "#注意为了防止\\造成的转义，在字符串前面加r以保持字符原始值  或者双斜杠\n",
    "rare_data_path=r\"C:\\Users\\14020\\Desktop\\NCBDC 2019\"\n",
    "rare_data_excel=r\"train_dataset.xlsx\"\n",
    "clear_train_data_path=r\"C:\\Users\\14020\\Desktop\\NCBDC 2019\\Clear_TrainData\"\n",
    "clear_train_data_withoutCharging_path=r\"C:\\Users\\14020\\Desktop\\NCBDC 2019\\Clear_TrainData_WithoutCharging\"#拿到分割正确的无充电状态表\n",
    "clear_train_data_csvname=[\"Vehicle No.0.csv\",\"Vehicle No.1.csv\",\"Vehicle No.2.csv\",\"Vehicle No.3.csv\",\"Vehicle No.4.csv\"]\n",
    "def getvalidata(car,fragement):\n",
    "    return pd.read_csv(r\"C:\\Users\\14020\\Desktop\\NCBDC 2019\\TestData\\Vehicle No.\"+str(car)+\"_Fragment No.\"+str(fragement)+\".csv\")"
   ]
  },
  {
   "cell_type": "code",
   "execution_count": null,
   "metadata": {
    "collapsed": true
   },
   "outputs": [],
   "source": [
    "#用来增加secdiff\n",
    "def addsecdiff(df):\n",
    "    timediff = []\n",
    "    time = df.time.tolist()\n",
    "    for index, t in enumerate(time):\n",
    "        if(t==time[0]):\n",
    "            timediff.append(0)\n",
    "            continue\n",
    "        timediff.append(solvetimediff(t,time[index-1]))\n",
    "    #print(timediff)\n",
    "    df['secdiff']=pd.Series(timediff)\n",
    "    return df\n",
    "dflist=[]\n"
   ]
  },
  {
   "cell_type": "code",
   "execution_count": null,
   "metadata": {
    "collapsed": true
   },
   "outputs": [],
   "source": [
    "for i in range(5):\n",
    "    car0data=pd.read_csv(clear_train_data_withoutCharging_path+'\\\\'+clear_train_data_csvname[i])\n",
    "    #发现最后一列有一个 Unnamed: 10 去除\n",
    "    car0data=car0data.drop(['Unnamed: 10'],axis=1)\n",
    "    #求出里程增量\n",
    "    car0data['milediff']=car0data['mileage'].diff()\n",
    "    #求出速度增量\n",
    "    car0data['speeddiff']=car0data['speed'].diff()\n",
    "    #求出电池P输出\n",
    "    car0data['batteryP']=car0data['total_voltage']*car0data['total_current']\n",
    "    #求出电机P输出\n",
    "    car0data['motoP']=car0data['motor_voltage']*car0data['motor_current']\n",
    "    #简单求出错误的时间差来筛选\n",
    "    car0data['timediff']=car0data['time'].diff()\n",
    "\n",
    "    # 分段\n",
    "    segementTime=86400\n",
    "    cutdata=car0data.loc[car0data['timediff']>segementTime].loc[car0data.milediff>1]\n",
    "    cutpoint=cutdata.index.tolist()\n",
    "    print(cutpoint)\n",
    "    #得到所有连续段的左右端点list\n",
    "    section=[]\n",
    "    for index,i in enumerate(cutpoint):\n",
    "        if index==0:\n",
    "            section.append([0,cutpoint[0]-1])\n",
    "        else:\n",
    "            section.append([cutpoint[index-1],i-1])\n",
    "        if i==cutpoint[-1]:\n",
    "            section.append([i,len(car0data)-1])\n",
    "    #筛选出中间数据大于10条的片段\n",
    "    timediff=[]\n",
    "    for i in section:\n",
    "        if i[1]-i[0]>10:\n",
    "            timediff.append(i)\n",
    "    print(timediff)\n",
    "    #连续片段第一条数据的 milediff speeddiff timediff设为0 \n",
    "    for cutindex in timediff:\n",
    "        car0data.loc[cutindex[0],'milediff']=0\n",
    "        car0data.loc[cutindex[0],'speeddiff']=0\n",
    "        car0data.loc[cutindex[0],'timediff']=0\n",
    "\n",
    "    #给出连续时间片段\n",
    "    for t in timediff:\n",
    "        another_timediff = []\n",
    "        time = car0data.time.tolist()\n",
    "        for index, another_t in enumerate(time):\n",
    "            if(index==0):\n",
    "                another_timediff.append(0)\n",
    "                continue\n",
    "            another_timediff.append(solvetimediff(another_t,time[index-1]))\n",
    "        car0data['secdiff']=another_timediff\n",
    "        dflist.append(car0data.loc[t[0]:t[1],:])"
   ]
  },
  {
   "cell_type": "code",
   "execution_count": 25,
   "metadata": {
    "collapsed": true
   },
   "outputs": [],
   "source": [
    "#用来增加secdiff\n",
    "def addsecdiff(df):\n",
    "    timediff = []\n",
    "    time = df.time.tolist()\n",
    "    for index, t in enumerate(time):\n",
    "        if(t==time[0]):\n",
    "            timediff.append(0)\n",
    "            continue\n",
    "        timediff.append(solvetimediff(t,time[index-1]))\n",
    "    print(timediff)\n",
    "    df['secdiff']=pd.Series(timediff)\n",
    "    return df\n",
    "dflist=[]\n"
   ]
  },
  {
   "cell_type": "code",
   "execution_count": 49,
   "metadata": {
    "scrolled": true
   },
   "outputs": [
    {
     "name": "stdout",
     "output_type": "stream",
     "text": [
      "[0, 10, 10, 10, 10, 10, 10, 10, 10, 10, 10, 10, 10, 10, 10, 10, 10, 10, 10, 10, 10, 10, 10, 10, 10, 10, 10, 10, 10, 10, 10, 10, 10, 10, 10, 10, 10, 10, 10, 10, 10, 10, 10, 10, 10, 10, 10, 10, 10, 10, 10, 10, 10, 10, 10, 10, 10, 10, 10, 10, 10, 10, 10, 10, 10, 10, 10, 10, 10, 10, 10, 10, 10, 10, 10, 10, 10, 10, 10, 10, 10, 10, 10, 10, 10, 10, 10, 10, 10, 10, 10, 10, 10, 10, 10, 10, 10, 10, 10, 10, 10, 10, 10, 10, 10, 10, 10, 10, 10, 10, 10, 10, 10, 10, 10, 10, 10, 10, 10, 10, 10, 10, 10, 10, 10, 10, 10, 10, 10, 10, 10, 10, 10, 10, 10, 10, 10, 10, 10, 10, 10, 10, 10, 10, 10, 10, 10, 10, 10, 10, 10, 10, 10, 10, 10, 10, 10, 10, 10, 10, 10, 10, 10, 10, 10, 10, 10, 10, 10, 10, 10, 10, 10, 10, 10, 10, 10, 10, 10, 10, 10, 10, 10, 10, 10, 10, 10, 10, 10, 10, 10, 10, 10, 10, 10, 10, 10, 10, 10, 10, 10, 10, 10, 10, 10, 10, 10, 10, 10, 10, 10, 10, 10, 10, 10, 10, 10, 10, 10, 10, 10, 10, 10, 10, 10, 10, 10, 10, 10, 10, 10, 10, 10, 10, 10, 10, 10, 10, 10, 10, 10, 10, 10, 10, 10, 10, 10, 10, 10, 10, 10, 10, 10, 10, 10, 10, 10, 10, 10, 10, 10, 10, 10, 10, 10, 10, 10, 10, 10, 10, 10, 10, 10, 10, 10, 10, 10, 10, 10, 10, 10, 10, 10, 10, 10, 10, 10, 10, 10, 10, 10, 10, 10, 10, 10, 10, 10, 10, 10, 10, 10, 10, 10, 10, 10, 10, 10, 10, 10, 10, 10, 10, 10, 10, 10, 10, 10, 10, 10, 10, 10, 10, 10, 10, 10, 10, 20, 10, 10, 10, 10, 0, 10, 10, 20, 10, 10, 10, 20, 10, 10, 10, 10, 10, 20, 10, 10, 20, 10, 10, 30, 10, 10, 20, 10, 10, 10, 10, 10, 10, 10, 10, 10, 10, 20, 10, 10, 10, 10, 10, 10, 10, 10, 10, 10, 10, 10, 10, 10, 10, 10, 10, 10, 10, 20, 10, 10, 10, 10, 10, 10, 10, 10, 10, 10, 10, 10, 10, 10, 20, 10, 10, 10, 10, 20, 10, 20, 30, 10, 10, 10, 10, 10, 10, 10, 20, 10, 10, 10, 30, 10, 20, 10, 10, 20, 10, 20, 10, 20, 20, 10, 10, 10, 10, 10, 10, 10, 10, 10, 30, 20, 10, 10, 50, 20, 10, 10, 10, 10, 10, 10, 10, 10, 10, 10, 10, 10, 10, 20, 10, 10, 10, 10, 10, 10, 10, 10, 20, 10, 10, 20, 10, 10, 10, 10, 20, 10, 10, 10, 10, 10, 10, 10, 10, 10, 10, 10, 10, 10, 10, 10, 10, 10, 10, 10, 10, 10, 10, 10, 10, 10, 10, 10, 10, 10, 10, 10, 10, 10, 10, 10, 20, 10, 10, 10, 10, 10, 10, 10, 10, 10, 10, 10, 10, 10, 10, 10, 10, 10, 10, 20, 10, 10, 20, 10, 10, 10, 10, 10, 20, 10, 10, 10, 10, 10, 20, 10, 10, 10, 10, 10, 10, 10, 10, 10, 10, 30, 30, 10, 10, 10, 10, 20, 10, 10, 10, 10, 10, 10, 10, 20, 10, 10, 10, 10, 10, 20, 10, 10, 10, 10, 10, 10, 10, 10, 10, 10, 10, 10, 10, 20, 10, 10, 10, 20, 10, 10, 10, 30, 10, 20, 20]\n",
      "602\n"
     ]
    },
    {
     "data": {
      "text/html": [
       "<div>\n",
       "<style scoped>\n",
       "    .dataframe tbody tr th:only-of-type {\n",
       "        vertical-align: middle;\n",
       "    }\n",
       "\n",
       "    .dataframe tbody tr th {\n",
       "        vertical-align: top;\n",
       "    }\n",
       "\n",
       "    .dataframe thead th {\n",
       "        text-align: right;\n",
       "    }\n",
       "</style>\n",
       "<table border=\"1\" class=\"dataframe\">\n",
       "  <thead>\n",
       "    <tr style=\"text-align: right;\">\n",
       "      <th></th>\n",
       "      <th>time</th>\n",
       "      <th>total_voltage</th>\n",
       "      <th>total_current</th>\n",
       "      <th>soc</th>\n",
       "      <th>temp_max</th>\n",
       "      <th>temp_min</th>\n",
       "      <th>motor_voltage</th>\n",
       "      <th>motor_current</th>\n",
       "      <th>mileage</th>\n",
       "      <th>secdiff</th>\n",
       "    </tr>\n",
       "  </thead>\n",
       "  <tbody>\n",
       "    <tr>\n",
       "      <th>0</th>\n",
       "      <td>20180225062053</td>\n",
       "      <td>539.0</td>\n",
       "      <td>28.0</td>\n",
       "      <td>100</td>\n",
       "      <td>17.0</td>\n",
       "      <td>11.0</td>\n",
       "      <td>542.0</td>\n",
       "      <td>6.0</td>\n",
       "      <td>40844.8</td>\n",
       "      <td>0</td>\n",
       "    </tr>\n",
       "    <tr>\n",
       "      <th>1</th>\n",
       "      <td>20180225062103</td>\n",
       "      <td>538.3</td>\n",
       "      <td>30.0</td>\n",
       "      <td>100</td>\n",
       "      <td>17.0</td>\n",
       "      <td>11.0</td>\n",
       "      <td>540.0</td>\n",
       "      <td>23.0</td>\n",
       "      <td>NaN</td>\n",
       "      <td>10</td>\n",
       "    </tr>\n",
       "    <tr>\n",
       "      <th>2</th>\n",
       "      <td>20180225062113</td>\n",
       "      <td>537.7</td>\n",
       "      <td>25.0</td>\n",
       "      <td>100</td>\n",
       "      <td>17.0</td>\n",
       "      <td>11.0</td>\n",
       "      <td>541.0</td>\n",
       "      <td>0.0</td>\n",
       "      <td>NaN</td>\n",
       "      <td>10</td>\n",
       "    </tr>\n",
       "    <tr>\n",
       "      <th>3</th>\n",
       "      <td>20180225062123</td>\n",
       "      <td>537.1</td>\n",
       "      <td>28.0</td>\n",
       "      <td>100</td>\n",
       "      <td>17.0</td>\n",
       "      <td>11.0</td>\n",
       "      <td>541.0</td>\n",
       "      <td>0.0</td>\n",
       "      <td>NaN</td>\n",
       "      <td>10</td>\n",
       "    </tr>\n",
       "    <tr>\n",
       "      <th>4</th>\n",
       "      <td>20180225062133</td>\n",
       "      <td>537.3</td>\n",
       "      <td>13.0</td>\n",
       "      <td>100</td>\n",
       "      <td>17.0</td>\n",
       "      <td>11.0</td>\n",
       "      <td>541.0</td>\n",
       "      <td>0.0</td>\n",
       "      <td>NaN</td>\n",
       "      <td>10</td>\n",
       "    </tr>\n",
       "    <tr>\n",
       "      <th>5</th>\n",
       "      <td>20180225062143</td>\n",
       "      <td>536.5</td>\n",
       "      <td>13.0</td>\n",
       "      <td>100</td>\n",
       "      <td>17.0</td>\n",
       "      <td>11.0</td>\n",
       "      <td>540.0</td>\n",
       "      <td>0.0</td>\n",
       "      <td>NaN</td>\n",
       "      <td>10</td>\n",
       "    </tr>\n",
       "    <tr>\n",
       "      <th>6</th>\n",
       "      <td>20180225062153</td>\n",
       "      <td>536.7</td>\n",
       "      <td>12.0</td>\n",
       "      <td>100</td>\n",
       "      <td>17.0</td>\n",
       "      <td>11.0</td>\n",
       "      <td>541.0</td>\n",
       "      <td>0.0</td>\n",
       "      <td>NaN</td>\n",
       "      <td>10</td>\n",
       "    </tr>\n",
       "    <tr>\n",
       "      <th>7</th>\n",
       "      <td>20180225062203</td>\n",
       "      <td>536.7</td>\n",
       "      <td>11.0</td>\n",
       "      <td>100</td>\n",
       "      <td>17.0</td>\n",
       "      <td>11.0</td>\n",
       "      <td>540.0</td>\n",
       "      <td>0.0</td>\n",
       "      <td>NaN</td>\n",
       "      <td>10</td>\n",
       "    </tr>\n",
       "    <tr>\n",
       "      <th>8</th>\n",
       "      <td>20180225062213</td>\n",
       "      <td>536.6</td>\n",
       "      <td>11.0</td>\n",
       "      <td>99</td>\n",
       "      <td>17.0</td>\n",
       "      <td>11.0</td>\n",
       "      <td>540.0</td>\n",
       "      <td>0.0</td>\n",
       "      <td>NaN</td>\n",
       "      <td>10</td>\n",
       "    </tr>\n",
       "    <tr>\n",
       "      <th>9</th>\n",
       "      <td>20180225062223</td>\n",
       "      <td>536.5</td>\n",
       "      <td>11.0</td>\n",
       "      <td>99</td>\n",
       "      <td>17.0</td>\n",
       "      <td>11.0</td>\n",
       "      <td>540.0</td>\n",
       "      <td>0.0</td>\n",
       "      <td>NaN</td>\n",
       "      <td>10</td>\n",
       "    </tr>\n",
       "    <tr>\n",
       "      <th>10</th>\n",
       "      <td>20180225062233</td>\n",
       "      <td>536.4</td>\n",
       "      <td>11.0</td>\n",
       "      <td>99</td>\n",
       "      <td>17.0</td>\n",
       "      <td>11.0</td>\n",
       "      <td>540.0</td>\n",
       "      <td>0.0</td>\n",
       "      <td>NaN</td>\n",
       "      <td>10</td>\n",
       "    </tr>\n",
       "    <tr>\n",
       "      <th>11</th>\n",
       "      <td>20180225062243</td>\n",
       "      <td>536.3</td>\n",
       "      <td>11.0</td>\n",
       "      <td>99</td>\n",
       "      <td>17.0</td>\n",
       "      <td>11.0</td>\n",
       "      <td>540.0</td>\n",
       "      <td>0.0</td>\n",
       "      <td>NaN</td>\n",
       "      <td>10</td>\n",
       "    </tr>\n",
       "    <tr>\n",
       "      <th>12</th>\n",
       "      <td>20180225062253</td>\n",
       "      <td>536.2</td>\n",
       "      <td>11.0</td>\n",
       "      <td>99</td>\n",
       "      <td>17.0</td>\n",
       "      <td>11.0</td>\n",
       "      <td>540.0</td>\n",
       "      <td>0.0</td>\n",
       "      <td>NaN</td>\n",
       "      <td>10</td>\n",
       "    </tr>\n",
       "    <tr>\n",
       "      <th>13</th>\n",
       "      <td>20180225062303</td>\n",
       "      <td>534.9</td>\n",
       "      <td>22.0</td>\n",
       "      <td>99</td>\n",
       "      <td>17.0</td>\n",
       "      <td>11.0</td>\n",
       "      <td>538.0</td>\n",
       "      <td>7.0</td>\n",
       "      <td>NaN</td>\n",
       "      <td>10</td>\n",
       "    </tr>\n",
       "    <tr>\n",
       "      <th>14</th>\n",
       "      <td>20180225062313</td>\n",
       "      <td>528.9</td>\n",
       "      <td>117.0</td>\n",
       "      <td>99</td>\n",
       "      <td>17.0</td>\n",
       "      <td>11.0</td>\n",
       "      <td>532.0</td>\n",
       "      <td>92.0</td>\n",
       "      <td>NaN</td>\n",
       "      <td>10</td>\n",
       "    </tr>\n",
       "    <tr>\n",
       "      <th>15</th>\n",
       "      <td>20180225062323</td>\n",
       "      <td>532.1</td>\n",
       "      <td>39.0</td>\n",
       "      <td>99</td>\n",
       "      <td>17.0</td>\n",
       "      <td>11.0</td>\n",
       "      <td>536.0</td>\n",
       "      <td>20.0</td>\n",
       "      <td>NaN</td>\n",
       "      <td>10</td>\n",
       "    </tr>\n",
       "    <tr>\n",
       "      <th>16</th>\n",
       "      <td>20180225062333</td>\n",
       "      <td>532.9</td>\n",
       "      <td>28.0</td>\n",
       "      <td>99</td>\n",
       "      <td>17.0</td>\n",
       "      <td>11.0</td>\n",
       "      <td>536.0</td>\n",
       "      <td>13.0</td>\n",
       "      <td>NaN</td>\n",
       "      <td>10</td>\n",
       "    </tr>\n",
       "    <tr>\n",
       "      <th>17</th>\n",
       "      <td>20180225062343</td>\n",
       "      <td>534.0</td>\n",
       "      <td>13.0</td>\n",
       "      <td>99</td>\n",
       "      <td>17.0</td>\n",
       "      <td>11.0</td>\n",
       "      <td>538.0</td>\n",
       "      <td>0.0</td>\n",
       "      <td>NaN</td>\n",
       "      <td>10</td>\n",
       "    </tr>\n",
       "    <tr>\n",
       "      <th>18</th>\n",
       "      <td>20180225062353</td>\n",
       "      <td>534.3</td>\n",
       "      <td>12.0</td>\n",
       "      <td>99</td>\n",
       "      <td>17.0</td>\n",
       "      <td>11.0</td>\n",
       "      <td>538.0</td>\n",
       "      <td>0.0</td>\n",
       "      <td>NaN</td>\n",
       "      <td>10</td>\n",
       "    </tr>\n",
       "    <tr>\n",
       "      <th>19</th>\n",
       "      <td>20180225062403</td>\n",
       "      <td>528.6</td>\n",
       "      <td>112.0</td>\n",
       "      <td>99</td>\n",
       "      <td>17.0</td>\n",
       "      <td>11.0</td>\n",
       "      <td>531.0</td>\n",
       "      <td>87.0</td>\n",
       "      <td>NaN</td>\n",
       "      <td>10</td>\n",
       "    </tr>\n",
       "    <tr>\n",
       "      <th>20</th>\n",
       "      <td>20180225062413</td>\n",
       "      <td>528.9</td>\n",
       "      <td>80.0</td>\n",
       "      <td>99</td>\n",
       "      <td>17.0</td>\n",
       "      <td>11.0</td>\n",
       "      <td>532.0</td>\n",
       "      <td>56.0</td>\n",
       "      <td>NaN</td>\n",
       "      <td>10</td>\n",
       "    </tr>\n",
       "    <tr>\n",
       "      <th>21</th>\n",
       "      <td>20180225062423</td>\n",
       "      <td>529.9</td>\n",
       "      <td>58.0</td>\n",
       "      <td>99</td>\n",
       "      <td>17.0</td>\n",
       "      <td>11.0</td>\n",
       "      <td>533.0</td>\n",
       "      <td>33.0</td>\n",
       "      <td>NaN</td>\n",
       "      <td>10</td>\n",
       "    </tr>\n",
       "    <tr>\n",
       "      <th>22</th>\n",
       "      <td>20180225062433</td>\n",
       "      <td>531.5</td>\n",
       "      <td>37.0</td>\n",
       "      <td>99</td>\n",
       "      <td>17.0</td>\n",
       "      <td>11.0</td>\n",
       "      <td>535.0</td>\n",
       "      <td>19.0</td>\n",
       "      <td>NaN</td>\n",
       "      <td>10</td>\n",
       "    </tr>\n",
       "    <tr>\n",
       "      <th>23</th>\n",
       "      <td>20180225062443</td>\n",
       "      <td>533.5</td>\n",
       "      <td>11.0</td>\n",
       "      <td>99</td>\n",
       "      <td>17.0</td>\n",
       "      <td>11.0</td>\n",
       "      <td>537.0</td>\n",
       "      <td>0.0</td>\n",
       "      <td>NaN</td>\n",
       "      <td>10</td>\n",
       "    </tr>\n",
       "    <tr>\n",
       "      <th>24</th>\n",
       "      <td>20180225062453</td>\n",
       "      <td>533.9</td>\n",
       "      <td>13.0</td>\n",
       "      <td>99</td>\n",
       "      <td>17.0</td>\n",
       "      <td>11.0</td>\n",
       "      <td>537.0</td>\n",
       "      <td>0.0</td>\n",
       "      <td>NaN</td>\n",
       "      <td>10</td>\n",
       "    </tr>\n",
       "    <tr>\n",
       "      <th>25</th>\n",
       "      <td>20180225062503</td>\n",
       "      <td>534.2</td>\n",
       "      <td>13.0</td>\n",
       "      <td>99</td>\n",
       "      <td>17.0</td>\n",
       "      <td>11.0</td>\n",
       "      <td>538.0</td>\n",
       "      <td>0.0</td>\n",
       "      <td>NaN</td>\n",
       "      <td>10</td>\n",
       "    </tr>\n",
       "    <tr>\n",
       "      <th>26</th>\n",
       "      <td>20180225062513</td>\n",
       "      <td>534.4</td>\n",
       "      <td>13.0</td>\n",
       "      <td>99</td>\n",
       "      <td>17.0</td>\n",
       "      <td>11.0</td>\n",
       "      <td>538.0</td>\n",
       "      <td>0.0</td>\n",
       "      <td>NaN</td>\n",
       "      <td>10</td>\n",
       "    </tr>\n",
       "    <tr>\n",
       "      <th>27</th>\n",
       "      <td>20180225062523</td>\n",
       "      <td>529.1</td>\n",
       "      <td>91.0</td>\n",
       "      <td>98</td>\n",
       "      <td>17.0</td>\n",
       "      <td>11.0</td>\n",
       "      <td>532.0</td>\n",
       "      <td>68.0</td>\n",
       "      <td>NaN</td>\n",
       "      <td>10</td>\n",
       "    </tr>\n",
       "    <tr>\n",
       "      <th>28</th>\n",
       "      <td>20180225062533</td>\n",
       "      <td>530.7</td>\n",
       "      <td>55.0</td>\n",
       "      <td>98</td>\n",
       "      <td>17.0</td>\n",
       "      <td>11.0</td>\n",
       "      <td>534.0</td>\n",
       "      <td>32.0</td>\n",
       "      <td>NaN</td>\n",
       "      <td>10</td>\n",
       "    </tr>\n",
       "    <tr>\n",
       "      <th>29</th>\n",
       "      <td>20180225062543</td>\n",
       "      <td>531.4</td>\n",
       "      <td>40.0</td>\n",
       "      <td>98</td>\n",
       "      <td>17.0</td>\n",
       "      <td>11.0</td>\n",
       "      <td>535.0</td>\n",
       "      <td>20.0</td>\n",
       "      <td>NaN</td>\n",
       "      <td>10</td>\n",
       "    </tr>\n",
       "    <tr>\n",
       "      <th>...</th>\n",
       "      <td>...</td>\n",
       "      <td>...</td>\n",
       "      <td>...</td>\n",
       "      <td>...</td>\n",
       "      <td>...</td>\n",
       "      <td>...</td>\n",
       "      <td>...</td>\n",
       "      <td>...</td>\n",
       "      <td>...</td>\n",
       "      <td>...</td>\n",
       "    </tr>\n",
       "    <tr>\n",
       "      <th>572</th>\n",
       "      <td>20180225080343</td>\n",
       "      <td>535.0</td>\n",
       "      <td>11.0</td>\n",
       "      <td>77</td>\n",
       "      <td>21.0</td>\n",
       "      <td>13.0</td>\n",
       "      <td>537.0</td>\n",
       "      <td>0.0</td>\n",
       "      <td>NaN</td>\n",
       "      <td>10</td>\n",
       "    </tr>\n",
       "    <tr>\n",
       "      <th>573</th>\n",
       "      <td>20180225080353</td>\n",
       "      <td>525.5</td>\n",
       "      <td>121.0</td>\n",
       "      <td>77</td>\n",
       "      <td>21.0</td>\n",
       "      <td>14.0</td>\n",
       "      <td>527.0</td>\n",
       "      <td>97.0</td>\n",
       "      <td>NaN</td>\n",
       "      <td>10</td>\n",
       "    </tr>\n",
       "    <tr>\n",
       "      <th>574</th>\n",
       "      <td>20180225080403</td>\n",
       "      <td>531.0</td>\n",
       "      <td>2.0</td>\n",
       "      <td>77</td>\n",
       "      <td>21.0</td>\n",
       "      <td>14.0</td>\n",
       "      <td>534.0</td>\n",
       "      <td>-15.0</td>\n",
       "      <td>NaN</td>\n",
       "      <td>10</td>\n",
       "    </tr>\n",
       "    <tr>\n",
       "      <th>575</th>\n",
       "      <td>20180225080413</td>\n",
       "      <td>539.6</td>\n",
       "      <td>-109.0</td>\n",
       "      <td>77</td>\n",
       "      <td>21.0</td>\n",
       "      <td>14.0</td>\n",
       "      <td>543.0</td>\n",
       "      <td>-14.0</td>\n",
       "      <td>NaN</td>\n",
       "      <td>10</td>\n",
       "    </tr>\n",
       "    <tr>\n",
       "      <th>576</th>\n",
       "      <td>20180225080433</td>\n",
       "      <td>534.2</td>\n",
       "      <td>11.0</td>\n",
       "      <td>77</td>\n",
       "      <td>21.0</td>\n",
       "      <td>14.0</td>\n",
       "      <td>537.0</td>\n",
       "      <td>0.0</td>\n",
       "      <td>NaN</td>\n",
       "      <td>20</td>\n",
       "    </tr>\n",
       "    <tr>\n",
       "      <th>577</th>\n",
       "      <td>20180225080443</td>\n",
       "      <td>524.1</td>\n",
       "      <td>147.0</td>\n",
       "      <td>77</td>\n",
       "      <td>21.0</td>\n",
       "      <td>14.0</td>\n",
       "      <td>525.0</td>\n",
       "      <td>13.0</td>\n",
       "      <td>NaN</td>\n",
       "      <td>10</td>\n",
       "    </tr>\n",
       "    <tr>\n",
       "      <th>578</th>\n",
       "      <td>20180225080453</td>\n",
       "      <td>529.3</td>\n",
       "      <td>30.0</td>\n",
       "      <td>76</td>\n",
       "      <td>21.0</td>\n",
       "      <td>14.0</td>\n",
       "      <td>531.0</td>\n",
       "      <td>16.0</td>\n",
       "      <td>NaN</td>\n",
       "      <td>10</td>\n",
       "    </tr>\n",
       "    <tr>\n",
       "      <th>579</th>\n",
       "      <td>20180225080503</td>\n",
       "      <td>539.3</td>\n",
       "      <td>-125.0</td>\n",
       "      <td>76</td>\n",
       "      <td>21.0</td>\n",
       "      <td>14.0</td>\n",
       "      <td>542.0</td>\n",
       "      <td>-35.0</td>\n",
       "      <td>NaN</td>\n",
       "      <td>10</td>\n",
       "    </tr>\n",
       "    <tr>\n",
       "      <th>580</th>\n",
       "      <td>20180225080513</td>\n",
       "      <td>536.7</td>\n",
       "      <td>-42.0</td>\n",
       "      <td>76</td>\n",
       "      <td>21.0</td>\n",
       "      <td>14.0</td>\n",
       "      <td>538.0</td>\n",
       "      <td>-46.0</td>\n",
       "      <td>NaN</td>\n",
       "      <td>10</td>\n",
       "    </tr>\n",
       "    <tr>\n",
       "      <th>581</th>\n",
       "      <td>20180225080523</td>\n",
       "      <td>523.0</td>\n",
       "      <td>199.0</td>\n",
       "      <td>76</td>\n",
       "      <td>21.0</td>\n",
       "      <td>14.0</td>\n",
       "      <td>524.0</td>\n",
       "      <td>62.0</td>\n",
       "      <td>NaN</td>\n",
       "      <td>10</td>\n",
       "    </tr>\n",
       "    <tr>\n",
       "      <th>582</th>\n",
       "      <td>20180225080533</td>\n",
       "      <td>531.4</td>\n",
       "      <td>-5.0</td>\n",
       "      <td>76</td>\n",
       "      <td>21.0</td>\n",
       "      <td>14.0</td>\n",
       "      <td>534.0</td>\n",
       "      <td>-17.0</td>\n",
       "      <td>NaN</td>\n",
       "      <td>10</td>\n",
       "    </tr>\n",
       "    <tr>\n",
       "      <th>583</th>\n",
       "      <td>20180225080543</td>\n",
       "      <td>538.6</td>\n",
       "      <td>-86.0</td>\n",
       "      <td>76</td>\n",
       "      <td>21.0</td>\n",
       "      <td>14.0</td>\n",
       "      <td>541.0</td>\n",
       "      <td>-93.0</td>\n",
       "      <td>NaN</td>\n",
       "      <td>10</td>\n",
       "    </tr>\n",
       "    <tr>\n",
       "      <th>584</th>\n",
       "      <td>20180225080553</td>\n",
       "      <td>527.0</td>\n",
       "      <td>138.0</td>\n",
       "      <td>76</td>\n",
       "      <td>21.0</td>\n",
       "      <td>14.0</td>\n",
       "      <td>526.0</td>\n",
       "      <td>46.0</td>\n",
       "      <td>NaN</td>\n",
       "      <td>10</td>\n",
       "    </tr>\n",
       "    <tr>\n",
       "      <th>585</th>\n",
       "      <td>20180225080603</td>\n",
       "      <td>529.4</td>\n",
       "      <td>24.0</td>\n",
       "      <td>76</td>\n",
       "      <td>21.0</td>\n",
       "      <td>14.0</td>\n",
       "      <td>533.0</td>\n",
       "      <td>-5.0</td>\n",
       "      <td>NaN</td>\n",
       "      <td>10</td>\n",
       "    </tr>\n",
       "    <tr>\n",
       "      <th>586</th>\n",
       "      <td>20180225080613</td>\n",
       "      <td>529.5</td>\n",
       "      <td>45.0</td>\n",
       "      <td>76</td>\n",
       "      <td>21.0</td>\n",
       "      <td>14.0</td>\n",
       "      <td>531.0</td>\n",
       "      <td>36.0</td>\n",
       "      <td>NaN</td>\n",
       "      <td>10</td>\n",
       "    </tr>\n",
       "    <tr>\n",
       "      <th>587</th>\n",
       "      <td>20180225080623</td>\n",
       "      <td>538.2</td>\n",
       "      <td>-63.0</td>\n",
       "      <td>76</td>\n",
       "      <td>21.0</td>\n",
       "      <td>14.0</td>\n",
       "      <td>536.0</td>\n",
       "      <td>-19.0</td>\n",
       "      <td>NaN</td>\n",
       "      <td>10</td>\n",
       "    </tr>\n",
       "    <tr>\n",
       "      <th>588</th>\n",
       "      <td>20180225080633</td>\n",
       "      <td>528.5</td>\n",
       "      <td>94.0</td>\n",
       "      <td>76</td>\n",
       "      <td>21.0</td>\n",
       "      <td>14.0</td>\n",
       "      <td>530.0</td>\n",
       "      <td>79.0</td>\n",
       "      <td>NaN</td>\n",
       "      <td>10</td>\n",
       "    </tr>\n",
       "    <tr>\n",
       "      <th>589</th>\n",
       "      <td>20180225080643</td>\n",
       "      <td>528.6</td>\n",
       "      <td>47.0</td>\n",
       "      <td>76</td>\n",
       "      <td>21.0</td>\n",
       "      <td>14.0</td>\n",
       "      <td>531.0</td>\n",
       "      <td>25.0</td>\n",
       "      <td>NaN</td>\n",
       "      <td>10</td>\n",
       "    </tr>\n",
       "    <tr>\n",
       "      <th>590</th>\n",
       "      <td>20180225080703</td>\n",
       "      <td>529.6</td>\n",
       "      <td>97.0</td>\n",
       "      <td>76</td>\n",
       "      <td>22.0</td>\n",
       "      <td>14.0</td>\n",
       "      <td>530.0</td>\n",
       "      <td>95.0</td>\n",
       "      <td>NaN</td>\n",
       "      <td>20</td>\n",
       "    </tr>\n",
       "    <tr>\n",
       "      <th>591</th>\n",
       "      <td>20180225080713</td>\n",
       "      <td>530.1</td>\n",
       "      <td>37.0</td>\n",
       "      <td>75</td>\n",
       "      <td>22.0</td>\n",
       "      <td>14.0</td>\n",
       "      <td>532.0</td>\n",
       "      <td>8.0</td>\n",
       "      <td>NaN</td>\n",
       "      <td>10</td>\n",
       "    </tr>\n",
       "    <tr>\n",
       "      <th>592</th>\n",
       "      <td>20180225080723</td>\n",
       "      <td>531.0</td>\n",
       "      <td>33.0</td>\n",
       "      <td>75</td>\n",
       "      <td>22.0</td>\n",
       "      <td>14.0</td>\n",
       "      <td>533.0</td>\n",
       "      <td>15.0</td>\n",
       "      <td>NaN</td>\n",
       "      <td>10</td>\n",
       "    </tr>\n",
       "    <tr>\n",
       "      <th>593</th>\n",
       "      <td>20180225080733</td>\n",
       "      <td>539.0</td>\n",
       "      <td>-134.0</td>\n",
       "      <td>75</td>\n",
       "      <td>22.0</td>\n",
       "      <td>14.0</td>\n",
       "      <td>543.0</td>\n",
       "      <td>-41.0</td>\n",
       "      <td>NaN</td>\n",
       "      <td>10</td>\n",
       "    </tr>\n",
       "    <tr>\n",
       "      <th>594</th>\n",
       "      <td>20180225080753</td>\n",
       "      <td>529.5</td>\n",
       "      <td>37.0</td>\n",
       "      <td>75</td>\n",
       "      <td>22.0</td>\n",
       "      <td>15.0</td>\n",
       "      <td>532.0</td>\n",
       "      <td>23.0</td>\n",
       "      <td>NaN</td>\n",
       "      <td>20</td>\n",
       "    </tr>\n",
       "    <tr>\n",
       "      <th>595</th>\n",
       "      <td>20180225080803</td>\n",
       "      <td>536.2</td>\n",
       "      <td>-3.0</td>\n",
       "      <td>75</td>\n",
       "      <td>22.0</td>\n",
       "      <td>15.0</td>\n",
       "      <td>537.0</td>\n",
       "      <td>24.0</td>\n",
       "      <td>NaN</td>\n",
       "      <td>10</td>\n",
       "    </tr>\n",
       "    <tr>\n",
       "      <th>596</th>\n",
       "      <td>20180225080813</td>\n",
       "      <td>527.4</td>\n",
       "      <td>92.0</td>\n",
       "      <td>74</td>\n",
       "      <td>22.0</td>\n",
       "      <td>15.0</td>\n",
       "      <td>529.0</td>\n",
       "      <td>73.0</td>\n",
       "      <td>NaN</td>\n",
       "      <td>10</td>\n",
       "    </tr>\n",
       "    <tr>\n",
       "      <th>597</th>\n",
       "      <td>20180225080823</td>\n",
       "      <td>529.1</td>\n",
       "      <td>62.0</td>\n",
       "      <td>74</td>\n",
       "      <td>22.0</td>\n",
       "      <td>15.0</td>\n",
       "      <td>530.0</td>\n",
       "      <td>53.0</td>\n",
       "      <td>NaN</td>\n",
       "      <td>10</td>\n",
       "    </tr>\n",
       "    <tr>\n",
       "      <th>598</th>\n",
       "      <td>20180225080853</td>\n",
       "      <td>531.7</td>\n",
       "      <td>31.0</td>\n",
       "      <td>74</td>\n",
       "      <td>22.0</td>\n",
       "      <td>15.0</td>\n",
       "      <td>534.0</td>\n",
       "      <td>25.0</td>\n",
       "      <td>NaN</td>\n",
       "      <td>30</td>\n",
       "    </tr>\n",
       "    <tr>\n",
       "      <th>599</th>\n",
       "      <td>20180225080903</td>\n",
       "      <td>528.3</td>\n",
       "      <td>75.0</td>\n",
       "      <td>74</td>\n",
       "      <td>22.0</td>\n",
       "      <td>15.0</td>\n",
       "      <td>530.0</td>\n",
       "      <td>45.0</td>\n",
       "      <td>NaN</td>\n",
       "      <td>10</td>\n",
       "    </tr>\n",
       "    <tr>\n",
       "      <th>600</th>\n",
       "      <td>20180225080923</td>\n",
       "      <td>530.3</td>\n",
       "      <td>31.0</td>\n",
       "      <td>74</td>\n",
       "      <td>22.0</td>\n",
       "      <td>15.0</td>\n",
       "      <td>533.0</td>\n",
       "      <td>19.0</td>\n",
       "      <td>NaN</td>\n",
       "      <td>20</td>\n",
       "    </tr>\n",
       "    <tr>\n",
       "      <th>601</th>\n",
       "      <td>20180225080943</td>\n",
       "      <td>535.2</td>\n",
       "      <td>3.0</td>\n",
       "      <td>74</td>\n",
       "      <td>22.0</td>\n",
       "      <td>15.0</td>\n",
       "      <td>537.0</td>\n",
       "      <td>0.0</td>\n",
       "      <td>NaN</td>\n",
       "      <td>20</td>\n",
       "    </tr>\n",
       "  </tbody>\n",
       "</table>\n",
       "<p>602 rows × 10 columns</p>\n",
       "</div>"
      ],
      "text/plain": [
       "               time  total_voltage  total_current  soc  temp_max  temp_min  \\\n",
       "0    20180225062053          539.0           28.0  100      17.0      11.0   \n",
       "1    20180225062103          538.3           30.0  100      17.0      11.0   \n",
       "2    20180225062113          537.7           25.0  100      17.0      11.0   \n",
       "3    20180225062123          537.1           28.0  100      17.0      11.0   \n",
       "4    20180225062133          537.3           13.0  100      17.0      11.0   \n",
       "5    20180225062143          536.5           13.0  100      17.0      11.0   \n",
       "6    20180225062153          536.7           12.0  100      17.0      11.0   \n",
       "7    20180225062203          536.7           11.0  100      17.0      11.0   \n",
       "8    20180225062213          536.6           11.0   99      17.0      11.0   \n",
       "9    20180225062223          536.5           11.0   99      17.0      11.0   \n",
       "10   20180225062233          536.4           11.0   99      17.0      11.0   \n",
       "11   20180225062243          536.3           11.0   99      17.0      11.0   \n",
       "12   20180225062253          536.2           11.0   99      17.0      11.0   \n",
       "13   20180225062303          534.9           22.0   99      17.0      11.0   \n",
       "14   20180225062313          528.9          117.0   99      17.0      11.0   \n",
       "15   20180225062323          532.1           39.0   99      17.0      11.0   \n",
       "16   20180225062333          532.9           28.0   99      17.0      11.0   \n",
       "17   20180225062343          534.0           13.0   99      17.0      11.0   \n",
       "18   20180225062353          534.3           12.0   99      17.0      11.0   \n",
       "19   20180225062403          528.6          112.0   99      17.0      11.0   \n",
       "20   20180225062413          528.9           80.0   99      17.0      11.0   \n",
       "21   20180225062423          529.9           58.0   99      17.0      11.0   \n",
       "22   20180225062433          531.5           37.0   99      17.0      11.0   \n",
       "23   20180225062443          533.5           11.0   99      17.0      11.0   \n",
       "24   20180225062453          533.9           13.0   99      17.0      11.0   \n",
       "25   20180225062503          534.2           13.0   99      17.0      11.0   \n",
       "26   20180225062513          534.4           13.0   99      17.0      11.0   \n",
       "27   20180225062523          529.1           91.0   98      17.0      11.0   \n",
       "28   20180225062533          530.7           55.0   98      17.0      11.0   \n",
       "29   20180225062543          531.4           40.0   98      17.0      11.0   \n",
       "..              ...            ...            ...  ...       ...       ...   \n",
       "572  20180225080343          535.0           11.0   77      21.0      13.0   \n",
       "573  20180225080353          525.5          121.0   77      21.0      14.0   \n",
       "574  20180225080403          531.0            2.0   77      21.0      14.0   \n",
       "575  20180225080413          539.6         -109.0   77      21.0      14.0   \n",
       "576  20180225080433          534.2           11.0   77      21.0      14.0   \n",
       "577  20180225080443          524.1          147.0   77      21.0      14.0   \n",
       "578  20180225080453          529.3           30.0   76      21.0      14.0   \n",
       "579  20180225080503          539.3         -125.0   76      21.0      14.0   \n",
       "580  20180225080513          536.7          -42.0   76      21.0      14.0   \n",
       "581  20180225080523          523.0          199.0   76      21.0      14.0   \n",
       "582  20180225080533          531.4           -5.0   76      21.0      14.0   \n",
       "583  20180225080543          538.6          -86.0   76      21.0      14.0   \n",
       "584  20180225080553          527.0          138.0   76      21.0      14.0   \n",
       "585  20180225080603          529.4           24.0   76      21.0      14.0   \n",
       "586  20180225080613          529.5           45.0   76      21.0      14.0   \n",
       "587  20180225080623          538.2          -63.0   76      21.0      14.0   \n",
       "588  20180225080633          528.5           94.0   76      21.0      14.0   \n",
       "589  20180225080643          528.6           47.0   76      21.0      14.0   \n",
       "590  20180225080703          529.6           97.0   76      22.0      14.0   \n",
       "591  20180225080713          530.1           37.0   75      22.0      14.0   \n",
       "592  20180225080723          531.0           33.0   75      22.0      14.0   \n",
       "593  20180225080733          539.0         -134.0   75      22.0      14.0   \n",
       "594  20180225080753          529.5           37.0   75      22.0      15.0   \n",
       "595  20180225080803          536.2           -3.0   75      22.0      15.0   \n",
       "596  20180225080813          527.4           92.0   74      22.0      15.0   \n",
       "597  20180225080823          529.1           62.0   74      22.0      15.0   \n",
       "598  20180225080853          531.7           31.0   74      22.0      15.0   \n",
       "599  20180225080903          528.3           75.0   74      22.0      15.0   \n",
       "600  20180225080923          530.3           31.0   74      22.0      15.0   \n",
       "601  20180225080943          535.2            3.0   74      22.0      15.0   \n",
       "\n",
       "     motor_voltage  motor_current  mileage  secdiff  \n",
       "0            542.0            6.0  40844.8        0  \n",
       "1            540.0           23.0      NaN       10  \n",
       "2            541.0            0.0      NaN       10  \n",
       "3            541.0            0.0      NaN       10  \n",
       "4            541.0            0.0      NaN       10  \n",
       "5            540.0            0.0      NaN       10  \n",
       "6            541.0            0.0      NaN       10  \n",
       "7            540.0            0.0      NaN       10  \n",
       "8            540.0            0.0      NaN       10  \n",
       "9            540.0            0.0      NaN       10  \n",
       "10           540.0            0.0      NaN       10  \n",
       "11           540.0            0.0      NaN       10  \n",
       "12           540.0            0.0      NaN       10  \n",
       "13           538.0            7.0      NaN       10  \n",
       "14           532.0           92.0      NaN       10  \n",
       "15           536.0           20.0      NaN       10  \n",
       "16           536.0           13.0      NaN       10  \n",
       "17           538.0            0.0      NaN       10  \n",
       "18           538.0            0.0      NaN       10  \n",
       "19           531.0           87.0      NaN       10  \n",
       "20           532.0           56.0      NaN       10  \n",
       "21           533.0           33.0      NaN       10  \n",
       "22           535.0           19.0      NaN       10  \n",
       "23           537.0            0.0      NaN       10  \n",
       "24           537.0            0.0      NaN       10  \n",
       "25           538.0            0.0      NaN       10  \n",
       "26           538.0            0.0      NaN       10  \n",
       "27           532.0           68.0      NaN       10  \n",
       "28           534.0           32.0      NaN       10  \n",
       "29           535.0           20.0      NaN       10  \n",
       "..             ...            ...      ...      ...  \n",
       "572          537.0            0.0      NaN       10  \n",
       "573          527.0           97.0      NaN       10  \n",
       "574          534.0          -15.0      NaN       10  \n",
       "575          543.0          -14.0      NaN       10  \n",
       "576          537.0            0.0      NaN       20  \n",
       "577          525.0           13.0      NaN       10  \n",
       "578          531.0           16.0      NaN       10  \n",
       "579          542.0          -35.0      NaN       10  \n",
       "580          538.0          -46.0      NaN       10  \n",
       "581          524.0           62.0      NaN       10  \n",
       "582          534.0          -17.0      NaN       10  \n",
       "583          541.0          -93.0      NaN       10  \n",
       "584          526.0           46.0      NaN       10  \n",
       "585          533.0           -5.0      NaN       10  \n",
       "586          531.0           36.0      NaN       10  \n",
       "587          536.0          -19.0      NaN       10  \n",
       "588          530.0           79.0      NaN       10  \n",
       "589          531.0           25.0      NaN       10  \n",
       "590          530.0           95.0      NaN       20  \n",
       "591          532.0            8.0      NaN       10  \n",
       "592          533.0           15.0      NaN       10  \n",
       "593          543.0          -41.0      NaN       10  \n",
       "594          532.0           23.0      NaN       20  \n",
       "595          537.0           24.0      NaN       10  \n",
       "596          529.0           73.0      NaN       10  \n",
       "597          530.0           53.0      NaN       10  \n",
       "598          534.0           25.0      NaN       30  \n",
       "599          530.0           45.0      NaN       10  \n",
       "600          533.0           19.0      NaN       20  \n",
       "601          537.0            0.0      NaN       20  \n",
       "\n",
       "[602 rows x 10 columns]"
      ]
     },
     "execution_count": 49,
     "metadata": {},
     "output_type": "execute_result"
    }
   ],
   "source": [
    "df=addsecdiff(getvalidata(1,2))\n",
    "print(len(df))\n",
    "pd.set_option('display.max_colwidth', 100000)\n",
    "df"
   ]
  },
  {
   "cell_type": "code",
   "execution_count": 4,
   "metadata": {},
   "outputs": [
    {
     "data": {
      "text/plain": [
       "31"
      ]
     },
     "execution_count": 4,
     "metadata": {},
     "output_type": "execute_result"
    }
   ],
   "source": [
    "len(dflist)"
   ]
  },
  {
   "cell_type": "code",
   "execution_count": 5,
   "metadata": {
    "scrolled": true
   },
   "outputs": [
    {
     "data": {
      "text/html": [
       "<div>\n",
       "<style scoped>\n",
       "    .dataframe tbody tr th:only-of-type {\n",
       "        vertical-align: middle;\n",
       "    }\n",
       "\n",
       "    .dataframe tbody tr th {\n",
       "        vertical-align: top;\n",
       "    }\n",
       "\n",
       "    .dataframe thead th {\n",
       "        text-align: right;\n",
       "    }\n",
       "</style>\n",
       "<table border=\"1\" class=\"dataframe\">\n",
       "  <thead>\n",
       "    <tr style=\"text-align: right;\">\n",
       "      <th></th>\n",
       "      <th>time</th>\n",
       "      <th>speed</th>\n",
       "      <th>total_voltage</th>\n",
       "      <th>total_current</th>\n",
       "      <th>soc</th>\n",
       "      <th>temp_max</th>\n",
       "      <th>temp_min</th>\n",
       "      <th>motor_voltage</th>\n",
       "      <th>motor_current</th>\n",
       "      <th>mileage</th>\n",
       "      <th>milediff</th>\n",
       "      <th>speeddiff</th>\n",
       "      <th>batteryP</th>\n",
       "      <th>motoP</th>\n",
       "      <th>timediff</th>\n",
       "      <th>secdiff</th>\n",
       "    </tr>\n",
       "  </thead>\n",
       "  <tbody>\n",
       "    <tr>\n",
       "      <th>0</th>\n",
       "      <td>20180101064535</td>\n",
       "      <td>17.0</td>\n",
       "      <td>545.7</td>\n",
       "      <td>2.0</td>\n",
       "      <td>100.0</td>\n",
       "      <td>21.0</td>\n",
       "      <td>14.0</td>\n",
       "      <td>546.0</td>\n",
       "      <td>0.0</td>\n",
       "      <td>33891.8</td>\n",
       "      <td>0.0</td>\n",
       "      <td>0.0</td>\n",
       "      <td>1091.4</td>\n",
       "      <td>0.0</td>\n",
       "      <td>0.0</td>\n",
       "      <td>0</td>\n",
       "    </tr>\n",
       "    <tr>\n",
       "      <th>1</th>\n",
       "      <td>20180101064545</td>\n",
       "      <td>23.0</td>\n",
       "      <td>537.1</td>\n",
       "      <td>121.0</td>\n",
       "      <td>100.0</td>\n",
       "      <td>21.0</td>\n",
       "      <td>14.0</td>\n",
       "      <td>536.0</td>\n",
       "      <td>118.0</td>\n",
       "      <td>33891.8</td>\n",
       "      <td>0.0</td>\n",
       "      <td>6.0</td>\n",
       "      <td>64989.1</td>\n",
       "      <td>63248.0</td>\n",
       "      <td>10.0</td>\n",
       "      <td>10</td>\n",
       "    </tr>\n",
       "    <tr>\n",
       "      <th>2</th>\n",
       "      <td>20180101064555</td>\n",
       "      <td>36.0</td>\n",
       "      <td>535.1</td>\n",
       "      <td>57.0</td>\n",
       "      <td>99.0</td>\n",
       "      <td>21.0</td>\n",
       "      <td>14.0</td>\n",
       "      <td>535.0</td>\n",
       "      <td>53.0</td>\n",
       "      <td>33891.9</td>\n",
       "      <td>0.1</td>\n",
       "      <td>13.0</td>\n",
       "      <td>30500.7</td>\n",
       "      <td>28355.0</td>\n",
       "      <td>10.0</td>\n",
       "      <td>10</td>\n",
       "    </tr>\n",
       "    <tr>\n",
       "      <th>3</th>\n",
       "      <td>20180101064605</td>\n",
       "      <td>32.0</td>\n",
       "      <td>537.0</td>\n",
       "      <td>2.0</td>\n",
       "      <td>99.0</td>\n",
       "      <td>21.0</td>\n",
       "      <td>14.0</td>\n",
       "      <td>537.0</td>\n",
       "      <td>0.0</td>\n",
       "      <td>33892.0</td>\n",
       "      <td>0.1</td>\n",
       "      <td>-4.0</td>\n",
       "      <td>1074.0</td>\n",
       "      <td>0.0</td>\n",
       "      <td>50.0</td>\n",
       "      <td>10</td>\n",
       "    </tr>\n",
       "    <tr>\n",
       "      <th>4</th>\n",
       "      <td>20180101064615</td>\n",
       "      <td>1.0</td>\n",
       "      <td>537.6</td>\n",
       "      <td>3.0</td>\n",
       "      <td>99.0</td>\n",
       "      <td>21.0</td>\n",
       "      <td>14.0</td>\n",
       "      <td>538.0</td>\n",
       "      <td>0.0</td>\n",
       "      <td>33892.0</td>\n",
       "      <td>0.0</td>\n",
       "      <td>-31.0</td>\n",
       "      <td>1612.8</td>\n",
       "      <td>0.0</td>\n",
       "      <td>10.0</td>\n",
       "      <td>10</td>\n",
       "    </tr>\n",
       "    <tr>\n",
       "      <th>5</th>\n",
       "      <td>20180101064625</td>\n",
       "      <td>5.0</td>\n",
       "      <td>537.3</td>\n",
       "      <td>21.0</td>\n",
       "      <td>99.0</td>\n",
       "      <td>21.0</td>\n",
       "      <td>14.0</td>\n",
       "      <td>535.0</td>\n",
       "      <td>55.0</td>\n",
       "      <td>33892.0</td>\n",
       "      <td>0.0</td>\n",
       "      <td>4.0</td>\n",
       "      <td>11283.3</td>\n",
       "      <td>29425.0</td>\n",
       "      <td>10.0</td>\n",
       "      <td>10</td>\n",
       "    </tr>\n",
       "    <tr>\n",
       "      <th>6</th>\n",
       "      <td>20180101064635</td>\n",
       "      <td>33.0</td>\n",
       "      <td>531.2</td>\n",
       "      <td>78.0</td>\n",
       "      <td>99.0</td>\n",
       "      <td>21.0</td>\n",
       "      <td>14.0</td>\n",
       "      <td>531.0</td>\n",
       "      <td>81.0</td>\n",
       "      <td>33892.1</td>\n",
       "      <td>0.1</td>\n",
       "      <td>28.0</td>\n",
       "      <td>41433.6</td>\n",
       "      <td>43011.0</td>\n",
       "      <td>10.0</td>\n",
       "      <td>10</td>\n",
       "    </tr>\n",
       "    <tr>\n",
       "      <th>7</th>\n",
       "      <td>20180101064645</td>\n",
       "      <td>37.0</td>\n",
       "      <td>532.5</td>\n",
       "      <td>38.0</td>\n",
       "      <td>99.0</td>\n",
       "      <td>21.0</td>\n",
       "      <td>14.0</td>\n",
       "      <td>532.0</td>\n",
       "      <td>38.0</td>\n",
       "      <td>33892.2</td>\n",
       "      <td>0.1</td>\n",
       "      <td>4.0</td>\n",
       "      <td>20235.0</td>\n",
       "      <td>20216.0</td>\n",
       "      <td>10.0</td>\n",
       "      <td>10</td>\n",
       "    </tr>\n",
       "    <tr>\n",
       "      <th>8</th>\n",
       "      <td>20180101064655</td>\n",
       "      <td>33.0</td>\n",
       "      <td>534.9</td>\n",
       "      <td>2.0</td>\n",
       "      <td>99.0</td>\n",
       "      <td>21.0</td>\n",
       "      <td>14.0</td>\n",
       "      <td>535.0</td>\n",
       "      <td>8.0</td>\n",
       "      <td>33892.3</td>\n",
       "      <td>0.1</td>\n",
       "      <td>-4.0</td>\n",
       "      <td>1069.8</td>\n",
       "      <td>4280.0</td>\n",
       "      <td>10.0</td>\n",
       "      <td>10</td>\n",
       "    </tr>\n",
       "    <tr>\n",
       "      <th>9</th>\n",
       "      <td>20180101064705</td>\n",
       "      <td>35.0</td>\n",
       "      <td>532.5</td>\n",
       "      <td>43.0</td>\n",
       "      <td>99.0</td>\n",
       "      <td>21.0</td>\n",
       "      <td>14.0</td>\n",
       "      <td>533.0</td>\n",
       "      <td>15.0</td>\n",
       "      <td>33892.4</td>\n",
       "      <td>0.1</td>\n",
       "      <td>2.0</td>\n",
       "      <td>22897.5</td>\n",
       "      <td>7995.0</td>\n",
       "      <td>50.0</td>\n",
       "      <td>10</td>\n",
       "    </tr>\n",
       "    <tr>\n",
       "      <th>10</th>\n",
       "      <td>20180101064715</td>\n",
       "      <td>17.0</td>\n",
       "      <td>535.2</td>\n",
       "      <td>2.0</td>\n",
       "      <td>99.0</td>\n",
       "      <td>21.0</td>\n",
       "      <td>14.0</td>\n",
       "      <td>535.0</td>\n",
       "      <td>0.0</td>\n",
       "      <td>33892.5</td>\n",
       "      <td>0.1</td>\n",
       "      <td>-18.0</td>\n",
       "      <td>1070.4</td>\n",
       "      <td>0.0</td>\n",
       "      <td>10.0</td>\n",
       "      <td>10</td>\n",
       "    </tr>\n",
       "    <tr>\n",
       "      <th>11</th>\n",
       "      <td>20180101064725</td>\n",
       "      <td>1.0</td>\n",
       "      <td>535.6</td>\n",
       "      <td>3.0</td>\n",
       "      <td>99.0</td>\n",
       "      <td>21.0</td>\n",
       "      <td>14.0</td>\n",
       "      <td>535.0</td>\n",
       "      <td>0.0</td>\n",
       "      <td>33892.5</td>\n",
       "      <td>0.0</td>\n",
       "      <td>-16.0</td>\n",
       "      <td>1606.8</td>\n",
       "      <td>0.0</td>\n",
       "      <td>10.0</td>\n",
       "      <td>10</td>\n",
       "    </tr>\n",
       "    <tr>\n",
       "      <th>12</th>\n",
       "      <td>20180101064735</td>\n",
       "      <td>35.0</td>\n",
       "      <td>529.3</td>\n",
       "      <td>97.0</td>\n",
       "      <td>99.0</td>\n",
       "      <td>21.0</td>\n",
       "      <td>14.0</td>\n",
       "      <td>529.0</td>\n",
       "      <td>90.0</td>\n",
       "      <td>33892.5</td>\n",
       "      <td>0.0</td>\n",
       "      <td>34.0</td>\n",
       "      <td>51342.1</td>\n",
       "      <td>47610.0</td>\n",
       "      <td>10.0</td>\n",
       "      <td>10</td>\n",
       "    </tr>\n",
       "    <tr>\n",
       "      <th>13</th>\n",
       "      <td>20180101064745</td>\n",
       "      <td>45.0</td>\n",
       "      <td>529.6</td>\n",
       "      <td>79.0</td>\n",
       "      <td>99.0</td>\n",
       "      <td>21.0</td>\n",
       "      <td>14.0</td>\n",
       "      <td>529.0</td>\n",
       "      <td>79.0</td>\n",
       "      <td>33892.6</td>\n",
       "      <td>0.1</td>\n",
       "      <td>10.0</td>\n",
       "      <td>41838.4</td>\n",
       "      <td>41791.0</td>\n",
       "      <td>10.0</td>\n",
       "      <td>10</td>\n",
       "    </tr>\n",
       "    <tr>\n",
       "      <th>14</th>\n",
       "      <td>20180101064755</td>\n",
       "      <td>46.0</td>\n",
       "      <td>532.0</td>\n",
       "      <td>40.0</td>\n",
       "      <td>99.0</td>\n",
       "      <td>21.0</td>\n",
       "      <td>14.0</td>\n",
       "      <td>532.0</td>\n",
       "      <td>45.0</td>\n",
       "      <td>33892.8</td>\n",
       "      <td>0.2</td>\n",
       "      <td>1.0</td>\n",
       "      <td>21280.0</td>\n",
       "      <td>23940.0</td>\n",
       "      <td>10.0</td>\n",
       "      <td>10</td>\n",
       "    </tr>\n",
       "    <tr>\n",
       "      <th>15</th>\n",
       "      <td>20180101064805</td>\n",
       "      <td>42.0</td>\n",
       "      <td>534.0</td>\n",
       "      <td>1.0</td>\n",
       "      <td>99.0</td>\n",
       "      <td>21.0</td>\n",
       "      <td>14.0</td>\n",
       "      <td>534.0</td>\n",
       "      <td>0.0</td>\n",
       "      <td>33892.9</td>\n",
       "      <td>0.1</td>\n",
       "      <td>-4.0</td>\n",
       "      <td>534.0</td>\n",
       "      <td>0.0</td>\n",
       "      <td>50.0</td>\n",
       "      <td>10</td>\n",
       "    </tr>\n",
       "    <tr>\n",
       "      <th>16</th>\n",
       "      <td>20180101064815</td>\n",
       "      <td>45.0</td>\n",
       "      <td>529.2</td>\n",
       "      <td>85.0</td>\n",
       "      <td>99.0</td>\n",
       "      <td>21.0</td>\n",
       "      <td>14.0</td>\n",
       "      <td>529.0</td>\n",
       "      <td>88.0</td>\n",
       "      <td>33893.0</td>\n",
       "      <td>0.1</td>\n",
       "      <td>3.0</td>\n",
       "      <td>44982.0</td>\n",
       "      <td>46552.0</td>\n",
       "      <td>10.0</td>\n",
       "      <td>10</td>\n",
       "    </tr>\n",
       "    <tr>\n",
       "      <th>17</th>\n",
       "      <td>20180101064825</td>\n",
       "      <td>46.0</td>\n",
       "      <td>529.7</td>\n",
       "      <td>67.0</td>\n",
       "      <td>98.0</td>\n",
       "      <td>21.0</td>\n",
       "      <td>14.0</td>\n",
       "      <td>529.0</td>\n",
       "      <td>80.0</td>\n",
       "      <td>33893.1</td>\n",
       "      <td>0.1</td>\n",
       "      <td>1.0</td>\n",
       "      <td>35489.9</td>\n",
       "      <td>42320.0</td>\n",
       "      <td>10.0</td>\n",
       "      <td>10</td>\n",
       "    </tr>\n",
       "    <tr>\n",
       "      <th>18</th>\n",
       "      <td>20180101064835</td>\n",
       "      <td>44.0</td>\n",
       "      <td>530.1</td>\n",
       "      <td>71.0</td>\n",
       "      <td>98.0</td>\n",
       "      <td>21.0</td>\n",
       "      <td>14.0</td>\n",
       "      <td>529.0</td>\n",
       "      <td>73.0</td>\n",
       "      <td>33893.2</td>\n",
       "      <td>0.1</td>\n",
       "      <td>-2.0</td>\n",
       "      <td>37637.1</td>\n",
       "      <td>38617.0</td>\n",
       "      <td>10.0</td>\n",
       "      <td>10</td>\n",
       "    </tr>\n",
       "    <tr>\n",
       "      <th>19</th>\n",
       "      <td>20180101064845</td>\n",
       "      <td>45.0</td>\n",
       "      <td>530.6</td>\n",
       "      <td>57.0</td>\n",
       "      <td>98.0</td>\n",
       "      <td>21.0</td>\n",
       "      <td>14.0</td>\n",
       "      <td>530.0</td>\n",
       "      <td>64.0</td>\n",
       "      <td>33893.4</td>\n",
       "      <td>0.2</td>\n",
       "      <td>1.0</td>\n",
       "      <td>30244.2</td>\n",
       "      <td>33920.0</td>\n",
       "      <td>10.0</td>\n",
       "      <td>10</td>\n",
       "    </tr>\n",
       "    <tr>\n",
       "      <th>20</th>\n",
       "      <td>20180101064855</td>\n",
       "      <td>44.0</td>\n",
       "      <td>533.4</td>\n",
       "      <td>4.0</td>\n",
       "      <td>98.0</td>\n",
       "      <td>21.0</td>\n",
       "      <td>14.0</td>\n",
       "      <td>533.0</td>\n",
       "      <td>0.0</td>\n",
       "      <td>33893.5</td>\n",
       "      <td>0.1</td>\n",
       "      <td>-1.0</td>\n",
       "      <td>2133.6</td>\n",
       "      <td>0.0</td>\n",
       "      <td>10.0</td>\n",
       "      <td>10</td>\n",
       "    </tr>\n",
       "    <tr>\n",
       "      <th>21</th>\n",
       "      <td>20180101064905</td>\n",
       "      <td>45.0</td>\n",
       "      <td>529.2</td>\n",
       "      <td>76.0</td>\n",
       "      <td>98.0</td>\n",
       "      <td>21.0</td>\n",
       "      <td>14.0</td>\n",
       "      <td>529.0</td>\n",
       "      <td>77.0</td>\n",
       "      <td>33893.6</td>\n",
       "      <td>0.1</td>\n",
       "      <td>1.0</td>\n",
       "      <td>40219.2</td>\n",
       "      <td>40733.0</td>\n",
       "      <td>50.0</td>\n",
       "      <td>10</td>\n",
       "    </tr>\n",
       "    <tr>\n",
       "      <th>22</th>\n",
       "      <td>20180101064915</td>\n",
       "      <td>49.0</td>\n",
       "      <td>532.4</td>\n",
       "      <td>0.0</td>\n",
       "      <td>98.0</td>\n",
       "      <td>21.0</td>\n",
       "      <td>14.0</td>\n",
       "      <td>533.0</td>\n",
       "      <td>0.0</td>\n",
       "      <td>33893.7</td>\n",
       "      <td>0.1</td>\n",
       "      <td>4.0</td>\n",
       "      <td>0.0</td>\n",
       "      <td>0.0</td>\n",
       "      <td>10.0</td>\n",
       "      <td>10</td>\n",
       "    </tr>\n",
       "    <tr>\n",
       "      <th>23</th>\n",
       "      <td>20180101064925</td>\n",
       "      <td>41.0</td>\n",
       "      <td>528.6</td>\n",
       "      <td>102.0</td>\n",
       "      <td>98.0</td>\n",
       "      <td>21.0</td>\n",
       "      <td>14.0</td>\n",
       "      <td>528.0</td>\n",
       "      <td>101.0</td>\n",
       "      <td>33893.9</td>\n",
       "      <td>0.2</td>\n",
       "      <td>-8.0</td>\n",
       "      <td>53917.2</td>\n",
       "      <td>53328.0</td>\n",
       "      <td>10.0</td>\n",
       "      <td>10</td>\n",
       "    </tr>\n",
       "    <tr>\n",
       "      <th>24</th>\n",
       "      <td>20180101064935</td>\n",
       "      <td>45.0</td>\n",
       "      <td>529.9</td>\n",
       "      <td>66.0</td>\n",
       "      <td>98.0</td>\n",
       "      <td>21.0</td>\n",
       "      <td>14.0</td>\n",
       "      <td>530.0</td>\n",
       "      <td>54.0</td>\n",
       "      <td>33894.0</td>\n",
       "      <td>0.1</td>\n",
       "      <td>4.0</td>\n",
       "      <td>34973.4</td>\n",
       "      <td>28620.0</td>\n",
       "      <td>10.0</td>\n",
       "      <td>10</td>\n",
       "    </tr>\n",
       "    <tr>\n",
       "      <th>25</th>\n",
       "      <td>20180101064945</td>\n",
       "      <td>33.0</td>\n",
       "      <td>536.6</td>\n",
       "      <td>-40.0</td>\n",
       "      <td>98.0</td>\n",
       "      <td>21.0</td>\n",
       "      <td>14.0</td>\n",
       "      <td>537.0</td>\n",
       "      <td>-57.0</td>\n",
       "      <td>33894.1</td>\n",
       "      <td>0.1</td>\n",
       "      <td>-12.0</td>\n",
       "      <td>-21464.0</td>\n",
       "      <td>-30609.0</td>\n",
       "      <td>10.0</td>\n",
       "      <td>10</td>\n",
       "    </tr>\n",
       "    <tr>\n",
       "      <th>26</th>\n",
       "      <td>20180101064955</td>\n",
       "      <td>28.0</td>\n",
       "      <td>534.8</td>\n",
       "      <td>-16.0</td>\n",
       "      <td>98.0</td>\n",
       "      <td>21.0</td>\n",
       "      <td>14.0</td>\n",
       "      <td>537.0</td>\n",
       "      <td>-60.0</td>\n",
       "      <td>33894.2</td>\n",
       "      <td>0.1</td>\n",
       "      <td>-5.0</td>\n",
       "      <td>-8556.8</td>\n",
       "      <td>-32220.0</td>\n",
       "      <td>10.0</td>\n",
       "      <td>10</td>\n",
       "    </tr>\n",
       "    <tr>\n",
       "      <th>27</th>\n",
       "      <td>20180101065005</td>\n",
       "      <td>6.0</td>\n",
       "      <td>536.0</td>\n",
       "      <td>-10.0</td>\n",
       "      <td>98.0</td>\n",
       "      <td>21.0</td>\n",
       "      <td>13.0</td>\n",
       "      <td>536.0</td>\n",
       "      <td>-13.0</td>\n",
       "      <td>33894.2</td>\n",
       "      <td>0.0</td>\n",
       "      <td>-22.0</td>\n",
       "      <td>-5360.0</td>\n",
       "      <td>-6968.0</td>\n",
       "      <td>50.0</td>\n",
       "      <td>10</td>\n",
       "    </tr>\n",
       "    <tr>\n",
       "      <th>28</th>\n",
       "      <td>20180101065015</td>\n",
       "      <td>1.0</td>\n",
       "      <td>535.3</td>\n",
       "      <td>7.0</td>\n",
       "      <td>98.0</td>\n",
       "      <td>21.0</td>\n",
       "      <td>14.0</td>\n",
       "      <td>534.0</td>\n",
       "      <td>9.0</td>\n",
       "      <td>33894.2</td>\n",
       "      <td>0.0</td>\n",
       "      <td>-5.0</td>\n",
       "      <td>3747.1</td>\n",
       "      <td>4806.0</td>\n",
       "      <td>10.0</td>\n",
       "      <td>10</td>\n",
       "    </tr>\n",
       "    <tr>\n",
       "      <th>29</th>\n",
       "      <td>20180101065025</td>\n",
       "      <td>35.0</td>\n",
       "      <td>528.9</td>\n",
       "      <td>104.0</td>\n",
       "      <td>98.0</td>\n",
       "      <td>21.0</td>\n",
       "      <td>13.0</td>\n",
       "      <td>525.0</td>\n",
       "      <td>181.0</td>\n",
       "      <td>33894.3</td>\n",
       "      <td>0.1</td>\n",
       "      <td>34.0</td>\n",
       "      <td>55005.6</td>\n",
       "      <td>95025.0</td>\n",
       "      <td>10.0</td>\n",
       "      <td>10</td>\n",
       "    </tr>\n",
       "    <tr>\n",
       "      <th>...</th>\n",
       "      <td>...</td>\n",
       "      <td>...</td>\n",
       "      <td>...</td>\n",
       "      <td>...</td>\n",
       "      <td>...</td>\n",
       "      <td>...</td>\n",
       "      <td>...</td>\n",
       "      <td>...</td>\n",
       "      <td>...</td>\n",
       "      <td>...</td>\n",
       "      <td>...</td>\n",
       "      <td>...</td>\n",
       "      <td>...</td>\n",
       "      <td>...</td>\n",
       "      <td>...</td>\n",
       "      <td>...</td>\n",
       "    </tr>\n",
       "    <tr>\n",
       "      <th>230655</th>\n",
       "      <td>20181129115126</td>\n",
       "      <td>36.0</td>\n",
       "      <td>522.1</td>\n",
       "      <td>63.0</td>\n",
       "      <td>48.0</td>\n",
       "      <td>20.0</td>\n",
       "      <td>13.0</td>\n",
       "      <td>524.0</td>\n",
       "      <td>36.0</td>\n",
       "      <td>69095.1</td>\n",
       "      <td>0.1</td>\n",
       "      <td>17.0</td>\n",
       "      <td>32892.3</td>\n",
       "      <td>18864.0</td>\n",
       "      <td>10.0</td>\n",
       "      <td>10</td>\n",
       "    </tr>\n",
       "    <tr>\n",
       "      <th>230656</th>\n",
       "      <td>20181129115136</td>\n",
       "      <td>31.0</td>\n",
       "      <td>528.4</td>\n",
       "      <td>-6.0</td>\n",
       "      <td>48.0</td>\n",
       "      <td>20.0</td>\n",
       "      <td>13.0</td>\n",
       "      <td>529.0</td>\n",
       "      <td>-6.0</td>\n",
       "      <td>69095.2</td>\n",
       "      <td>0.1</td>\n",
       "      <td>-5.0</td>\n",
       "      <td>-3170.4</td>\n",
       "      <td>-3174.0</td>\n",
       "      <td>10.0</td>\n",
       "      <td>10</td>\n",
       "    </tr>\n",
       "    <tr>\n",
       "      <th>230657</th>\n",
       "      <td>20181129115146</td>\n",
       "      <td>32.0</td>\n",
       "      <td>525.6</td>\n",
       "      <td>31.0</td>\n",
       "      <td>48.0</td>\n",
       "      <td>20.0</td>\n",
       "      <td>13.0</td>\n",
       "      <td>527.0</td>\n",
       "      <td>23.0</td>\n",
       "      <td>69095.2</td>\n",
       "      <td>0.0</td>\n",
       "      <td>1.0</td>\n",
       "      <td>16293.6</td>\n",
       "      <td>12121.0</td>\n",
       "      <td>10.0</td>\n",
       "      <td>10</td>\n",
       "    </tr>\n",
       "    <tr>\n",
       "      <th>230658</th>\n",
       "      <td>20181129115156</td>\n",
       "      <td>37.0</td>\n",
       "      <td>520.3</td>\n",
       "      <td>107.0</td>\n",
       "      <td>48.0</td>\n",
       "      <td>20.0</td>\n",
       "      <td>13.0</td>\n",
       "      <td>520.0</td>\n",
       "      <td>115.0</td>\n",
       "      <td>69095.3</td>\n",
       "      <td>0.1</td>\n",
       "      <td>5.0</td>\n",
       "      <td>55672.1</td>\n",
       "      <td>59800.0</td>\n",
       "      <td>10.0</td>\n",
       "      <td>10</td>\n",
       "    </tr>\n",
       "    <tr>\n",
       "      <th>230659</th>\n",
       "      <td>20181129115206</td>\n",
       "      <td>32.0</td>\n",
       "      <td>535.4</td>\n",
       "      <td>-121.0</td>\n",
       "      <td>48.0</td>\n",
       "      <td>20.0</td>\n",
       "      <td>13.0</td>\n",
       "      <td>537.0</td>\n",
       "      <td>-121.0</td>\n",
       "      <td>69095.4</td>\n",
       "      <td>0.1</td>\n",
       "      <td>-5.0</td>\n",
       "      <td>-64783.4</td>\n",
       "      <td>-64977.0</td>\n",
       "      <td>50.0</td>\n",
       "      <td>10</td>\n",
       "    </tr>\n",
       "    <tr>\n",
       "      <th>230660</th>\n",
       "      <td>20181129115216</td>\n",
       "      <td>31.0</td>\n",
       "      <td>520.2</td>\n",
       "      <td>116.0</td>\n",
       "      <td>48.0</td>\n",
       "      <td>20.0</td>\n",
       "      <td>13.0</td>\n",
       "      <td>522.0</td>\n",
       "      <td>91.0</td>\n",
       "      <td>69095.5</td>\n",
       "      <td>0.1</td>\n",
       "      <td>-1.0</td>\n",
       "      <td>60343.2</td>\n",
       "      <td>47502.0</td>\n",
       "      <td>10.0</td>\n",
       "      <td>10</td>\n",
       "    </tr>\n",
       "    <tr>\n",
       "      <th>230661</th>\n",
       "      <td>20181129115226</td>\n",
       "      <td>29.0</td>\n",
       "      <td>529.8</td>\n",
       "      <td>-70.0</td>\n",
       "      <td>48.0</td>\n",
       "      <td>20.0</td>\n",
       "      <td>13.0</td>\n",
       "      <td>530.0</td>\n",
       "      <td>-9.0</td>\n",
       "      <td>69095.6</td>\n",
       "      <td>0.1</td>\n",
       "      <td>-2.0</td>\n",
       "      <td>-37086.0</td>\n",
       "      <td>-4770.0</td>\n",
       "      <td>10.0</td>\n",
       "      <td>10</td>\n",
       "    </tr>\n",
       "    <tr>\n",
       "      <th>230662</th>\n",
       "      <td>20181129115236</td>\n",
       "      <td>49.0</td>\n",
       "      <td>514.5</td>\n",
       "      <td>141.0</td>\n",
       "      <td>47.0</td>\n",
       "      <td>20.0</td>\n",
       "      <td>13.0</td>\n",
       "      <td>522.0</td>\n",
       "      <td>36.0</td>\n",
       "      <td>69095.7</td>\n",
       "      <td>0.1</td>\n",
       "      <td>20.0</td>\n",
       "      <td>72544.5</td>\n",
       "      <td>18792.0</td>\n",
       "      <td>10.0</td>\n",
       "      <td>10</td>\n",
       "    </tr>\n",
       "    <tr>\n",
       "      <th>230663</th>\n",
       "      <td>20181129115246</td>\n",
       "      <td>42.0</td>\n",
       "      <td>527.5</td>\n",
       "      <td>-14.0</td>\n",
       "      <td>47.0</td>\n",
       "      <td>20.0</td>\n",
       "      <td>13.0</td>\n",
       "      <td>528.0</td>\n",
       "      <td>-7.0</td>\n",
       "      <td>69095.8</td>\n",
       "      <td>0.1</td>\n",
       "      <td>-7.0</td>\n",
       "      <td>-7385.0</td>\n",
       "      <td>-3696.0</td>\n",
       "      <td>10.0</td>\n",
       "      <td>10</td>\n",
       "    </tr>\n",
       "    <tr>\n",
       "      <th>230664</th>\n",
       "      <td>20181129115256</td>\n",
       "      <td>40.0</td>\n",
       "      <td>528.0</td>\n",
       "      <td>-13.0</td>\n",
       "      <td>47.0</td>\n",
       "      <td>20.0</td>\n",
       "      <td>13.0</td>\n",
       "      <td>526.0</td>\n",
       "      <td>31.0</td>\n",
       "      <td>69095.9</td>\n",
       "      <td>0.1</td>\n",
       "      <td>-2.0</td>\n",
       "      <td>-6864.0</td>\n",
       "      <td>16306.0</td>\n",
       "      <td>10.0</td>\n",
       "      <td>10</td>\n",
       "    </tr>\n",
       "    <tr>\n",
       "      <th>230665</th>\n",
       "      <td>20181129115306</td>\n",
       "      <td>21.0</td>\n",
       "      <td>534.2</td>\n",
       "      <td>-67.0</td>\n",
       "      <td>47.0</td>\n",
       "      <td>20.0</td>\n",
       "      <td>13.0</td>\n",
       "      <td>531.0</td>\n",
       "      <td>-1.0</td>\n",
       "      <td>69096.0</td>\n",
       "      <td>0.1</td>\n",
       "      <td>-19.0</td>\n",
       "      <td>-35791.4</td>\n",
       "      <td>-531.0</td>\n",
       "      <td>50.0</td>\n",
       "      <td>10</td>\n",
       "    </tr>\n",
       "    <tr>\n",
       "      <th>230666</th>\n",
       "      <td>20181129115316</td>\n",
       "      <td>40.0</td>\n",
       "      <td>526.3</td>\n",
       "      <td>-14.0</td>\n",
       "      <td>47.0</td>\n",
       "      <td>20.0</td>\n",
       "      <td>13.0</td>\n",
       "      <td>535.0</td>\n",
       "      <td>-137.0</td>\n",
       "      <td>69096.1</td>\n",
       "      <td>0.1</td>\n",
       "      <td>19.0</td>\n",
       "      <td>-7368.2</td>\n",
       "      <td>-73295.0</td>\n",
       "      <td>10.0</td>\n",
       "      <td>10</td>\n",
       "    </tr>\n",
       "    <tr>\n",
       "      <th>230667</th>\n",
       "      <td>20181129115326</td>\n",
       "      <td>40.0</td>\n",
       "      <td>527.1</td>\n",
       "      <td>-14.0</td>\n",
       "      <td>47.0</td>\n",
       "      <td>20.0</td>\n",
       "      <td>13.0</td>\n",
       "      <td>528.0</td>\n",
       "      <td>-11.0</td>\n",
       "      <td>69096.2</td>\n",
       "      <td>0.1</td>\n",
       "      <td>0.0</td>\n",
       "      <td>-7379.4</td>\n",
       "      <td>-5808.0</td>\n",
       "      <td>10.0</td>\n",
       "      <td>10</td>\n",
       "    </tr>\n",
       "    <tr>\n",
       "      <th>230668</th>\n",
       "      <td>20181129115336</td>\n",
       "      <td>12.0</td>\n",
       "      <td>529.9</td>\n",
       "      <td>2.0</td>\n",
       "      <td>47.0</td>\n",
       "      <td>20.0</td>\n",
       "      <td>13.0</td>\n",
       "      <td>531.0</td>\n",
       "      <td>0.0</td>\n",
       "      <td>69096.3</td>\n",
       "      <td>0.1</td>\n",
       "      <td>-28.0</td>\n",
       "      <td>1059.8</td>\n",
       "      <td>0.0</td>\n",
       "      <td>10.0</td>\n",
       "      <td>10</td>\n",
       "    </tr>\n",
       "    <tr>\n",
       "      <th>230669</th>\n",
       "      <td>20181129115346</td>\n",
       "      <td>10.0</td>\n",
       "      <td>528.4</td>\n",
       "      <td>9.0</td>\n",
       "      <td>47.0</td>\n",
       "      <td>20.0</td>\n",
       "      <td>13.0</td>\n",
       "      <td>529.0</td>\n",
       "      <td>7.0</td>\n",
       "      <td>69096.3</td>\n",
       "      <td>0.0</td>\n",
       "      <td>-2.0</td>\n",
       "      <td>4755.6</td>\n",
       "      <td>3703.0</td>\n",
       "      <td>10.0</td>\n",
       "      <td>10</td>\n",
       "    </tr>\n",
       "    <tr>\n",
       "      <th>230670</th>\n",
       "      <td>20181129115356</td>\n",
       "      <td>10.0</td>\n",
       "      <td>528.6</td>\n",
       "      <td>2.0</td>\n",
       "      <td>47.0</td>\n",
       "      <td>20.0</td>\n",
       "      <td>13.0</td>\n",
       "      <td>530.0</td>\n",
       "      <td>0.0</td>\n",
       "      <td>69096.4</td>\n",
       "      <td>0.1</td>\n",
       "      <td>0.0</td>\n",
       "      <td>1057.2</td>\n",
       "      <td>0.0</td>\n",
       "      <td>10.0</td>\n",
       "      <td>10</td>\n",
       "    </tr>\n",
       "    <tr>\n",
       "      <th>230671</th>\n",
       "      <td>20181129115406</td>\n",
       "      <td>0.0</td>\n",
       "      <td>529.1</td>\n",
       "      <td>1.0</td>\n",
       "      <td>47.0</td>\n",
       "      <td>20.0</td>\n",
       "      <td>13.0</td>\n",
       "      <td>530.0</td>\n",
       "      <td>0.0</td>\n",
       "      <td>69096.4</td>\n",
       "      <td>0.0</td>\n",
       "      <td>-10.0</td>\n",
       "      <td>529.1</td>\n",
       "      <td>0.0</td>\n",
       "      <td>50.0</td>\n",
       "      <td>10</td>\n",
       "    </tr>\n",
       "    <tr>\n",
       "      <th>230672</th>\n",
       "      <td>20181129115416</td>\n",
       "      <td>0.0</td>\n",
       "      <td>529.2</td>\n",
       "      <td>1.0</td>\n",
       "      <td>47.0</td>\n",
       "      <td>20.0</td>\n",
       "      <td>13.0</td>\n",
       "      <td>530.0</td>\n",
       "      <td>0.0</td>\n",
       "      <td>69096.4</td>\n",
       "      <td>0.0</td>\n",
       "      <td>0.0</td>\n",
       "      <td>529.2</td>\n",
       "      <td>0.0</td>\n",
       "      <td>10.0</td>\n",
       "      <td>10</td>\n",
       "    </tr>\n",
       "    <tr>\n",
       "      <th>230673</th>\n",
       "      <td>20181129115426</td>\n",
       "      <td>0.0</td>\n",
       "      <td>529.3</td>\n",
       "      <td>1.0</td>\n",
       "      <td>47.0</td>\n",
       "      <td>20.0</td>\n",
       "      <td>13.0</td>\n",
       "      <td>530.0</td>\n",
       "      <td>0.0</td>\n",
       "      <td>69096.4</td>\n",
       "      <td>0.0</td>\n",
       "      <td>0.0</td>\n",
       "      <td>529.3</td>\n",
       "      <td>0.0</td>\n",
       "      <td>10.0</td>\n",
       "      <td>10</td>\n",
       "    </tr>\n",
       "    <tr>\n",
       "      <th>230674</th>\n",
       "      <td>20181129115436</td>\n",
       "      <td>0.0</td>\n",
       "      <td>529.4</td>\n",
       "      <td>1.0</td>\n",
       "      <td>47.0</td>\n",
       "      <td>20.0</td>\n",
       "      <td>13.0</td>\n",
       "      <td>530.0</td>\n",
       "      <td>0.0</td>\n",
       "      <td>69096.4</td>\n",
       "      <td>0.0</td>\n",
       "      <td>0.0</td>\n",
       "      <td>529.4</td>\n",
       "      <td>0.0</td>\n",
       "      <td>10.0</td>\n",
       "      <td>10</td>\n",
       "    </tr>\n",
       "    <tr>\n",
       "      <th>230675</th>\n",
       "      <td>20181129115446</td>\n",
       "      <td>0.0</td>\n",
       "      <td>529.5</td>\n",
       "      <td>1.0</td>\n",
       "      <td>47.0</td>\n",
       "      <td>20.0</td>\n",
       "      <td>13.0</td>\n",
       "      <td>530.0</td>\n",
       "      <td>0.0</td>\n",
       "      <td>69096.4</td>\n",
       "      <td>0.0</td>\n",
       "      <td>0.0</td>\n",
       "      <td>529.5</td>\n",
       "      <td>0.0</td>\n",
       "      <td>10.0</td>\n",
       "      <td>10</td>\n",
       "    </tr>\n",
       "    <tr>\n",
       "      <th>230676</th>\n",
       "      <td>20181129115456</td>\n",
       "      <td>0.0</td>\n",
       "      <td>529.5</td>\n",
       "      <td>1.0</td>\n",
       "      <td>47.0</td>\n",
       "      <td>20.0</td>\n",
       "      <td>13.0</td>\n",
       "      <td>530.0</td>\n",
       "      <td>0.0</td>\n",
       "      <td>69096.4</td>\n",
       "      <td>0.0</td>\n",
       "      <td>0.0</td>\n",
       "      <td>529.5</td>\n",
       "      <td>0.0</td>\n",
       "      <td>10.0</td>\n",
       "      <td>10</td>\n",
       "    </tr>\n",
       "    <tr>\n",
       "      <th>230677</th>\n",
       "      <td>20181129115506</td>\n",
       "      <td>0.0</td>\n",
       "      <td>529.6</td>\n",
       "      <td>1.0</td>\n",
       "      <td>47.0</td>\n",
       "      <td>20.0</td>\n",
       "      <td>13.0</td>\n",
       "      <td>530.0</td>\n",
       "      <td>0.0</td>\n",
       "      <td>69096.4</td>\n",
       "      <td>0.0</td>\n",
       "      <td>0.0</td>\n",
       "      <td>529.6</td>\n",
       "      <td>0.0</td>\n",
       "      <td>50.0</td>\n",
       "      <td>10</td>\n",
       "    </tr>\n",
       "    <tr>\n",
       "      <th>230678</th>\n",
       "      <td>20181129115516</td>\n",
       "      <td>0.0</td>\n",
       "      <td>529.6</td>\n",
       "      <td>1.0</td>\n",
       "      <td>47.0</td>\n",
       "      <td>20.0</td>\n",
       "      <td>13.0</td>\n",
       "      <td>530.0</td>\n",
       "      <td>0.0</td>\n",
       "      <td>69096.4</td>\n",
       "      <td>0.0</td>\n",
       "      <td>0.0</td>\n",
       "      <td>529.6</td>\n",
       "      <td>0.0</td>\n",
       "      <td>10.0</td>\n",
       "      <td>10</td>\n",
       "    </tr>\n",
       "    <tr>\n",
       "      <th>230679</th>\n",
       "      <td>20181129115526</td>\n",
       "      <td>0.0</td>\n",
       "      <td>529.7</td>\n",
       "      <td>1.0</td>\n",
       "      <td>47.0</td>\n",
       "      <td>20.0</td>\n",
       "      <td>13.0</td>\n",
       "      <td>530.0</td>\n",
       "      <td>0.0</td>\n",
       "      <td>69096.4</td>\n",
       "      <td>0.0</td>\n",
       "      <td>0.0</td>\n",
       "      <td>529.7</td>\n",
       "      <td>0.0</td>\n",
       "      <td>10.0</td>\n",
       "      <td>10</td>\n",
       "    </tr>\n",
       "    <tr>\n",
       "      <th>230680</th>\n",
       "      <td>20181129115536</td>\n",
       "      <td>8.0</td>\n",
       "      <td>529.0</td>\n",
       "      <td>9.0</td>\n",
       "      <td>47.0</td>\n",
       "      <td>20.0</td>\n",
       "      <td>13.0</td>\n",
       "      <td>530.0</td>\n",
       "      <td>0.0</td>\n",
       "      <td>69096.4</td>\n",
       "      <td>0.0</td>\n",
       "      <td>8.0</td>\n",
       "      <td>4761.0</td>\n",
       "      <td>0.0</td>\n",
       "      <td>10.0</td>\n",
       "      <td>10</td>\n",
       "    </tr>\n",
       "    <tr>\n",
       "      <th>230681</th>\n",
       "      <td>20181129115546</td>\n",
       "      <td>4.0</td>\n",
       "      <td>529.4</td>\n",
       "      <td>2.0</td>\n",
       "      <td>47.0</td>\n",
       "      <td>20.0</td>\n",
       "      <td>13.0</td>\n",
       "      <td>530.0</td>\n",
       "      <td>0.0</td>\n",
       "      <td>69096.4</td>\n",
       "      <td>0.0</td>\n",
       "      <td>-4.0</td>\n",
       "      <td>1058.8</td>\n",
       "      <td>0.0</td>\n",
       "      <td>10.0</td>\n",
       "      <td>10</td>\n",
       "    </tr>\n",
       "    <tr>\n",
       "      <th>230682</th>\n",
       "      <td>20181129115556</td>\n",
       "      <td>1.0</td>\n",
       "      <td>529.6</td>\n",
       "      <td>1.0</td>\n",
       "      <td>47.0</td>\n",
       "      <td>20.0</td>\n",
       "      <td>13.0</td>\n",
       "      <td>530.0</td>\n",
       "      <td>0.0</td>\n",
       "      <td>69096.4</td>\n",
       "      <td>0.0</td>\n",
       "      <td>-3.0</td>\n",
       "      <td>529.6</td>\n",
       "      <td>0.0</td>\n",
       "      <td>10.0</td>\n",
       "      <td>10</td>\n",
       "    </tr>\n",
       "    <tr>\n",
       "      <th>230683</th>\n",
       "      <td>20181129115606</td>\n",
       "      <td>0.0</td>\n",
       "      <td>529.6</td>\n",
       "      <td>3.0</td>\n",
       "      <td>47.0</td>\n",
       "      <td>20.0</td>\n",
       "      <td>13.0</td>\n",
       "      <td>530.0</td>\n",
       "      <td>0.0</td>\n",
       "      <td>69096.4</td>\n",
       "      <td>0.0</td>\n",
       "      <td>-1.0</td>\n",
       "      <td>1588.8</td>\n",
       "      <td>0.0</td>\n",
       "      <td>50.0</td>\n",
       "      <td>10</td>\n",
       "    </tr>\n",
       "    <tr>\n",
       "      <th>230684</th>\n",
       "      <td>20181129115616</td>\n",
       "      <td>0.0</td>\n",
       "      <td>529.7</td>\n",
       "      <td>1.0</td>\n",
       "      <td>47.0</td>\n",
       "      <td>20.0</td>\n",
       "      <td>13.0</td>\n",
       "      <td>530.0</td>\n",
       "      <td>0.0</td>\n",
       "      <td>69096.4</td>\n",
       "      <td>0.0</td>\n",
       "      <td>0.0</td>\n",
       "      <td>529.7</td>\n",
       "      <td>0.0</td>\n",
       "      <td>10.0</td>\n",
       "      <td>10</td>\n",
       "    </tr>\n",
       "  </tbody>\n",
       "</table>\n",
       "<p>1065374 rows × 16 columns</p>\n",
       "</div>"
      ],
      "text/plain": [
       "                  time  speed  total_voltage  total_current    soc  temp_max  \\\n",
       "0       20180101064535  17.0   545.7          2.0            100.0  21.0       \n",
       "1       20180101064545  23.0   537.1          121.0          100.0  21.0       \n",
       "2       20180101064555  36.0   535.1          57.0           99.0   21.0       \n",
       "3       20180101064605  32.0   537.0          2.0            99.0   21.0       \n",
       "4       20180101064615  1.0    537.6          3.0            99.0   21.0       \n",
       "5       20180101064625  5.0    537.3          21.0           99.0   21.0       \n",
       "6       20180101064635  33.0   531.2          78.0           99.0   21.0       \n",
       "7       20180101064645  37.0   532.5          38.0           99.0   21.0       \n",
       "8       20180101064655  33.0   534.9          2.0            99.0   21.0       \n",
       "9       20180101064705  35.0   532.5          43.0           99.0   21.0       \n",
       "10      20180101064715  17.0   535.2          2.0            99.0   21.0       \n",
       "11      20180101064725  1.0    535.6          3.0            99.0   21.0       \n",
       "12      20180101064735  35.0   529.3          97.0           99.0   21.0       \n",
       "13      20180101064745  45.0   529.6          79.0           99.0   21.0       \n",
       "14      20180101064755  46.0   532.0          40.0           99.0   21.0       \n",
       "15      20180101064805  42.0   534.0          1.0            99.0   21.0       \n",
       "16      20180101064815  45.0   529.2          85.0           99.0   21.0       \n",
       "17      20180101064825  46.0   529.7          67.0           98.0   21.0       \n",
       "18      20180101064835  44.0   530.1          71.0           98.0   21.0       \n",
       "19      20180101064845  45.0   530.6          57.0           98.0   21.0       \n",
       "20      20180101064855  44.0   533.4          4.0            98.0   21.0       \n",
       "21      20180101064905  45.0   529.2          76.0           98.0   21.0       \n",
       "22      20180101064915  49.0   532.4          0.0            98.0   21.0       \n",
       "23      20180101064925  41.0   528.6          102.0          98.0   21.0       \n",
       "24      20180101064935  45.0   529.9          66.0           98.0   21.0       \n",
       "25      20180101064945  33.0   536.6         -40.0           98.0   21.0       \n",
       "26      20180101064955  28.0   534.8         -16.0           98.0   21.0       \n",
       "27      20180101065005  6.0    536.0         -10.0           98.0   21.0       \n",
       "28      20180101065015  1.0    535.3          7.0            98.0   21.0       \n",
       "29      20180101065025  35.0   528.9          104.0          98.0   21.0       \n",
       "...                ...   ...     ...            ...           ...    ...       \n",
       "230655  20181129115126  36.0   522.1          63.0           48.0   20.0       \n",
       "230656  20181129115136  31.0   528.4         -6.0            48.0   20.0       \n",
       "230657  20181129115146  32.0   525.6          31.0           48.0   20.0       \n",
       "230658  20181129115156  37.0   520.3          107.0          48.0   20.0       \n",
       "230659  20181129115206  32.0   535.4         -121.0          48.0   20.0       \n",
       "230660  20181129115216  31.0   520.2          116.0          48.0   20.0       \n",
       "230661  20181129115226  29.0   529.8         -70.0           48.0   20.0       \n",
       "230662  20181129115236  49.0   514.5          141.0          47.0   20.0       \n",
       "230663  20181129115246  42.0   527.5         -14.0           47.0   20.0       \n",
       "230664  20181129115256  40.0   528.0         -13.0           47.0   20.0       \n",
       "230665  20181129115306  21.0   534.2         -67.0           47.0   20.0       \n",
       "230666  20181129115316  40.0   526.3         -14.0           47.0   20.0       \n",
       "230667  20181129115326  40.0   527.1         -14.0           47.0   20.0       \n",
       "230668  20181129115336  12.0   529.9          2.0            47.0   20.0       \n",
       "230669  20181129115346  10.0   528.4          9.0            47.0   20.0       \n",
       "230670  20181129115356  10.0   528.6          2.0            47.0   20.0       \n",
       "230671  20181129115406  0.0    529.1          1.0            47.0   20.0       \n",
       "230672  20181129115416  0.0    529.2          1.0            47.0   20.0       \n",
       "230673  20181129115426  0.0    529.3          1.0            47.0   20.0       \n",
       "230674  20181129115436  0.0    529.4          1.0            47.0   20.0       \n",
       "230675  20181129115446  0.0    529.5          1.0            47.0   20.0       \n",
       "230676  20181129115456  0.0    529.5          1.0            47.0   20.0       \n",
       "230677  20181129115506  0.0    529.6          1.0            47.0   20.0       \n",
       "230678  20181129115516  0.0    529.6          1.0            47.0   20.0       \n",
       "230679  20181129115526  0.0    529.7          1.0            47.0   20.0       \n",
       "230680  20181129115536  8.0    529.0          9.0            47.0   20.0       \n",
       "230681  20181129115546  4.0    529.4          2.0            47.0   20.0       \n",
       "230682  20181129115556  1.0    529.6          1.0            47.0   20.0       \n",
       "230683  20181129115606  0.0    529.6          3.0            47.0   20.0       \n",
       "230684  20181129115616  0.0    529.7          1.0            47.0   20.0       \n",
       "\n",
       "        temp_min  motor_voltage  motor_current  mileage  milediff  speeddiff  \\\n",
       "0       14.0      546.0          0.0            33891.8  0.0       0.0         \n",
       "1       14.0      536.0          118.0          33891.8  0.0       6.0         \n",
       "2       14.0      535.0          53.0           33891.9  0.1       13.0        \n",
       "3       14.0      537.0          0.0            33892.0  0.1      -4.0         \n",
       "4       14.0      538.0          0.0            33892.0  0.0      -31.0        \n",
       "5       14.0      535.0          55.0           33892.0  0.0       4.0         \n",
       "6       14.0      531.0          81.0           33892.1  0.1       28.0        \n",
       "7       14.0      532.0          38.0           33892.2  0.1       4.0         \n",
       "8       14.0      535.0          8.0            33892.3  0.1      -4.0         \n",
       "9       14.0      533.0          15.0           33892.4  0.1       2.0         \n",
       "10      14.0      535.0          0.0            33892.5  0.1      -18.0        \n",
       "11      14.0      535.0          0.0            33892.5  0.0      -16.0        \n",
       "12      14.0      529.0          90.0           33892.5  0.0       34.0        \n",
       "13      14.0      529.0          79.0           33892.6  0.1       10.0        \n",
       "14      14.0      532.0          45.0           33892.8  0.2       1.0         \n",
       "15      14.0      534.0          0.0            33892.9  0.1      -4.0         \n",
       "16      14.0      529.0          88.0           33893.0  0.1       3.0         \n",
       "17      14.0      529.0          80.0           33893.1  0.1       1.0         \n",
       "18      14.0      529.0          73.0           33893.2  0.1      -2.0         \n",
       "19      14.0      530.0          64.0           33893.4  0.2       1.0         \n",
       "20      14.0      533.0          0.0            33893.5  0.1      -1.0         \n",
       "21      14.0      529.0          77.0           33893.6  0.1       1.0         \n",
       "22      14.0      533.0          0.0            33893.7  0.1       4.0         \n",
       "23      14.0      528.0          101.0          33893.9  0.2      -8.0         \n",
       "24      14.0      530.0          54.0           33894.0  0.1       4.0         \n",
       "25      14.0      537.0         -57.0           33894.1  0.1      -12.0        \n",
       "26      14.0      537.0         -60.0           33894.2  0.1      -5.0         \n",
       "27      13.0      536.0         -13.0           33894.2  0.0      -22.0        \n",
       "28      14.0      534.0          9.0            33894.2  0.0      -5.0         \n",
       "29      13.0      525.0          181.0          33894.3  0.1       34.0        \n",
       "...      ...        ...            ...              ...  ...        ...        \n",
       "230655  13.0      524.0          36.0           69095.1  0.1       17.0        \n",
       "230656  13.0      529.0         -6.0            69095.2  0.1      -5.0         \n",
       "230657  13.0      527.0          23.0           69095.2  0.0       1.0         \n",
       "230658  13.0      520.0          115.0          69095.3  0.1       5.0         \n",
       "230659  13.0      537.0         -121.0          69095.4  0.1      -5.0         \n",
       "230660  13.0      522.0          91.0           69095.5  0.1      -1.0         \n",
       "230661  13.0      530.0         -9.0            69095.6  0.1      -2.0         \n",
       "230662  13.0      522.0          36.0           69095.7  0.1       20.0        \n",
       "230663  13.0      528.0         -7.0            69095.8  0.1      -7.0         \n",
       "230664  13.0      526.0          31.0           69095.9  0.1      -2.0         \n",
       "230665  13.0      531.0         -1.0            69096.0  0.1      -19.0        \n",
       "230666  13.0      535.0         -137.0          69096.1  0.1       19.0        \n",
       "230667  13.0      528.0         -11.0           69096.2  0.1       0.0         \n",
       "230668  13.0      531.0          0.0            69096.3  0.1      -28.0        \n",
       "230669  13.0      529.0          7.0            69096.3  0.0      -2.0         \n",
       "230670  13.0      530.0          0.0            69096.4  0.1       0.0         \n",
       "230671  13.0      530.0          0.0            69096.4  0.0      -10.0        \n",
       "230672  13.0      530.0          0.0            69096.4  0.0       0.0         \n",
       "230673  13.0      530.0          0.0            69096.4  0.0       0.0         \n",
       "230674  13.0      530.0          0.0            69096.4  0.0       0.0         \n",
       "230675  13.0      530.0          0.0            69096.4  0.0       0.0         \n",
       "230676  13.0      530.0          0.0            69096.4  0.0       0.0         \n",
       "230677  13.0      530.0          0.0            69096.4  0.0       0.0         \n",
       "230678  13.0      530.0          0.0            69096.4  0.0       0.0         \n",
       "230679  13.0      530.0          0.0            69096.4  0.0       0.0         \n",
       "230680  13.0      530.0          0.0            69096.4  0.0       8.0         \n",
       "230681  13.0      530.0          0.0            69096.4  0.0      -4.0         \n",
       "230682  13.0      530.0          0.0            69096.4  0.0      -3.0         \n",
       "230683  13.0      530.0          0.0            69096.4  0.0      -1.0         \n",
       "230684  13.0      530.0          0.0            69096.4  0.0       0.0         \n",
       "\n",
       "        batteryP    motoP  timediff  secdiff  \n",
       "0       1091.4    0.0      0.0       0        \n",
       "1       64989.1   63248.0  10.0      10       \n",
       "2       30500.7   28355.0  10.0      10       \n",
       "3       1074.0    0.0      50.0      10       \n",
       "4       1612.8    0.0      10.0      10       \n",
       "5       11283.3   29425.0  10.0      10       \n",
       "6       41433.6   43011.0  10.0      10       \n",
       "7       20235.0   20216.0  10.0      10       \n",
       "8       1069.8    4280.0   10.0      10       \n",
       "9       22897.5   7995.0   50.0      10       \n",
       "10      1070.4    0.0      10.0      10       \n",
       "11      1606.8    0.0      10.0      10       \n",
       "12      51342.1   47610.0  10.0      10       \n",
       "13      41838.4   41791.0  10.0      10       \n",
       "14      21280.0   23940.0  10.0      10       \n",
       "15      534.0     0.0      50.0      10       \n",
       "16      44982.0   46552.0  10.0      10       \n",
       "17      35489.9   42320.0  10.0      10       \n",
       "18      37637.1   38617.0  10.0      10       \n",
       "19      30244.2   33920.0  10.0      10       \n",
       "20      2133.6    0.0      10.0      10       \n",
       "21      40219.2   40733.0  50.0      10       \n",
       "22      0.0       0.0      10.0      10       \n",
       "23      53917.2   53328.0  10.0      10       \n",
       "24      34973.4   28620.0  10.0      10       \n",
       "25     -21464.0  -30609.0  10.0      10       \n",
       "26     -8556.8   -32220.0  10.0      10       \n",
       "27     -5360.0   -6968.0   50.0      10       \n",
       "28      3747.1    4806.0   10.0      10       \n",
       "29      55005.6   95025.0  10.0      10       \n",
       "...         ...       ...   ...      ..       \n",
       "230655  32892.3   18864.0  10.0      10       \n",
       "230656 -3170.4   -3174.0   10.0      10       \n",
       "230657  16293.6   12121.0  10.0      10       \n",
       "230658  55672.1   59800.0  10.0      10       \n",
       "230659 -64783.4  -64977.0  50.0      10       \n",
       "230660  60343.2   47502.0  10.0      10       \n",
       "230661 -37086.0  -4770.0   10.0      10       \n",
       "230662  72544.5   18792.0  10.0      10       \n",
       "230663 -7385.0   -3696.0   10.0      10       \n",
       "230664 -6864.0    16306.0  10.0      10       \n",
       "230665 -35791.4  -531.0    50.0      10       \n",
       "230666 -7368.2   -73295.0  10.0      10       \n",
       "230667 -7379.4   -5808.0   10.0      10       \n",
       "230668  1059.8    0.0      10.0      10       \n",
       "230669  4755.6    3703.0   10.0      10       \n",
       "230670  1057.2    0.0      10.0      10       \n",
       "230671  529.1     0.0      50.0      10       \n",
       "230672  529.2     0.0      10.0      10       \n",
       "230673  529.3     0.0      10.0      10       \n",
       "230674  529.4     0.0      10.0      10       \n",
       "230675  529.5     0.0      10.0      10       \n",
       "230676  529.5     0.0      10.0      10       \n",
       "230677  529.6     0.0      50.0      10       \n",
       "230678  529.6     0.0      10.0      10       \n",
       "230679  529.7     0.0      10.0      10       \n",
       "230680  4761.0    0.0      10.0      10       \n",
       "230681  1058.8    0.0      10.0      10       \n",
       "230682  529.6     0.0      10.0      10       \n",
       "230683  1588.8    0.0      50.0      10       \n",
       "230684  529.7     0.0      10.0      10       \n",
       "\n",
       "[1065374 rows x 16 columns]"
      ]
     },
     "execution_count": 5,
     "metadata": {},
     "output_type": "execute_result"
    }
   ],
   "source": [
    "alldata=pd.DataFrame()\n",
    "for df in dflist:\n",
    "    alldata=pd.concat([alldata,df])\n",
    "alldata"
   ]
  },
  {
   "cell_type": "markdown",
   "metadata": {},
   "source": [
    "\n",
    "# 处理好了分段问题，现在对每一段的训练数据，我们求其中的secdiff\n",
    "如果不分段，某些中间偷偷跑的距离就会被学习（然而这在测试数据中是没有的）"
   ]
  },
  {
   "cell_type": "code",
   "execution_count": 6,
   "metadata": {
    "scrolled": true
   },
   "outputs": [
    {
     "data": {
      "text/plain": [
       "31"
      ]
     },
     "execution_count": 6,
     "metadata": {},
     "output_type": "execute_result"
    }
   ],
   "source": [
    "len(dflist)"
   ]
  },
  {
   "cell_type": "code",
   "execution_count": 7,
   "metadata": {
    "collapsed": true,
    "scrolled": true
   },
   "outputs": [],
   "source": [
    "input_attribute=[ 'secdiff','batteryP','motoP','total_voltage','total_current','soc','temp_max','temp_min','motor_voltage','motor_current']\n",
    "output_attribute=['milediff']#'speeddiff',\n",
    "input_shape=len(input_attribute)\n",
    "output_shape=len(output_attribute)\n",
    "import numpy as np\n",
    "#手动归一化处理 因为之前是一个一个df加入dflist的 alldata是后面累加的，所以无法直接对alldata作用，而是用alldata数据对下面这个数据作用\n",
    "for index,df in enumerate(dflist):\n",
    "    data=df.copy()\n",
    "    mycolumns=data.columns\n",
    "    data.total_voltage=(data.total_voltage-alldata.total_voltage.min())/(alldata.total_voltage.max()-alldata.total_voltage.min()) #min max\n",
    "    #data.total_current=(data.total_current-alldata.total_current.mean())/alldata.total_current.std()#不可以 会失去反向电压特征\n",
    "    data.total_current=data.total_current/alldata.total_current.std()\n",
    "    data.motor_voltage=(data.motor_voltage-alldata.motor_voltage.min())/(alldata.motor_voltage.max()-alldata.motor_voltage.min()) #min max\n",
    "    #data.motor_current=(data.motor_current-alldata.motor_current.mean())/alldata.motor_current.std()#不用改\n",
    "    data.motor_current=data.motor_current/alldata.motor_current.std()\n",
    "    data.soc=data.soc/100\n",
    "    data.secdiff=data.secdiff/10\n",
    "    data.temp_max=(data.temp_max-alldata.temp_max.min())/(alldata.temp_max.max()-alldata.temp_max.min()) #min max\n",
    "    data.temp_min=(data.temp_min-alldata.temp_min.min())/(alldata.temp_min.max()-alldata.temp_min.min()) #min max\n",
    "    data.batteryP=(data.batteryP-alldata.batteryP.mean())/alldata.batteryP.std()#Standardization\n",
    "    data.motoP=(data.motoP-alldata.motoP.mean())/alldata.motoP.std()#Standardization\n",
    "    string = r\"C:\\Users\\14020\\Desktop\\NCBDC 2019\\Normalized_data_list\"+'\\\\'+str(index)\n",
    "    np.save(string,data)\n",
    "    "
   ]
  },
  {
   "cell_type": "code",
   "execution_count": 12,
   "metadata": {},
   "outputs": [
    {
     "data": {
      "text/plain": [
       "Index(['time', 'speed', 'total_voltage', 'total_current', 'soc', 'temp_max',\n",
       "       'temp_min', 'motor_voltage', 'motor_current', 'mileage', 'milediff',\n",
       "       'speeddiff', 'batteryP', 'motoP', 'timediff', 'secdiff'],\n",
       "      dtype='object')"
      ]
     },
     "execution_count": 12,
     "metadata": {},
     "output_type": "execute_result"
    }
   ],
   "source": [
    "dflist[0].columns"
   ]
  },
  {
   "cell_type": "code",
   "execution_count": 9,
   "metadata": {},
   "outputs": [
    {
     "data": {
      "text/plain": [
       "array([[  2.01801011e+13,   1.70000000e+01,   6.02923264e-01, ...,\n",
       "         -3.19391096e-01,   0.00000000e+00,   0.00000000e+00],\n",
       "       [  2.01801011e+13,   2.30000000e+01,   4.98172960e-01, ...,\n",
       "          2.53033073e+00,   1.00000000e+01,   1.00000000e+00],\n",
       "       [  2.01801011e+13,   3.60000000e+01,   4.73812424e-01, ...,\n",
       "          9.58180722e-01,   1.00000000e+01,   1.00000000e+00],\n",
       "       ..., \n",
       "       [  2.01801131e+13,   1.00000000e+00,   3.97076736e-01, ...,\n",
       "         -3.19391096e-01,   1.00000000e+01,   1.00000000e+00],\n",
       "       [  2.01801131e+13,   0.00000000e+00,   3.98294762e-01, ...,\n",
       "         -3.19391096e-01,   1.00000000e+01,   1.00000000e+00],\n",
       "       [  2.01801131e+13,   0.00000000e+00,   3.98294762e-01, ...,\n",
       "         -3.19391096e-01,   1.00000000e+01,   1.00000000e+00]])"
      ]
     },
     "execution_count": 9,
     "metadata": {},
     "output_type": "execute_result"
    }
   ],
   "source": [
    "path=r\"C:\\Users\\14020\\Desktop\\NCBDC 2019\\Normalized_data_list\"+'\\\\'\n",
    "np.load(path+'0.npy') "
   ]
  },
  {
   "cell_type": "code",
   "execution_count": null,
   "metadata": {
    "collapsed": true
   },
   "outputs": [],
   "source": []
  },
  {
   "cell_type": "code",
   "execution_count": null,
   "metadata": {
    "collapsed": true
   },
   "outputs": [],
   "source": []
  },
  {
   "cell_type": "code",
   "execution_count": null,
   "metadata": {
    "collapsed": true
   },
   "outputs": [],
   "source": []
  },
  {
   "cell_type": "code",
   "execution_count": null,
   "metadata": {
    "collapsed": true
   },
   "outputs": [],
   "source": [
    "import keras\n",
    "from keras.models import Sequential\n",
    "from keras.layers import Dense\n",
    "from keras.layers import LSTM\n",
    "from keras.utils import np_utils\n",
    "from keras.layers import Activation\n",
    "from keras.layers.recurrent import SimpleRNN\n",
    "from keras.utils.vis_utils import plot_model\n",
    "import numpy as np\n",
    "from keras.layers import  Dropout\n",
    "from keras.optimizers import RMSprop\n",
    "from keras.utils.data_utils import get_file\n",
    "import random\n",
    "import sys\n",
    "np.random.seed(7)\n",
    "\n",
    "#https://blog.csdn.net/clayanddev/article/details/53947012#rnn-using-keras\n",
    "class RNNKeras:\n",
    "    \n",
    "    def __init__(self, time_steps, vector_size, output_size, hidden_dim=100,dropout=0.1,units=50):\n",
    "        # Assign instance variables\n",
    "        self.time_steps = time_steps\n",
    "        self.vector_size = vector_size\n",
    "        self.output_size = output_size\n",
    "        self.hidden_dim = hidden_dim\n",
    "        self.dropout=dropout\n",
    "        self.units=units\n",
    "\n",
    "        self.__model_build__()\n",
    "    \n",
    "    def __model_build__(self):\n",
    "        self.model = Sequential()\n",
    "\n",
    "        self.model.add(LSTM(self.output_size, input_shape=(self.time_steps, self.vector_size)))\n",
    "        self.model.add(Dense(self.vector_size))\n",
    "        self.model.add(Activation('sigmoid'))\n",
    "        \n",
    "        #optimizer = RMSprop(lr=0.01)\n",
    "        self.model.compile(loss='mse', optimizer='adam')\n",
    "    \n",
    "    def train_model(self, X, y, batchSize=128, nepoch=10):\n",
    "        self.model.fit(X, y, batch_size=batchSize, epochs=nepoch,validation_split=0)\n",
    "\n",
    "    def predict(self, x):\n",
    "        return model.predict(x, verbose=0)[0]"
   ]
  },
  {
   "cell_type": "code",
   "execution_count": 12,
   "metadata": {
    "scrolled": true
   },
   "outputs": [
    {
     "name": "stdout",
     "output_type": "stream",
     "text": [
      "数据量 25000 训练数据 20000 测试数据 5000\n"
     ]
    }
   ],
   "source": [
    "from math import ceil\n",
    "TimeStep=10 #相当于其他地方的sequence_length 用多少前面的数据去预测最后一个\n",
    "model=RNNKeras(time_steps=TimeStep,vector_size=input_shape,output_size=output_shape,hidden_dim=10)\n",
    "#准备数据\n",
    "######################################\n",
    "data=data[:25000]\n",
    "X=data.loc[:,input_attribute]\n",
    "Y=data.loc[:,output_attribute]\n",
    "X=X.to_numpy()\n",
    "Y=Y.to_numpy()\n",
    "trainX,trainY=[],[]#暂时存储所有输入给rnn的数据 等等分训练集和测试集\n",
    "datasize=len(X)\n",
    "trainsize=ceil(datasize/10*8)\n",
    "testsize=datasize-trainsize\n",
    "print(\"数据量\",datasize,\"训练数据\",trainsize,\"测试数据\",testsize)\n",
    "for i in range(datasize-TimeStep-1):\n",
    "    x=X[i:i+TimeStep]\n",
    "    y=Y[i:i+TimeStep].sum()#此处可能需要改，改成 里层增量的和\n",
    "    trainX.append(x.tolist())\n",
    "    trainY.append(y)\n",
    "#得到了所有正确格式的输入和输出 trianX的格式需要是（batch_size, timestep，featurenum\n",
    "#分训练集和测试集\n",
    "########################ctrl+/ 注释多行\n",
    "# testX=np.array(trainX[trainsize:])\n",
    "# testY=np.array(trainY[trainsize:])\n",
    "# trainX=np.array(trainX[:trainsize])\n",
    "# trainY=np.array(trainY[:trainsize])\n",
    "testX=trainX[trainsize:]\n",
    "testY=trainY[trainsize:]\n",
    "trainX=trainX[:trainsize]\n",
    "trainY=trainY[:trainsize]"
   ]
  },
  {
   "cell_type": "code",
   "execution_count": 25,
   "metadata": {
    "scrolled": false
   },
   "outputs": [
    {
     "data": {
      "text/plain": [
       "(20000,)"
      ]
     },
     "execution_count": 25,
     "metadata": {},
     "output_type": "execute_result"
    }
   ],
   "source": [
    "np.array(trainY).shape"
   ]
  },
  {
   "cell_type": "code",
   "execution_count": 21,
   "metadata": {
    "scrolled": false
   },
   "outputs": [
    {
     "data": {
      "text/plain": [
       "(20000, 10, 10)"
      ]
     },
     "execution_count": 21,
     "metadata": {},
     "output_type": "execute_result"
    }
   ],
   "source": [
    "np.array(trainX).shape"
   ]
  },
  {
   "cell_type": "code",
   "execution_count": 26,
   "metadata": {
    "scrolled": true
   },
   "outputs": [
    {
     "ename": "ValueError",
     "evalue": "Error when checking model input: the list of Numpy arrays that you are passing to your model is not the size the model expected. Expected to see 1 array(s), but instead got the following list of 20000 arrays: [array([[ 0.        , -0.34444867, -0.3193911 ,  0.60292326,  0.04053166,\n         1.        ,  0.45238095,  0.375     ,  0.94463668,  0.        ],\n       [ 1.        ,  2.10941442,  2.53033073,  0.49...",
     "output_type": "error",
     "traceback": [
      "\u001b[1;31m---------------------------------------------------------------------------\u001b[0m",
      "\u001b[1;31mValueError\u001b[0m                                Traceback (most recent call last)",
      "\u001b[1;32m<ipython-input-26-ef2968c671f7>\u001b[0m in \u001b[0;36m<module>\u001b[1;34m()\u001b[0m\n\u001b[1;32m----> 1\u001b[1;33m \u001b[0mmodel\u001b[0m\u001b[1;33m.\u001b[0m\u001b[0mtrain_model\u001b[0m\u001b[1;33m(\u001b[0m\u001b[0mtrainX\u001b[0m\u001b[1;33m,\u001b[0m\u001b[0mtrainY\u001b[0m\u001b[1;33m)\u001b[0m\u001b[1;33m\u001b[0m\u001b[0m\n\u001b[0m",
      "\u001b[1;32m<ipython-input-11-e53039afaf71>\u001b[0m in \u001b[0;36mtrain_model\u001b[1;34m(self, X, y, batchSize, nepoch)\u001b[0m\n\u001b[0;32m     46\u001b[0m \u001b[1;33m\u001b[0m\u001b[0m\n\u001b[0;32m     47\u001b[0m     \u001b[1;32mdef\u001b[0m \u001b[0mtrain_model\u001b[0m\u001b[1;33m(\u001b[0m\u001b[0mself\u001b[0m\u001b[1;33m,\u001b[0m \u001b[0mX\u001b[0m\u001b[1;33m,\u001b[0m \u001b[0my\u001b[0m\u001b[1;33m,\u001b[0m \u001b[0mbatchSize\u001b[0m\u001b[1;33m=\u001b[0m\u001b[1;36m128\u001b[0m\u001b[1;33m,\u001b[0m \u001b[0mnepoch\u001b[0m\u001b[1;33m=\u001b[0m\u001b[1;36m10\u001b[0m\u001b[1;33m)\u001b[0m\u001b[1;33m:\u001b[0m\u001b[1;33m\u001b[0m\u001b[0m\n\u001b[1;32m---> 48\u001b[1;33m         \u001b[0mself\u001b[0m\u001b[1;33m.\u001b[0m\u001b[0mmodel\u001b[0m\u001b[1;33m.\u001b[0m\u001b[0mfit\u001b[0m\u001b[1;33m(\u001b[0m\u001b[0mX\u001b[0m\u001b[1;33m,\u001b[0m \u001b[0my\u001b[0m\u001b[1;33m,\u001b[0m \u001b[0mbatch_size\u001b[0m\u001b[1;33m=\u001b[0m\u001b[0mbatchSize\u001b[0m\u001b[1;33m,\u001b[0m \u001b[0mepochs\u001b[0m\u001b[1;33m=\u001b[0m\u001b[0mnepoch\u001b[0m\u001b[1;33m,\u001b[0m\u001b[0mvalidation_split\u001b[0m\u001b[1;33m=\u001b[0m\u001b[1;36m0\u001b[0m\u001b[1;33m)\u001b[0m\u001b[1;33m\u001b[0m\u001b[0m\n\u001b[0m\u001b[0;32m     49\u001b[0m \u001b[1;33m\u001b[0m\u001b[0m\n\u001b[0;32m     50\u001b[0m     \u001b[1;32mdef\u001b[0m \u001b[0mpredict\u001b[0m\u001b[1;33m(\u001b[0m\u001b[0mself\u001b[0m\u001b[1;33m,\u001b[0m \u001b[0mx\u001b[0m\u001b[1;33m)\u001b[0m\u001b[1;33m:\u001b[0m\u001b[1;33m\u001b[0m\u001b[0m\n",
      "\u001b[1;32mD:\\ANACONDA\\envs\\tensorflow\\lib\\site-packages\\keras\\engine\\training.py\u001b[0m in \u001b[0;36mfit\u001b[1;34m(self, x, y, batch_size, epochs, verbose, callbacks, validation_split, validation_data, shuffle, class_weight, sample_weight, initial_epoch, steps_per_epoch, validation_steps, validation_freq, max_queue_size, workers, use_multiprocessing, **kwargs)\u001b[0m\n\u001b[0;32m   1152\u001b[0m             \u001b[0msample_weight\u001b[0m\u001b[1;33m=\u001b[0m\u001b[0msample_weight\u001b[0m\u001b[1;33m,\u001b[0m\u001b[1;33m\u001b[0m\u001b[0m\n\u001b[0;32m   1153\u001b[0m             \u001b[0mclass_weight\u001b[0m\u001b[1;33m=\u001b[0m\u001b[0mclass_weight\u001b[0m\u001b[1;33m,\u001b[0m\u001b[1;33m\u001b[0m\u001b[0m\n\u001b[1;32m-> 1154\u001b[1;33m             batch_size=batch_size)\n\u001b[0m\u001b[0;32m   1155\u001b[0m \u001b[1;33m\u001b[0m\u001b[0m\n\u001b[0;32m   1156\u001b[0m         \u001b[1;31m# Prepare validation data.\u001b[0m\u001b[1;33m\u001b[0m\u001b[1;33m\u001b[0m\u001b[0m\n",
      "\u001b[1;32mD:\\ANACONDA\\envs\\tensorflow\\lib\\site-packages\\keras\\engine\\training.py\u001b[0m in \u001b[0;36m_standardize_user_data\u001b[1;34m(self, x, y, sample_weight, class_weight, check_array_lengths, batch_size)\u001b[0m\n\u001b[0;32m    577\u001b[0m             \u001b[0mfeed_input_shapes\u001b[0m\u001b[1;33m,\u001b[0m\u001b[1;33m\u001b[0m\u001b[0m\n\u001b[0;32m    578\u001b[0m             \u001b[0mcheck_batch_axis\u001b[0m\u001b[1;33m=\u001b[0m\u001b[1;32mFalse\u001b[0m\u001b[1;33m,\u001b[0m  \u001b[1;31m# Don't enforce the batch size.\u001b[0m\u001b[1;33m\u001b[0m\u001b[0m\n\u001b[1;32m--> 579\u001b[1;33m             exception_prefix='input')\n\u001b[0m\u001b[0;32m    580\u001b[0m \u001b[1;33m\u001b[0m\u001b[0m\n\u001b[0;32m    581\u001b[0m         \u001b[1;32mif\u001b[0m \u001b[0my\u001b[0m \u001b[1;32mis\u001b[0m \u001b[1;32mnot\u001b[0m \u001b[1;32mNone\u001b[0m\u001b[1;33m:\u001b[0m\u001b[1;33m\u001b[0m\u001b[0m\n",
      "\u001b[1;32mD:\\ANACONDA\\envs\\tensorflow\\lib\\site-packages\\keras\\engine\\training_utils.py\u001b[0m in \u001b[0;36mstandardize_input_data\u001b[1;34m(data, names, shapes, check_batch_axis, exception_prefix)\u001b[0m\n\u001b[0;32m    107\u001b[0m                 \u001b[1;34m'Expected to see '\u001b[0m \u001b[1;33m+\u001b[0m \u001b[0mstr\u001b[0m\u001b[1;33m(\u001b[0m\u001b[0mlen\u001b[0m\u001b[1;33m(\u001b[0m\u001b[0mnames\u001b[0m\u001b[1;33m)\u001b[0m\u001b[1;33m)\u001b[0m \u001b[1;33m+\u001b[0m \u001b[1;34m' array(s), '\u001b[0m\u001b[1;33m\u001b[0m\u001b[0m\n\u001b[0;32m    108\u001b[0m                 \u001b[1;34m'but instead got the following list of '\u001b[0m \u001b[1;33m+\u001b[0m\u001b[1;33m\u001b[0m\u001b[0m\n\u001b[1;32m--> 109\u001b[1;33m                 str(len(data)) + ' arrays: ' + str(data)[:200] + '...')\n\u001b[0m\u001b[0;32m    110\u001b[0m         \u001b[1;32melif\u001b[0m \u001b[0mlen\u001b[0m\u001b[1;33m(\u001b[0m\u001b[0mnames\u001b[0m\u001b[1;33m)\u001b[0m \u001b[1;33m>\u001b[0m \u001b[1;36m1\u001b[0m\u001b[1;33m:\u001b[0m\u001b[1;33m\u001b[0m\u001b[0m\n\u001b[0;32m    111\u001b[0m             raise ValueError(\n",
      "\u001b[1;31mValueError\u001b[0m: Error when checking model input: the list of Numpy arrays that you are passing to your model is not the size the model expected. Expected to see 1 array(s), but instead got the following list of 20000 arrays: [array([[ 0.        , -0.34444867, -0.3193911 ,  0.60292326,  0.04053166,\n         1.        ,  0.45238095,  0.375     ,  0.94463668,  0.        ],\n       [ 1.        ,  2.10941442,  2.53033073,  0.49..."
     ]
    }
   ],
   "source": [
    "model.train_model(trainX,trainY)"
   ]
  },
  {
   "cell_type": "code",
   "execution_count": null,
   "metadata": {
    "collapsed": true
   },
   "outputs": [],
   "source": []
  },
  {
   "cell_type": "code",
   "execution_count": null,
   "metadata": {
    "collapsed": true
   },
   "outputs": [],
   "source": []
  },
  {
   "cell_type": "code",
   "execution_count": null,
   "metadata": {
    "collapsed": true
   },
   "outputs": [],
   "source": []
  },
  {
   "cell_type": "code",
   "execution_count": null,
   "metadata": {
    "collapsed": true
   },
   "outputs": [],
   "source": []
  },
  {
   "cell_type": "code",
   "execution_count": null,
   "metadata": {
    "collapsed": true
   },
   "outputs": [],
   "source": []
  },
  {
   "cell_type": "code",
   "execution_count": null,
   "metadata": {
    "collapsed": true
   },
   "outputs": [],
   "source": []
  },
  {
   "cell_type": "code",
   "execution_count": null,
   "metadata": {
    "collapsed": true
   },
   "outputs": [],
   "source": []
  },
  {
   "cell_type": "code",
   "execution_count": 96,
   "metadata": {},
   "outputs": [
    {
     "name": "stdout",
     "output_type": "stream",
     "text": [
      "Downloading and preparing dataset imdb_reviews (80.23 MiB) to C:\\Users\\14020\\tensorflow_datasets\\imdb_reviews\\subwords8k\\0.1.0...\n"
     ]
    },
    {
     "name": "stderr",
     "output_type": "stream",
     "text": [
      "Widget Javascript not detected.  It may not be installed or enabled properly.\n"
     ]
    },
    {
     "data": {
      "application/vnd.jupyter.widget-view+json": {
       "model_id": "3b7ee3269f2f41f097b8a12aff91589c"
      }
     },
     "metadata": {},
     "output_type": "display_data"
    },
    {
     "name": "stderr",
     "output_type": "stream",
     "text": [
      "Widget Javascript not detected.  It may not be installed or enabled properly.\n"
     ]
    },
    {
     "data": {
      "application/vnd.jupyter.widget-view+json": {
       "model_id": "806c20149ce145ee9e833781a8926003"
      }
     },
     "metadata": {},
     "output_type": "display_data"
    },
    {
     "name": "stdout",
     "output_type": "stream",
     "text": [
      "\n",
      "\n",
      "\n",
      "\n"
     ]
    },
    {
     "name": "stderr",
     "output_type": "stream",
     "text": [
      "Widget Javascript not detected.  It may not be installed or enabled properly.\n"
     ]
    },
    {
     "data": {
      "application/vnd.jupyter.widget-view+json": {
       "model_id": "194a83913db7458f919cbe8a478a7495"
      }
     },
     "metadata": {},
     "output_type": "display_data"
    },
    {
     "name": "stdout",
     "output_type": "stream",
     "text": [
      "\r"
     ]
    },
    {
     "name": "stderr",
     "output_type": "stream",
     "text": [
      "Widget Javascript not detected.  It may not be installed or enabled properly.\n"
     ]
    },
    {
     "data": {
      "application/vnd.jupyter.widget-view+json": {
       "model_id": "9273417f095a4f2a82e9a00bd24df3b1"
      }
     },
     "metadata": {},
     "output_type": "display_data"
    },
    {
     "name": "stdout",
     "output_type": "stream",
     "text": [
      "WARNING:tensorflow:From D:\\ANACONDA\\envs\\tensorflow\\lib\\site-packages\\tensorflow_datasets\\core\\file_format_adapter.py:209: tf_record_iterator (from tensorflow.python.lib.io.tf_record) is deprecated and will be removed in a future version.\n",
      "Instructions for updating:\n",
      "Use eager execution and: \n",
      "`tf.data.TFRecordDataset(path)`\n"
     ]
    },
    {
     "name": "stderr",
     "output_type": "stream",
     "text": [
      "WARNING:tensorflow:From D:\\ANACONDA\\envs\\tensorflow\\lib\\site-packages\\tensorflow_datasets\\core\\file_format_adapter.py:209: tf_record_iterator (from tensorflow.python.lib.io.tf_record) is deprecated and will be removed in a future version.\n",
      "Instructions for updating:\n",
      "Use eager execution and: \n",
      "`tf.data.TFRecordDataset(path)`\n",
      "Widget Javascript not detected.  It may not be installed or enabled properly.\n"
     ]
    },
    {
     "data": {
      "application/vnd.jupyter.widget-view+json": {
       "model_id": "6532bfa3e867413eb56a18a77be34dc9"
      }
     },
     "metadata": {},
     "output_type": "display_data"
    },
    {
     "name": "stderr",
     "output_type": "stream",
     "text": [
      "Widget Javascript not detected.  It may not be installed or enabled properly.\n"
     ]
    },
    {
     "data": {
      "application/vnd.jupyter.widget-view+json": {
       "model_id": "dc3458fbf696421ba638c72676445dc5"
      }
     },
     "metadata": {},
     "output_type": "display_data"
    },
    {
     "name": "stderr",
     "output_type": "stream",
     "text": [
      "Widget Javascript not detected.  It may not be installed or enabled properly.\n"
     ]
    },
    {
     "data": {
      "application/vnd.jupyter.widget-view+json": {
       "model_id": "e20f477e082d42a1a18597bdb4d4f4de"
      }
     },
     "metadata": {},
     "output_type": "display_data"
    },
    {
     "name": "stderr",
     "output_type": "stream",
     "text": [
      "Widget Javascript not detected.  It may not be installed or enabled properly.\n"
     ]
    },
    {
     "data": {
      "application/vnd.jupyter.widget-view+json": {
       "model_id": "0fd23a9f2db54c29a60dec0bfd333175"
      }
     },
     "metadata": {},
     "output_type": "display_data"
    },
    {
     "name": "stderr",
     "output_type": "stream",
     "text": [
      "Widget Javascript not detected.  It may not be installed or enabled properly.\n"
     ]
    },
    {
     "data": {
      "application/vnd.jupyter.widget-view+json": {
       "model_id": "9d24460089f74d5b8682250d754c0ace"
      }
     },
     "metadata": {},
     "output_type": "display_data"
    },
    {
     "name": "stderr",
     "output_type": "stream",
     "text": [
      "Widget Javascript not detected.  It may not be installed or enabled properly.\n"
     ]
    },
    {
     "data": {
      "application/vnd.jupyter.widget-view+json": {
       "model_id": "f1725141824947179db5503dc298266c"
      }
     },
     "metadata": {},
     "output_type": "display_data"
    },
    {
     "name": "stderr",
     "output_type": "stream",
     "text": [
      "Widget Javascript not detected.  It may not be installed or enabled properly.\n"
     ]
    },
    {
     "data": {
      "application/vnd.jupyter.widget-view+json": {
       "model_id": "3716a43914ee491f9e4eeaa05b46311d"
      }
     },
     "metadata": {},
     "output_type": "display_data"
    },
    {
     "name": "stderr",
     "output_type": "stream",
     "text": [
      "Widget Javascript not detected.  It may not be installed or enabled properly.\n"
     ]
    },
    {
     "data": {
      "application/vnd.jupyter.widget-view+json": {
       "model_id": "c23650997dff4bafab50307d73d5aec0"
      }
     },
     "metadata": {},
     "output_type": "display_data"
    },
    {
     "name": "stderr",
     "output_type": "stream",
     "text": [
      "Widget Javascript not detected.  It may not be installed or enabled properly.\n"
     ]
    },
    {
     "data": {
      "application/vnd.jupyter.widget-view+json": {
       "model_id": "4c034f8aa4be49889b11a78da4a7d0e9"
      }
     },
     "metadata": {},
     "output_type": "display_data"
    },
    {
     "name": "stderr",
     "output_type": "stream",
     "text": [
      "Widget Javascript not detected.  It may not be installed or enabled properly.\n"
     ]
    },
    {
     "data": {
      "application/vnd.jupyter.widget-view+json": {
       "model_id": "ab2365ceb2f04c9c901c40dfe745e90d"
      }
     },
     "metadata": {},
     "output_type": "display_data"
    },
    {
     "name": "stderr",
     "output_type": "stream",
     "text": [
      "Widget Javascript not detected.  It may not be installed or enabled properly.\n"
     ]
    },
    {
     "data": {
      "application/vnd.jupyter.widget-view+json": {
       "model_id": "1d618e4ef3bb4c80bfd98056c37a6c0d"
      }
     },
     "metadata": {},
     "output_type": "display_data"
    },
    {
     "name": "stderr",
     "output_type": "stream",
     "text": [
      "Widget Javascript not detected.  It may not be installed or enabled properly.\n"
     ]
    },
    {
     "data": {
      "application/vnd.jupyter.widget-view+json": {
       "model_id": "349573d2b9594c478d015c4d8c03e08a"
      }
     },
     "metadata": {},
     "output_type": "display_data"
    },
    {
     "name": "stderr",
     "output_type": "stream",
     "text": [
      "Widget Javascript not detected.  It may not be installed or enabled properly.\n"
     ]
    },
    {
     "data": {
      "application/vnd.jupyter.widget-view+json": {
       "model_id": "d685fd669f794e1ead86f8717255841c"
      }
     },
     "metadata": {},
     "output_type": "display_data"
    },
    {
     "name": "stderr",
     "output_type": "stream",
     "text": [
      "Widget Javascript not detected.  It may not be installed or enabled properly.\n"
     ]
    },
    {
     "data": {
      "application/vnd.jupyter.widget-view+json": {
       "model_id": "55f5dfc70df648f58193a64117788941"
      }
     },
     "metadata": {},
     "output_type": "display_data"
    },
    {
     "name": "stderr",
     "output_type": "stream",
     "text": [
      "Widget Javascript not detected.  It may not be installed or enabled properly.\n"
     ]
    },
    {
     "data": {
      "application/vnd.jupyter.widget-view+json": {
       "model_id": "66a1eda1c86747b3b0417c455b846b06"
      }
     },
     "metadata": {},
     "output_type": "display_data"
    },
    {
     "name": "stderr",
     "output_type": "stream",
     "text": [
      "Widget Javascript not detected.  It may not be installed or enabled properly.\n"
     ]
    },
    {
     "data": {
      "application/vnd.jupyter.widget-view+json": {
       "model_id": "fa773baae1ad42759bc86abfa0f985ae"
      }
     },
     "metadata": {},
     "output_type": "display_data"
    },
    {
     "name": "stderr",
     "output_type": "stream",
     "text": [
      "Widget Javascript not detected.  It may not be installed or enabled properly.\n"
     ]
    },
    {
     "data": {
      "application/vnd.jupyter.widget-view+json": {
       "model_id": "eb2277d57f3849aabe5fe556dee17e33"
      }
     },
     "metadata": {},
     "output_type": "display_data"
    },
    {
     "name": "stderr",
     "output_type": "stream",
     "text": [
      "Widget Javascript not detected.  It may not be installed or enabled properly.\n"
     ]
    },
    {
     "data": {
      "application/vnd.jupyter.widget-view+json": {
       "model_id": "c51aba6a7a4c45cbb5fcccd453197552"
      }
     },
     "metadata": {},
     "output_type": "display_data"
    },
    {
     "name": "stderr",
     "output_type": "stream",
     "text": [
      "Widget Javascript not detected.  It may not be installed or enabled properly.\n"
     ]
    },
    {
     "data": {
      "application/vnd.jupyter.widget-view+json": {
       "model_id": "3762fc1f1dde4af0b831ab3b1bc20249"
      }
     },
     "metadata": {},
     "output_type": "display_data"
    },
    {
     "name": "stderr",
     "output_type": "stream",
     "text": [
      "Widget Javascript not detected.  It may not be installed or enabled properly.\n"
     ]
    },
    {
     "data": {
      "application/vnd.jupyter.widget-view+json": {
       "model_id": "c1c9f61a256c4da49c3267690c2029cc"
      }
     },
     "metadata": {},
     "output_type": "display_data"
    },
    {
     "name": "stdout",
     "output_type": "stream",
     "text": [
      "\r"
     ]
    },
    {
     "name": "stderr",
     "output_type": "stream",
     "text": [
      "Widget Javascript not detected.  It may not be installed or enabled properly.\n"
     ]
    },
    {
     "data": {
      "application/vnd.jupyter.widget-view+json": {
       "model_id": "efc9763fda1d4078b77eecb7f8ddbafe"
      }
     },
     "metadata": {},
     "output_type": "display_data"
    },
    {
     "name": "stdout",
     "output_type": "stream",
     "text": [
      "\r"
     ]
    },
    {
     "name": "stderr",
     "output_type": "stream",
     "text": [
      "Widget Javascript not detected.  It may not be installed or enabled properly.\n"
     ]
    },
    {
     "data": {
      "application/vnd.jupyter.widget-view+json": {
       "model_id": "3e5181c12ecc42589ba3c32af5fa6058"
      }
     },
     "metadata": {},
     "output_type": "display_data"
    },
    {
     "name": "stderr",
     "output_type": "stream",
     "text": [
      "Widget Javascript not detected.  It may not be installed or enabled properly.\n"
     ]
    },
    {
     "data": {
      "application/vnd.jupyter.widget-view+json": {
       "model_id": "a4e54d91cf454f1280b6443d63dfec89"
      }
     },
     "metadata": {},
     "output_type": "display_data"
    },
    {
     "name": "stderr",
     "output_type": "stream",
     "text": [
      "Widget Javascript not detected.  It may not be installed or enabled properly.\n"
     ]
    },
    {
     "data": {
      "application/vnd.jupyter.widget-view+json": {
       "model_id": "216828041f8a422db7a11183366f7888"
      }
     },
     "metadata": {},
     "output_type": "display_data"
    },
    {
     "name": "stderr",
     "output_type": "stream",
     "text": [
      "Widget Javascript not detected.  It may not be installed or enabled properly.\n"
     ]
    },
    {
     "data": {
      "application/vnd.jupyter.widget-view+json": {
       "model_id": "a57db13326cb4586b060243c572a62bc"
      }
     },
     "metadata": {},
     "output_type": "display_data"
    },
    {
     "name": "stderr",
     "output_type": "stream",
     "text": [
      "Widget Javascript not detected.  It may not be installed or enabled properly.\n"
     ]
    },
    {
     "data": {
      "application/vnd.jupyter.widget-view+json": {
       "model_id": "1cc8d43efe7d44efb918143b6c94e27a"
      }
     },
     "metadata": {},
     "output_type": "display_data"
    },
    {
     "name": "stderr",
     "output_type": "stream",
     "text": [
      "Widget Javascript not detected.  It may not be installed or enabled properly.\n"
     ]
    },
    {
     "data": {
      "application/vnd.jupyter.widget-view+json": {
       "model_id": "53e8fec41b7245e6b058164d25e11879"
      }
     },
     "metadata": {},
     "output_type": "display_data"
    },
    {
     "name": "stderr",
     "output_type": "stream",
     "text": [
      "Widget Javascript not detected.  It may not be installed or enabled properly.\n"
     ]
    },
    {
     "data": {
      "application/vnd.jupyter.widget-view+json": {
       "model_id": "00fe0f08dce244c98a78492fddc8994d"
      }
     },
     "metadata": {},
     "output_type": "display_data"
    },
    {
     "name": "stderr",
     "output_type": "stream",
     "text": [
      "Widget Javascript not detected.  It may not be installed or enabled properly.\n"
     ]
    },
    {
     "data": {
      "application/vnd.jupyter.widget-view+json": {
       "model_id": "406a513d95414d2880303a279131e641"
      }
     },
     "metadata": {},
     "output_type": "display_data"
    },
    {
     "name": "stderr",
     "output_type": "stream",
     "text": [
      "Widget Javascript not detected.  It may not be installed or enabled properly.\n"
     ]
    },
    {
     "data": {
      "application/vnd.jupyter.widget-view+json": {
       "model_id": "6ed7c2852a0c46b283e0a01353ef918e"
      }
     },
     "metadata": {},
     "output_type": "display_data"
    },
    {
     "name": "stderr",
     "output_type": "stream",
     "text": [
      "Widget Javascript not detected.  It may not be installed or enabled properly.\n"
     ]
    },
    {
     "data": {
      "application/vnd.jupyter.widget-view+json": {
       "model_id": "49764d33929b4be9aee7285a6ce3413b"
      }
     },
     "metadata": {},
     "output_type": "display_data"
    },
    {
     "name": "stderr",
     "output_type": "stream",
     "text": [
      "Widget Javascript not detected.  It may not be installed or enabled properly.\n"
     ]
    },
    {
     "data": {
      "application/vnd.jupyter.widget-view+json": {
       "model_id": "ec268249fc4c4fe8b6d3863cbb4a1d93"
      }
     },
     "metadata": {},
     "output_type": "display_data"
    },
    {
     "name": "stderr",
     "output_type": "stream",
     "text": [
      "Widget Javascript not detected.  It may not be installed or enabled properly.\n"
     ]
    },
    {
     "data": {
      "application/vnd.jupyter.widget-view+json": {
       "model_id": "505ce4f668e74069af7392096333a4f2"
      }
     },
     "metadata": {},
     "output_type": "display_data"
    },
    {
     "name": "stderr",
     "output_type": "stream",
     "text": [
      "Widget Javascript not detected.  It may not be installed or enabled properly.\n"
     ]
    },
    {
     "data": {
      "application/vnd.jupyter.widget-view+json": {
       "model_id": "a84c95791ca1499ba948766c30801797"
      }
     },
     "metadata": {},
     "output_type": "display_data"
    },
    {
     "name": "stderr",
     "output_type": "stream",
     "text": [
      "Widget Javascript not detected.  It may not be installed or enabled properly.\n"
     ]
    },
    {
     "data": {
      "application/vnd.jupyter.widget-view+json": {
       "model_id": "f7a8951c073d43dbb1377ecd5261d85b"
      }
     },
     "metadata": {},
     "output_type": "display_data"
    },
    {
     "name": "stderr",
     "output_type": "stream",
     "text": [
      "Widget Javascript not detected.  It may not be installed or enabled properly.\n"
     ]
    },
    {
     "data": {
      "application/vnd.jupyter.widget-view+json": {
       "model_id": "9c918171b1524d5aa88b7e20c8888ee2"
      }
     },
     "metadata": {},
     "output_type": "display_data"
    },
    {
     "name": "stderr",
     "output_type": "stream",
     "text": [
      "Widget Javascript not detected.  It may not be installed or enabled properly.\n"
     ]
    },
    {
     "data": {
      "application/vnd.jupyter.widget-view+json": {
       "model_id": "d674d53f21f94d99a7d6b170fc81280b"
      }
     },
     "metadata": {},
     "output_type": "display_data"
    },
    {
     "name": "stderr",
     "output_type": "stream",
     "text": [
      "Widget Javascript not detected.  It may not be installed or enabled properly.\n"
     ]
    },
    {
     "data": {
      "application/vnd.jupyter.widget-view+json": {
       "model_id": "33903a77e3354000babe87ffb111d572"
      }
     },
     "metadata": {},
     "output_type": "display_data"
    },
    {
     "name": "stderr",
     "output_type": "stream",
     "text": [
      "Widget Javascript not detected.  It may not be installed or enabled properly.\n"
     ]
    },
    {
     "data": {
      "application/vnd.jupyter.widget-view+json": {
       "model_id": "7ae003de830441ecafdedee4188d6532"
      }
     },
     "metadata": {},
     "output_type": "display_data"
    },
    {
     "name": "stderr",
     "output_type": "stream",
     "text": [
      "Widget Javascript not detected.  It may not be installed or enabled properly.\n"
     ]
    },
    {
     "data": {
      "application/vnd.jupyter.widget-view+json": {
       "model_id": "9a4385ab6770418f87b5eba482fcc053"
      }
     },
     "metadata": {},
     "output_type": "display_data"
    },
    {
     "name": "stderr",
     "output_type": "stream",
     "text": [
      "Widget Javascript not detected.  It may not be installed or enabled properly.\n"
     ]
    },
    {
     "data": {
      "application/vnd.jupyter.widget-view+json": {
       "model_id": "3844c75883fb43a480bf2c6f61d8cb08"
      }
     },
     "metadata": {},
     "output_type": "display_data"
    },
    {
     "name": "stderr",
     "output_type": "stream",
     "text": [
      "Widget Javascript not detected.  It may not be installed or enabled properly.\n"
     ]
    },
    {
     "data": {
      "application/vnd.jupyter.widget-view+json": {
       "model_id": "6726580500244cc7b4e59b49eebf331e"
      }
     },
     "metadata": {},
     "output_type": "display_data"
    },
    {
     "name": "stdout",
     "output_type": "stream",
     "text": [
      "\r"
     ]
    },
    {
     "name": "stderr",
     "output_type": "stream",
     "text": [
      "Widget Javascript not detected.  It may not be installed or enabled properly.\n"
     ]
    },
    {
     "data": {
      "application/vnd.jupyter.widget-view+json": {
       "model_id": "58c9db2711684bbca543890b381d48e9"
      }
     },
     "metadata": {},
     "output_type": "display_data"
    },
    {
     "name": "stdout",
     "output_type": "stream",
     "text": [
      "\r"
     ]
    },
    {
     "name": "stderr",
     "output_type": "stream",
     "text": [
      "Widget Javascript not detected.  It may not be installed or enabled properly.\n"
     ]
    },
    {
     "data": {
      "application/vnd.jupyter.widget-view+json": {
       "model_id": "e9f998ee7e3d4c81be78667665f6ebb5"
      }
     },
     "metadata": {},
     "output_type": "display_data"
    },
    {
     "name": "stderr",
     "output_type": "stream",
     "text": [
      "Widget Javascript not detected.  It may not be installed or enabled properly.\n"
     ]
    },
    {
     "data": {
      "application/vnd.jupyter.widget-view+json": {
       "model_id": "5b5450f7336a4664b76b4a06561dfefb"
      }
     },
     "metadata": {},
     "output_type": "display_data"
    },
    {
     "name": "stderr",
     "output_type": "stream",
     "text": [
      "Widget Javascript not detected.  It may not be installed or enabled properly.\n"
     ]
    },
    {
     "data": {
      "application/vnd.jupyter.widget-view+json": {
       "model_id": "793e7a9827cc481d86e76218e78f05f4"
      }
     },
     "metadata": {},
     "output_type": "display_data"
    },
    {
     "name": "stderr",
     "output_type": "stream",
     "text": [
      "Widget Javascript not detected.  It may not be installed or enabled properly.\n"
     ]
    },
    {
     "data": {
      "application/vnd.jupyter.widget-view+json": {
       "model_id": "bd959c349af4485183d64d5f413c8b7a"
      }
     },
     "metadata": {},
     "output_type": "display_data"
    },
    {
     "name": "stderr",
     "output_type": "stream",
     "text": [
      "Widget Javascript not detected.  It may not be installed or enabled properly.\n"
     ]
    },
    {
     "data": {
      "application/vnd.jupyter.widget-view+json": {
       "model_id": "872caffd34cf4a5192e30395e42df9cf"
      }
     },
     "metadata": {},
     "output_type": "display_data"
    },
    {
     "name": "stderr",
     "output_type": "stream",
     "text": [
      "Widget Javascript not detected.  It may not be installed or enabled properly.\n"
     ]
    },
    {
     "data": {
      "application/vnd.jupyter.widget-view+json": {
       "model_id": "74f50416a8f84eacbe12f03e4fb80621"
      }
     },
     "metadata": {},
     "output_type": "display_data"
    },
    {
     "name": "stderr",
     "output_type": "stream",
     "text": [
      "Widget Javascript not detected.  It may not be installed or enabled properly.\n"
     ]
    },
    {
     "data": {
      "application/vnd.jupyter.widget-view+json": {
       "model_id": "3a7cf5a7f1e348deba6dbaaacff4dffb"
      }
     },
     "metadata": {},
     "output_type": "display_data"
    },
    {
     "name": "stderr",
     "output_type": "stream",
     "text": [
      "Widget Javascript not detected.  It may not be installed or enabled properly.\n"
     ]
    },
    {
     "data": {
      "application/vnd.jupyter.widget-view+json": {
       "model_id": "1d7d0f757ec34235969bc1547d0ed3d9"
      }
     },
     "metadata": {},
     "output_type": "display_data"
    },
    {
     "name": "stderr",
     "output_type": "stream",
     "text": [
      "Widget Javascript not detected.  It may not be installed or enabled properly.\n"
     ]
    },
    {
     "data": {
      "application/vnd.jupyter.widget-view+json": {
       "model_id": "490670b19c59466884e149081256ad4a"
      }
     },
     "metadata": {},
     "output_type": "display_data"
    },
    {
     "name": "stderr",
     "output_type": "stream",
     "text": [
      "Widget Javascript not detected.  It may not be installed or enabled properly.\n"
     ]
    },
    {
     "data": {
      "application/vnd.jupyter.widget-view+json": {
       "model_id": "785e89c1d3d04b7399045c15949f2609"
      }
     },
     "metadata": {},
     "output_type": "display_data"
    },
    {
     "name": "stderr",
     "output_type": "stream",
     "text": [
      "Widget Javascript not detected.  It may not be installed or enabled properly.\n"
     ]
    },
    {
     "data": {
      "application/vnd.jupyter.widget-view+json": {
       "model_id": "facd16b0eb2c4c5ca78428b7677b1b89"
      }
     },
     "metadata": {},
     "output_type": "display_data"
    },
    {
     "name": "stderr",
     "output_type": "stream",
     "text": [
      "Widget Javascript not detected.  It may not be installed or enabled properly.\n"
     ]
    },
    {
     "data": {
      "application/vnd.jupyter.widget-view+json": {
       "model_id": "cc13872b0acf422c93dd4f30ef6e836d"
      }
     },
     "metadata": {},
     "output_type": "display_data"
    },
    {
     "name": "stderr",
     "output_type": "stream",
     "text": [
      "Widget Javascript not detected.  It may not be installed or enabled properly.\n"
     ]
    },
    {
     "data": {
      "application/vnd.jupyter.widget-view+json": {
       "model_id": "6cc1ea0cbc4a4d3dbdafb361f974199e"
      }
     },
     "metadata": {},
     "output_type": "display_data"
    },
    {
     "name": "stderr",
     "output_type": "stream",
     "text": [
      "Widget Javascript not detected.  It may not be installed or enabled properly.\n"
     ]
    },
    {
     "data": {
      "application/vnd.jupyter.widget-view+json": {
       "model_id": "b536c3c064ff4e818d0bc6ac3e4ec9fb"
      }
     },
     "metadata": {},
     "output_type": "display_data"
    },
    {
     "name": "stderr",
     "output_type": "stream",
     "text": [
      "Widget Javascript not detected.  It may not be installed or enabled properly.\n"
     ]
    },
    {
     "data": {
      "application/vnd.jupyter.widget-view+json": {
       "model_id": "1841392f80434558ab1690c9940b6e5a"
      }
     },
     "metadata": {},
     "output_type": "display_data"
    },
    {
     "name": "stderr",
     "output_type": "stream",
     "text": [
      "Widget Javascript not detected.  It may not be installed or enabled properly.\n"
     ]
    },
    {
     "data": {
      "application/vnd.jupyter.widget-view+json": {
       "model_id": "5b2261c5a17041d0b62b2d7c3d42d2aa"
      }
     },
     "metadata": {},
     "output_type": "display_data"
    },
    {
     "name": "stderr",
     "output_type": "stream",
     "text": [
      "Widget Javascript not detected.  It may not be installed or enabled properly.\n"
     ]
    },
    {
     "data": {
      "application/vnd.jupyter.widget-view+json": {
       "model_id": "3f0ec4bb0d7e40c5ad4513c39466e9bd"
      }
     },
     "metadata": {},
     "output_type": "display_data"
    },
    {
     "name": "stderr",
     "output_type": "stream",
     "text": [
      "Widget Javascript not detected.  It may not be installed or enabled properly.\n"
     ]
    },
    {
     "data": {
      "application/vnd.jupyter.widget-view+json": {
       "model_id": "7c5e443d781a421381fb32cf5f6970ee"
      }
     },
     "metadata": {},
     "output_type": "display_data"
    },
    {
     "name": "stderr",
     "output_type": "stream",
     "text": [
      "Widget Javascript not detected.  It may not be installed or enabled properly.\n"
     ]
    },
    {
     "data": {
      "application/vnd.jupyter.widget-view+json": {
       "model_id": "ebaa472d123c47e387c285079e11afdf"
      }
     },
     "metadata": {},
     "output_type": "display_data"
    },
    {
     "name": "stderr",
     "output_type": "stream",
     "text": [
      "Widget Javascript not detected.  It may not be installed or enabled properly.\n"
     ]
    },
    {
     "data": {
      "application/vnd.jupyter.widget-view+json": {
       "model_id": "0e956c8f0cf943f3b0cd4cd10e1f4d2d"
      }
     },
     "metadata": {},
     "output_type": "display_data"
    },
    {
     "name": "stderr",
     "output_type": "stream",
     "text": [
      "Widget Javascript not detected.  It may not be installed or enabled properly.\n"
     ]
    },
    {
     "data": {
      "application/vnd.jupyter.widget-view+json": {
       "model_id": "8652d96ba9e744b2bd3eefa9627d709e"
      }
     },
     "metadata": {},
     "output_type": "display_data"
    },
    {
     "name": "stderr",
     "output_type": "stream",
     "text": [
      "Widget Javascript not detected.  It may not be installed or enabled properly.\n"
     ]
    },
    {
     "data": {
      "application/vnd.jupyter.widget-view+json": {
       "model_id": "6f0621dd3c8f484586ec9cc1a9816dae"
      }
     },
     "metadata": {},
     "output_type": "display_data"
    },
    {
     "name": "stderr",
     "output_type": "stream",
     "text": [
      "Widget Javascript not detected.  It may not be installed or enabled properly.\n"
     ]
    },
    {
     "data": {
      "application/vnd.jupyter.widget-view+json": {
       "model_id": "1147c0dfa0f34ec2bfe69c20e2291bd9"
      }
     },
     "metadata": {},
     "output_type": "display_data"
    },
    {
     "name": "stderr",
     "output_type": "stream",
     "text": [
      "Widget Javascript not detected.  It may not be installed or enabled properly.\n"
     ]
    },
    {
     "data": {
      "application/vnd.jupyter.widget-view+json": {
       "model_id": "ab79e781172a46079047d7f36d14c1e1"
      }
     },
     "metadata": {},
     "output_type": "display_data"
    },
    {
     "name": "stderr",
     "output_type": "stream",
     "text": [
      "Widget Javascript not detected.  It may not be installed or enabled properly.\n"
     ]
    },
    {
     "data": {
      "application/vnd.jupyter.widget-view+json": {
       "model_id": "156880c40f094c78aac46f6d4d06274c"
      }
     },
     "metadata": {},
     "output_type": "display_data"
    },
    {
     "name": "stderr",
     "output_type": "stream",
     "text": [
      "Widget Javascript not detected.  It may not be installed or enabled properly.\n"
     ]
    },
    {
     "data": {
      "application/vnd.jupyter.widget-view+json": {
       "model_id": "73ae42563ce14e0b8533a586b8097113"
      }
     },
     "metadata": {},
     "output_type": "display_data"
    },
    {
     "name": "stderr",
     "output_type": "stream",
     "text": [
      "Widget Javascript not detected.  It may not be installed or enabled properly.\n"
     ]
    },
    {
     "data": {
      "application/vnd.jupyter.widget-view+json": {
       "model_id": "cde578804d624bc8a8f525bc40dcaafa"
      }
     },
     "metadata": {},
     "output_type": "display_data"
    },
    {
     "name": "stderr",
     "output_type": "stream",
     "text": [
      "Widget Javascript not detected.  It may not be installed or enabled properly.\n"
     ]
    },
    {
     "data": {
      "application/vnd.jupyter.widget-view+json": {
       "model_id": "dc48037b197e4d72867c7f1e85108534"
      }
     },
     "metadata": {},
     "output_type": "display_data"
    },
    {
     "name": "stderr",
     "output_type": "stream",
     "text": [
      "Widget Javascript not detected.  It may not be installed or enabled properly.\n"
     ]
    },
    {
     "data": {
      "application/vnd.jupyter.widget-view+json": {
       "model_id": "b905e356cdaa4432879fb1f89661c552"
      }
     },
     "metadata": {},
     "output_type": "display_data"
    },
    {
     "name": "stderr",
     "output_type": "stream",
     "text": [
      "Widget Javascript not detected.  It may not be installed or enabled properly.\n"
     ]
    },
    {
     "data": {
      "application/vnd.jupyter.widget-view+json": {
       "model_id": "37e779bc862e420781cc9cd19f316781"
      }
     },
     "metadata": {},
     "output_type": "display_data"
    },
    {
     "name": "stderr",
     "output_type": "stream",
     "text": [
      "Widget Javascript not detected.  It may not be installed or enabled properly.\n"
     ]
    },
    {
     "data": {
      "application/vnd.jupyter.widget-view+json": {
       "model_id": "8f62f2c11f5940898472da0153168742"
      }
     },
     "metadata": {},
     "output_type": "display_data"
    },
    {
     "name": "stderr",
     "output_type": "stream",
     "text": [
      "Widget Javascript not detected.  It may not be installed or enabled properly.\n"
     ]
    },
    {
     "data": {
      "application/vnd.jupyter.widget-view+json": {
       "model_id": "640bf5f6d03c41b4aeaad117a5176cfb"
      }
     },
     "metadata": {},
     "output_type": "display_data"
    },
    {
     "name": "stderr",
     "output_type": "stream",
     "text": [
      "Widget Javascript not detected.  It may not be installed or enabled properly.\n"
     ]
    },
    {
     "data": {
      "application/vnd.jupyter.widget-view+json": {
       "model_id": "c5ade4fd6772437cb1a97d267813803f"
      }
     },
     "metadata": {},
     "output_type": "display_data"
    },
    {
     "name": "stderr",
     "output_type": "stream",
     "text": [
      "Widget Javascript not detected.  It may not be installed or enabled properly.\n"
     ]
    },
    {
     "data": {
      "application/vnd.jupyter.widget-view+json": {
       "model_id": "2ca8c5321f4b40c69a2aad10dd639c1d"
      }
     },
     "metadata": {},
     "output_type": "display_data"
    },
    {
     "name": "stderr",
     "output_type": "stream",
     "text": [
      "Widget Javascript not detected.  It may not be installed or enabled properly.\n"
     ]
    },
    {
     "data": {
      "application/vnd.jupyter.widget-view+json": {
       "model_id": "7e6831f581a64c03b8056218755792e2"
      }
     },
     "metadata": {},
     "output_type": "display_data"
    },
    {
     "name": "stderr",
     "output_type": "stream",
     "text": [
      "Widget Javascript not detected.  It may not be installed or enabled properly.\n"
     ]
    },
    {
     "data": {
      "application/vnd.jupyter.widget-view+json": {
       "model_id": "501b929d537b4212b1b4ee7730dde3a2"
      }
     },
     "metadata": {},
     "output_type": "display_data"
    },
    {
     "name": "stderr",
     "output_type": "stream",
     "text": [
      "Widget Javascript not detected.  It may not be installed or enabled properly.\n"
     ]
    },
    {
     "data": {
      "application/vnd.jupyter.widget-view+json": {
       "model_id": "38e02ddd0158408394957d66d70c67ab"
      }
     },
     "metadata": {},
     "output_type": "display_data"
    },
    {
     "name": "stderr",
     "output_type": "stream",
     "text": [
      "Widget Javascript not detected.  It may not be installed or enabled properly.\n"
     ]
    },
    {
     "data": {
      "application/vnd.jupyter.widget-view+json": {
       "model_id": "57cca2f74079465c9ca12c86936cd6cc"
      }
     },
     "metadata": {},
     "output_type": "display_data"
    },
    {
     "name": "stderr",
     "output_type": "stream",
     "text": [
      "Widget Javascript not detected.  It may not be installed or enabled properly.\n"
     ]
    },
    {
     "data": {
      "application/vnd.jupyter.widget-view+json": {
       "model_id": "e1bb1d883a9f466ba5b57684b925f164"
      }
     },
     "metadata": {},
     "output_type": "display_data"
    },
    {
     "name": "stderr",
     "output_type": "stream",
     "text": [
      "Widget Javascript not detected.  It may not be installed or enabled properly.\n"
     ]
    },
    {
     "data": {
      "application/vnd.jupyter.widget-view+json": {
       "model_id": "eb766e6f82474fb784e07db4f1d6ca1f"
      }
     },
     "metadata": {},
     "output_type": "display_data"
    },
    {
     "name": "stderr",
     "output_type": "stream",
     "text": [
      "Widget Javascript not detected.  It may not be installed or enabled properly.\n"
     ]
    },
    {
     "data": {
      "application/vnd.jupyter.widget-view+json": {
       "model_id": "a7fb7e2378474cb2ac2b6f9c25b43eb7"
      }
     },
     "metadata": {},
     "output_type": "display_data"
    },
    {
     "name": "stdout",
     "output_type": "stream",
     "text": [
      "Dataset imdb_reviews downloaded and prepared to C:\\Users\\14020\\tensorflow_datasets\\imdb_reviews\\subwords8k\\0.1.0. Subsequent calls will reuse this data.\n"
     ]
    },
    {
     "name": "stderr",
     "output_type": "stream",
     "text": [
      "WARNING:absl:Warning: Setting shuffle_files=True because split=TRAIN and shuffle_files=None. This behavior will be deprecated on 2019-08-06, at which point shuffle_files=False will be the default for all splits.\n"
     ]
    }
   ],
   "source": [
    "import tensorflow_datasets as tfds\n",
    "dataset, info = tfds.load('imdb_reviews/subwords8k', with_info=True,as_supervised=True)"
   ]
  },
  {
   "cell_type": "code",
   "execution_count": null,
   "metadata": {
    "collapsed": true
   },
   "outputs": [],
   "source": [
    "train_dataset, test_dataset = dataset['train'], dataset['test']\n",
    "tokenizer = info.features['text'].encoder\n",
    "print('vocabulary size: ', tokenizer.vocab_size)\n"
   ]
  },
  {
   "cell_type": "code",
   "execution_count": null,
   "metadata": {
    "collapsed": true
   },
   "outputs": [],
   "source": []
  },
  {
   "cell_type": "code",
   "execution_count": null,
   "metadata": {
    "collapsed": true
   },
   "outputs": [],
   "source": []
  },
  {
   "cell_type": "code",
   "execution_count": null,
   "metadata": {
    "collapsed": true
   },
   "outputs": [],
   "source": []
  },
  {
   "cell_type": "code",
   "execution_count": null,
   "metadata": {
    "collapsed": true
   },
   "outputs": [],
   "source": []
  }
 ],
 "metadata": {
  "kernelspec": {
   "display_name": "Python [conda env:tensorflow]",
   "language": "python",
   "name": "conda-env-tensorflow-py"
  },
  "language_info": {
   "codemirror_mode": {
    "name": "ipython",
    "version": 3
   },
   "file_extension": ".py",
   "mimetype": "text/x-python",
   "name": "python",
   "nbconvert_exporter": "python",
   "pygments_lexer": "ipython3",
   "version": "3.5.2"
  }
 },
 "nbformat": 4,
 "nbformat_minor": 2
}
