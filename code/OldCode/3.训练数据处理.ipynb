{
 "cells": [
  {
   "cell_type": "code",
   "execution_count": 58,
   "metadata": {
    "collapsed": true
   },
   "outputs": [],
   "source": [
    "import numpy as np\n",
    "import pandas as pd\n",
    "from math import floor\n",
    "mouthday={1:31,2:31,3:28,4:31,5:30,6:31,7:30,8:31,9:31,10:30,11:31,12:30}\n",
    "def solvetimediff(t2, t1):#这个函数只要在同一个月份就可以计算很正确\n",
    "    t1sec = t1 % 100\n",
    "    t2sec = t2 % 100\n",
    "    t1 = floor(t1 / 100)\n",
    "    t2 = floor(t2 / 100)\n",
    "    t1min = t1 % 100\n",
    "    t2min = t2 % 100\n",
    "    t1 = floor(t1 / 100)\n",
    "    t2 = floor(t2 / 100)\n",
    "    t1hour = t1 % 100\n",
    "    t2hour = t2 % 100\n",
    "    t1 = floor(t1 / 100)\n",
    "    t2 = floor(t2 / 100)\n",
    "    t1day = t1 % 100\n",
    "    t2day = t2 % 100\n",
    "    t1 = floor(t1 / 100)\n",
    "    t2 = floor(t2 / 100)\n",
    "    t1mth = t1 % 100\n",
    "    t2mth = t2 % 100\n",
    "    if t2sec < t1sec:\n",
    "        t2min = t2min - 1\n",
    "        t3sec = t2sec + 60 - t1sec\n",
    "    else:\n",
    "        t3sec = t2sec - t1sec\n",
    "    if t2min < t1min:\n",
    "        t2hour = t2hour - 1\n",
    "        t3min = t2min + 60 - t1min\n",
    "    else:\n",
    "        t3min = t2min - t1min\n",
    "    if t2hour < t1hour:\n",
    "        t2day = t2day - 1\n",
    "        t3hour = t2hour + 24 - t1hour\n",
    "    else:\n",
    "        t3hour = t2hour - t1hour\n",
    "    if t2day < t1day:\n",
    "        t2mth = t2mth - 1\n",
    "        t3day = t2day + mouthday[t2mth] - t1day\n",
    "    else:\n",
    "        t3day = t2day - t1day\n",
    "    return t3sec+t3min*60+t3hour*3600+t3day*86400\n",
    "def addsecmilediff(df):\n",
    "    timediff = []\n",
    "    time = df.time.tolist()\n",
    "    for index, t in enumerate(time):\n",
    "        if(t==time[0]):\n",
    "            timediff.append(0)\n",
    "            continue\n",
    "        timediff.append(solvetimediff(t,time[index-1]))\n",
    "    df['secdiff']=timediff\n",
    "    return df"
   ]
  },
  {
   "cell_type": "code",
   "execution_count": 59,
   "metadata": {},
   "outputs": [],
   "source": [
    "import numpy as np\n",
    "import pandas as pd\n",
    "testdata1=[]\n",
    "for number in range(5):\n",
    "    for fragment in range(10):\n",
    "        path=r\"C:\\Users\\14020\\Desktop\\NCBDC 2019\\TestData\"+'\\\\'+\"Vehicle No.\"+str(number)+\"_Fragment No.\"+str(fragment)+\".csv\"\n",
    "        df=addsecmilediff(pd.read_csv(path))\n",
    "        index=df.loc[df.total_voltage==0.0].loc[df.total_current==0.0].loc[df.soc==0.0].index\n",
    "        df=df.drop(index)\n",
    "        testdata1.append(df)\n",
    "for number in range(5,15):\n",
    "    for fragment in range(5):\n",
    "        path=r\"C:\\Users\\14020\\Desktop\\NCBDC 2019\\TestData\"+'\\\\'+\"Vehicle No.\"+str(number)+\"_Fragment No.\"+str(fragment)+\".csv\"\n",
    "        df=addsecmilediff(pd.read_csv(path))\n",
    "        index=df.loc[df.total_voltage==0.0].loc[df.total_current==0.0].loc[df.soc==0.0].index\n",
    "        df=df.drop(index)\n",
    "        testdata1.append(df)"
   ]
  },
  {
   "cell_type": "code",
   "execution_count": 60,
   "metadata": {},
   "outputs": [],
   "source": [
    "from scipy.interpolate import lagrange\n",
    "def interp_lagrange(data,p,k=3):#我就看了一些时间差过长但是里程差小于0.3的数据 soc是没有变化的 所以我拉格朗日插值的时候选取前后3个数据作为基函数\n",
    "    # 调用拉格朗日插值，得到插值函数p\n",
    "    num=int(data.loc[p].secdiff/10-1)\n",
    "    index=np.hstack((np.array([i+p-k for i in range(k)]),np.array([i+p+1 for i in range(k)])))\n",
    "    x=np.hstack((np.array([i for i in range(k)]),np.array([i for i in range(k+num,2*k+num)])))\n",
    "    xx=np.array([i for i in range(k,k+num)])\n",
    "    indexdata=data.loc[index]\n",
    "    total_voltagep=lagrange(x,indexdata.total_voltage.to_numpy())\n",
    "    total_currentp=lagrange(x,indexdata.total_current.to_numpy())\n",
    "    socp=lagrange(x,indexdata.soc.to_numpy())\n",
    "    temp_maxp=lagrange(x,indexdata.temp_max.to_numpy())\n",
    "    temp_minp=lagrange(x,indexdata.temp_min.to_numpy())\n",
    "    motor_voltagep=lagrange(x,indexdata.motor_voltage.to_numpy())\n",
    "    motor_currentp=lagrange(x,indexdata.motor_current.to_numpy())\n",
    "    new=pd.DataFrame(columns=data.columns)\n",
    "    for i in range(num):\n",
    "        new.loc[i]=[20180000000000,total_voltagep(xx)[i],total_currentp(xx)[i],socp(xx)[i],temp_maxp(xx)[i],temp_minp(xx)[i],motor_voltagep(xx)[i],motor_currentp(xx)[i],0,10]\n",
    "    if len(data)==p:\n",
    "        data=pd.concat([data.loc[0:p-1],new],ignore_index=True)\n",
    "    else:\n",
    "        data=pd.concat([data.loc[0:p-1],new,data.loc[p:]],ignore_index=True)\n",
    "    return data"
   ]
  },
  {
   "cell_type": "code",
   "execution_count": 61,
   "metadata": {
    "scrolled": true
   },
   "outputs": [
    {
     "name": "stderr",
     "output_type": "stream",
     "text": [
      "D:\\ANACONDA\\envs\\tensorflow\\lib\\site-packages\\ipykernel\\__main__.py:8: FutureWarning: \n",
      "Passing list-likes to .loc or [] with any missing label will raise\n",
      "KeyError in the future, you can use .reindex() as an alternative.\n",
      "\n",
      "See the documentation here:\n",
      "https://pandas.pydata.org/pandas-docs/stable/indexing.html#deprecate-loc-reindex-listlike\n"
     ]
    }
   ],
   "source": [
    "for number in range(75):\n",
    "    df=testdata1[number]\n",
    "    if(len(df.loc[df.secdiff>10].loc[df.secdiff<100])):\n",
    "        index=df.loc[df.secdiff>10].loc[df.secdiff<100].index\n",
    "        size=len(index)\n",
    "        for i in range(size):\n",
    "            cutpoint=df.loc[df.secdiff<100].loc[df.secdiff>=20].index[i]\n",
    "            df=interp_lagrange(df,cutpoint,k=1)\n",
    "    df.to_csv(r\"C:\\Users\\14020\\Desktop\\NCBDC 2019\\clearTestData\"+'\\\\'+str(number)+\".csv\")"
   ]
  },
  {
   "cell_type": "code",
   "execution_count": null,
   "metadata": {
    "collapsed": true
   },
   "outputs": [],
   "source": []
  }
 ],
 "metadata": {
  "kernelspec": {
   "display_name": "Python [conda env:tensorflow]",
   "language": "python",
   "name": "conda-env-tensorflow-py"
  },
  "language_info": {
   "codemirror_mode": {
    "name": "ipython",
    "version": 3
   },
   "file_extension": ".py",
   "mimetype": "text/x-python",
   "name": "python",
   "nbconvert_exporter": "python",
   "pygments_lexer": "ipython3",
   "version": "3.5.2"
  }
 },
 "nbformat": 4,
 "nbformat_minor": 2
}
